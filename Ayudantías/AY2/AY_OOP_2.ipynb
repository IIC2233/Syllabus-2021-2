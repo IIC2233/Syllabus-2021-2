{
 "cells": [
  {
   "cell_type": "markdown",
   "source": [
    "# **Ayudantía 2: OOP-2**\n",
    "\n",
    "## Autores:\n",
    " - Camila González ([@camilagonzalezp](https://github.com/camilagonzalezp))\n",
    " - Miguel Martínez ([@miguel-mrtnez](https://github.com/miguel-mrtnez))\n",
    " - Carolina Moya ([@cimoya2](https://github.com/cimoya2))\n",
    " - Manuel Muñoz ([@Mamunoz42](https://github.com/Mamunoz42))"
   ],
   "metadata": {
    "slideshow": {
     "slide_type": "slide"
    }
   }
  },
  {
   "cell_type": "markdown",
   "source": [
    "# Diagrama de clases\n",
    "* Es una herramienta muy útil que permite visualizar fácilmente las **clases** que componen un sistema, sus **atributos**, **métodos** y las **interacciones** que existen entre ellas.\n",
    "* Realizar un diagrama de clases antes de codificar los programas permite planificarlos de forma mucho más organizada."
   ],
   "metadata": {
    "slideshow": {
     "slide_type": "slide"
    }
   }
  },
  {
   "cell_type": "markdown",
   "source": [
    "## Elementos de un diagrama de clases\n",
    "Un diagrama de clases se compone de **clases** y **relaciones**."
   ],
   "metadata": {
    "slideshow": {
     "slide_type": "subslide"
    }
   }
  },
  {
   "cell_type": "markdown",
   "source": [
    "### Clases\n",
    "* Estructuras básicas que encapsulan la información.\n",
    "* Se representan gráficamente con un rectángulo dividido en tres niveles:\n",
    "\n",
    "![Diamante](img/estructura_diagrama_de_clases.png 'Estructura diagrama de clases')"
   ],
   "metadata": {
    "slideshow": {
     "slide_type": "fragment"
    }
   }
  },
  {
   "cell_type": "markdown",
   "source": [
    "### Relaciones\n",
    "* Interacción entre las clases dentro del sistema que se está modelando. \n",
    "* Las más comunes son: **composición**, **agregación** y **herencia**."
   ],
   "metadata": {
    "slideshow": {
     "slide_type": "subslide"
    }
   }
  },
  {
   "cell_type": "markdown",
   "source": [
    "#### Composición\n",
    "* Los objetos de la clase que creamos se contruyen a partir de la inclusión de otros elementos.\n",
    "* La existencia de los objetos incluidos depende de la existencia del objeto que los incluye.\n",
    "* Se representa con una flecha que parte desde el objeto base y va hasta el objeto que componemos. La base de la flecha es un rombo relleno."
   ],
   "metadata": {
    "slideshow": {
     "slide_type": "subslide"
    }
   }
  },
  {
   "cell_type": "markdown",
   "source": [
    "#### Agregación\n",
    "* También se construye la clase base usando otros objetos, pero en este caso, el tiempo de vida del objeto que agregamos es independiente del tiempo de vida del objeto que lo incluye.\n",
    "* Se representa con una flecha que parte desde el objeto base y va hasta el objeto que agregamos. La base de la flecha es un rombo sin rellenar."
   ],
   "metadata": {
    "slideshow": {
     "slide_type": "subslide"
    }
   }
  },
  {
   "cell_type": "markdown",
   "source": [
    "### Cardinalidad de las relaciones\n",
    "* Tanto para la composición como la agregación, la **cardinalidad** indica el grado y nivel de dependencia entre las relaciones.\n",
    "* La cardinalidad se indica en cada extremo de la relación, y se pueden presentar 3 casos:\n",
    "    - 1 o muchos: 1..*\n",
    "    - 0 o muchos: 0..*\n",
    "    - Número fijo: n"
   ],
   "metadata": {
    "slideshow": {
     "slide_type": "subslide"
    }
   }
  },
  {
   "cell_type": "markdown",
   "source": [
    "#### Herencia\n",
    "* Es una relación en que una **subclase** hereda atributos y métodos desde una **superclase**. \n",
    "* La **subclase** posee todos los atributos y métodos de la **superclase**, pero además puede tener sus propios métodos y atributos específicos.\n",
    "* Se representa con una flecha de punta vacía que apunta hacia la superclase."
   ],
   "metadata": {
    "slideshow": {
     "slide_type": "subslide"
    }
   }
  },
  {
   "cell_type": "markdown",
   "source": [
    "#### Ejemplo!\n",
    "<img src=\"img/ejemplo_diagrama_de_clases.png\" width=\"800\">"
   ],
   "metadata": {
    "slideshow": {
     "slide_type": "subslide"
    }
   }
  },
  {
   "cell_type": "markdown",
   "source": [
    "# Multiherencia\n",
    "\n",
    "\n",
    "Con multiherencia es posible crear clases que heredan de más de una clase 😱"
   ],
   "metadata": {
    "slideshow": {
     "slide_type": "slide"
    }
   }
  },
  {
   "cell_type": "markdown",
   "source": [
    "### Veamos un ejemplo 👀\n",
    "Supongamos una clase Artista que representa a una persona que trabaja en el área del espectáculo. Dentro del rubro podemos encontrar a un Cantante, un Actor o un Bailarin, los cuales haremos que hereden de la clase Artista:"
   ],
   "metadata": {
    "slideshow": {
     "slide_type": "fragment"
    }
   }
  },
  {
   "cell_type": "code",
   "execution_count": 1,
   "source": [
    "class Artista():\n",
    "\n",
    "    def __init__(self, nombre, tiempo):\n",
    "        self.nombre = nombre\n",
    "        self.tiempo_carrera = tiempo\n",
    "    \n",
    "    def presentacion(self):\n",
    "        print(f\"Hola! Me llamo {self.nombre} y llevo {self.tiempo_carrera} años de carrera como artista.\")"
   ],
   "outputs": [],
   "metadata": {
    "slideshow": {
     "slide_type": "subslide"
    }
   }
  },
  {
   "cell_type": "code",
   "execution_count": 2,
   "source": [
    "class Cantante(Artista):\n",
    "\n",
    "    def __init__(self, nombre, tiempo, musica, numero_albumes):\n",
    "        super().__init__(nombre,tiempo)\n",
    "        self.estilo_musica = musica\n",
    "        self.albumes = numero_albumes\n",
    "        \n",
    "    def presentacion(self):\n",
    "        Artista.presentacion(self)\n",
    "        print(f'Soy cantante de {self.estilo_musica} y he grabado {self.albumes} albumes.')\n"
   ],
   "outputs": [],
   "metadata": {
    "slideshow": {
     "slide_type": "subslide"
    }
   }
  },
  {
   "cell_type": "code",
   "execution_count": null,
   "source": [
    "class Bailarin(Artista):\n",
    "\n",
    "    def __init__(self, nombre, tiempo, estilo):\n",
    "        super().__init__(nombre, tiempo)\n",
    "        self.estilo_baile = estilo\n",
    "        self.horas_entrenamiento = 5\n",
    "    \n",
    "    def presentacion(self):\n",
    "        Artista.presentacion(self)\n",
    "        print(f'Soy bailarin de {self.estilo_baile} y entreno {self.horas_entrenamiento} horas al día.')"
   ],
   "outputs": [],
   "metadata": {
    "slideshow": {
     "slide_type": "subslide"
    }
   }
  },
  {
   "cell_type": "code",
   "execution_count": null,
   "source": [
    "class Actor(Artista):\n",
    "\n",
    "    def __init__(self, nombre, tiempo, numero_peliculas, numero_series):\n",
    "        super().__init__(nombre, tiempo)\n",
    "        self.peliculas = numero_peliculas\n",
    "        self.series = numero_series\n",
    "    \n",
    "    def presentacion(self):\n",
    "        Artista.presentacion(self)\n",
    "        print(f'Soy actor, he salido en {self.peliculas} peliculas y {self.series} series.')"
   ],
   "outputs": [],
   "metadata": {
    "slideshow": {
     "slide_type": "subslide"
    }
   }
  },
  {
   "cell_type": "markdown",
   "source": [
    "Ahora nuestro artista favorito puede hacerse famoso y comenzar a ganar premios😎 Creamos la clase Famoso que hereda de Cantante, Bailarin y Actor (porque obvio, las hace todas):"
   ],
   "metadata": {
    "slideshow": {
     "slide_type": "subslide"
    }
   }
  },
  {
   "cell_type": "code",
   "execution_count": 3,
   "source": [
    "class Famoso(Cantante, Bailarin, Actor):\n",
    "\n",
    "    def __init__(self, premios, nombre, tiempo, musica, albumes, estilo, peliculas, series):\n",
    "        # Solo un llamado, con todos los argumentos que tenemos\n",
    "        super().__init__(nombre, tiempo, musica, albumes, estilo, peliculas, series)\n",
    "        self.premios = premios\n",
    "    \n",
    "    def presentacion(self):\n",
    "        Cantante.presentacion(self)\n",
    "        Bailarin.presentacion(self)\n",
    "        Actor.presentacion(self)\n",
    "        print(f\"He ganado {self.premios} premios.\")\n",
    "\n",
    "famoso = Famoso(17, \"Chayanne\", 43, \"pop latino\", 22, \"pop\", 4, 10)"
   ],
   "outputs": [
    {
     "output_type": "error",
     "ename": "TypeError",
     "evalue": "__init__() takes 5 positional arguments but 8 were given",
     "traceback": [
      "\u001b[0;31m---------------------------------------------------------------------------\u001b[0m",
      "\u001b[0;31mTypeError\u001b[0m                                 Traceback (most recent call last)",
      "\u001b[0;32m<ipython-input-3-9bdf8675bdd9>\u001b[0m in \u001b[0;36m<module>\u001b[0;34m\u001b[0m\n\u001b[1;32m     12\u001b[0m         \u001b[0mprint\u001b[0m\u001b[0;34m(\u001b[0m\u001b[0;34mf\"He ganado {self.premios} premios.\"\u001b[0m\u001b[0;34m)\u001b[0m\u001b[0;34m\u001b[0m\u001b[0;34m\u001b[0m\u001b[0m\n\u001b[1;32m     13\u001b[0m \u001b[0;34m\u001b[0m\u001b[0m\n\u001b[0;32m---> 14\u001b[0;31m \u001b[0mfamoso\u001b[0m \u001b[0;34m=\u001b[0m \u001b[0mFamoso\u001b[0m\u001b[0;34m(\u001b[0m\u001b[0;36m17\u001b[0m\u001b[0;34m,\u001b[0m \u001b[0;34m\"Chayanne\"\u001b[0m\u001b[0;34m,\u001b[0m \u001b[0;36m43\u001b[0m\u001b[0;34m,\u001b[0m \u001b[0;34m\"pop latino\"\u001b[0m\u001b[0;34m,\u001b[0m \u001b[0;36m22\u001b[0m\u001b[0;34m,\u001b[0m \u001b[0;34m\"pop\"\u001b[0m\u001b[0;34m,\u001b[0m \u001b[0;36m4\u001b[0m\u001b[0;34m,\u001b[0m \u001b[0;36m10\u001b[0m\u001b[0;34m)\u001b[0m\u001b[0;34m\u001b[0m\u001b[0;34m\u001b[0m\u001b[0m\n\u001b[0m",
      "\u001b[0;32m<ipython-input-3-9bdf8675bdd9>\u001b[0m in \u001b[0;36m__init__\u001b[0;34m(self, premios, nombre, tiempo, musica, albumes, estilo, peliculas, series)\u001b[0m\n\u001b[1;32m      3\u001b[0m     \u001b[0;32mdef\u001b[0m \u001b[0m__init__\u001b[0m\u001b[0;34m(\u001b[0m\u001b[0mself\u001b[0m\u001b[0;34m,\u001b[0m \u001b[0mpremios\u001b[0m\u001b[0;34m,\u001b[0m \u001b[0mnombre\u001b[0m\u001b[0;34m,\u001b[0m \u001b[0mtiempo\u001b[0m\u001b[0;34m,\u001b[0m \u001b[0mmusica\u001b[0m\u001b[0;34m,\u001b[0m \u001b[0malbumes\u001b[0m\u001b[0;34m,\u001b[0m \u001b[0mestilo\u001b[0m\u001b[0;34m,\u001b[0m \u001b[0mpeliculas\u001b[0m\u001b[0;34m,\u001b[0m \u001b[0mseries\u001b[0m\u001b[0;34m)\u001b[0m\u001b[0;34m:\u001b[0m\u001b[0;34m\u001b[0m\u001b[0;34m\u001b[0m\u001b[0m\n\u001b[1;32m      4\u001b[0m         \u001b[0;31m# Solo un llamado, con todos los argumentos que tenemos\u001b[0m\u001b[0;34m\u001b[0m\u001b[0;34m\u001b[0m\u001b[0;34m\u001b[0m\u001b[0m\n\u001b[0;32m----> 5\u001b[0;31m         \u001b[0msuper\u001b[0m\u001b[0;34m(\u001b[0m\u001b[0;34m)\u001b[0m\u001b[0;34m.\u001b[0m\u001b[0m__init__\u001b[0m\u001b[0;34m(\u001b[0m\u001b[0mnombre\u001b[0m\u001b[0;34m,\u001b[0m \u001b[0mtiempo\u001b[0m\u001b[0;34m,\u001b[0m \u001b[0mmusica\u001b[0m\u001b[0;34m,\u001b[0m \u001b[0malbumes\u001b[0m\u001b[0;34m,\u001b[0m \u001b[0mestilo\u001b[0m\u001b[0;34m,\u001b[0m \u001b[0mpeliculas\u001b[0m\u001b[0;34m,\u001b[0m \u001b[0mseries\u001b[0m\u001b[0;34m)\u001b[0m\u001b[0;34m\u001b[0m\u001b[0;34m\u001b[0m\u001b[0m\n\u001b[0m\u001b[1;32m      6\u001b[0m         \u001b[0mself\u001b[0m\u001b[0;34m.\u001b[0m\u001b[0mpremios\u001b[0m \u001b[0;34m=\u001b[0m \u001b[0mpremios\u001b[0m\u001b[0;34m\u001b[0m\u001b[0;34m\u001b[0m\u001b[0m\n\u001b[1;32m      7\u001b[0m \u001b[0;34m\u001b[0m\u001b[0m\n",
      "\u001b[0;31mTypeError\u001b[0m: __init__() takes 5 positional arguments but 8 were given"
     ]
    }
   ],
   "metadata": {
    "slideshow": {
     "slide_type": "subslide"
    }
   }
  },
  {
   "cell_type": "markdown",
   "source": [
    "### Problema 😥\n",
    "Esto sucede porque cuando entregamos los argumentos a un inicializador, se ejecuta el ```__init__``` de la primera clase que hereda, en este caso Cantante que tiene 5 argumentos (porque no debemos olvidar el self), entonces cuando continua con las siguientes clases y sus atributos nos dice que entregamos más argumentos de los necesarios."
   ],
   "metadata": {
    "slideshow": {
     "slide_type": "subslide"
    }
   }
  },
  {
   "cell_type": "markdown",
   "source": [
    "### Solución: uso de * args y ** kwargs 🙌\n",
    "\n",
    "* ```*args```: secuencia de argumentos **posicionales** de largo variable (como una lista o tupla). El operador * desempaqueta el contenido de args y los pasa a la función según el orden en que vienen.\n",
    "* ```**kwargs```: secuencia de argumentos de largo variable, donde cada elemento de la lista tiene asociado un **keyword** (como un diccionario). El ** mapea los elementos en la función y los argumentos se asignan en función de su keyword."
   ],
   "metadata": {
    "slideshow": {
     "slide_type": "subslide"
    }
   }
  },
  {
   "cell_type": "markdown",
   "source": [
    "En esta situación ocuparemos ```**kwargs``` para que cada argumento se entregue a la subclase que corresponda:"
   ],
   "metadata": {
    "slideshow": {
     "slide_type": "subslide"
    }
   }
  },
  {
   "cell_type": "code",
   "execution_count": 15,
   "source": [
    "class Artista():\n",
    "\n",
    "    def __init__(self, nombre, tiempo, **kwargs):\n",
    "        super().__init__(**kwargs)\n",
    "        self.nombre = nombre\n",
    "        self.tiempo_carrera = tiempo\n",
    "    \n",
    "    def presentacion(self):\n",
    "        print(f\"Hola! Me llamo {self.nombre} y llevo {self.tiempo_carrera} años de carrera como artista.\")"
   ],
   "outputs": [],
   "metadata": {
    "slideshow": {
     "slide_type": "fragment"
    }
   }
  },
  {
   "cell_type": "code",
   "execution_count": 16,
   "source": [
    "class Cantante(Artista):\n",
    "\n",
    "    def __init__(self, musica, numero_albumes, **kwargs):\n",
    "        super().__init__(**kwargs)\n",
    "        self.estilo_musica = musica\n",
    "        self.albumes = numero_albumes\n",
    "        \n",
    "    def presentacion(self):\n",
    "        Artista.presentacion(self)\n",
    "        print(f'Soy cantante de {self.estilo_musica} y he grabado {self.albumes} albumes.')\n",
    "\n",
    "class Bailarin(Artista):\n",
    "\n",
    "    def __init__(self, estilo, **kwargs):\n",
    "        super().__init__(**kwargs)\n",
    "        self.estilo_baile = estilo\n",
    "        self.horas_entrenamiento = 5\n",
    "    \n",
    "    def presentacion(self):\n",
    "        Artista.presentacion(self)\n",
    "        print(f'Soy bailarin de {self.estilo_baile} y entreno {self.horas_entrenamiento} horas al día.')\n",
    "\n",
    "class Actor(Artista):\n",
    "\n",
    "    def __init__(self, numero_peliculas, numero_series, **kwargs):\n",
    "        super().__init__(**kwargs)\n",
    "        self.peliculas = numero_peliculas\n",
    "        self.series = numero_series\n",
    "    \n",
    "    def presentacion(self):\n",
    "        Artista.presentacion(self)\n",
    "        print(f'Soy actor, he salido en {self.peliculas} peliculas y {self.series} series.')"
   ],
   "outputs": [],
   "metadata": {
    "slideshow": {
     "slide_type": "subslide"
    }
   }
  },
  {
   "cell_type": "code",
   "execution_count": 17,
   "source": [
    "class Famoso(Cantante, Bailarin, Actor):\n",
    "\n",
    "    def __init__(self, premios, **kwargs):\n",
    "        # Solo un llamado, con todos los argumentos de las clases anteriores\n",
    "        super().__init__(**kwargs)\n",
    "        self.premios = premios\n",
    "    \n",
    "    def presentacion(self):\n",
    "        Cantante.presentacion(self)\n",
    "        Bailarin.presentacion(self)\n",
    "        Actor.presentacion(self)\n",
    "        print(f\"He ganado {self.premios} premios.\")\n",
    "\n",
    "famoso = Famoso(\n",
    "    17, nombre=\"Chayanne\", tiempo=43, musica=\"pop latino\", numero_albumes=22,\n",
    "    estilo=\"pop\", numero_peliculas=4, numero_series=10\n",
    "    )"
   ],
   "outputs": [],
   "metadata": {
    "slideshow": {
     "slide_type": "subslide"
    }
   }
  },
  {
   "cell_type": "markdown",
   "source": [
    "Super! Ahora hagamos que el famoso se presente (finjamos que no sabemos quien es chayanne)"
   ],
   "metadata": {
    "slideshow": {
     "slide_type": "subslide"
    }
   }
  },
  {
   "cell_type": "code",
   "execution_count": 18,
   "source": [
    "famoso.presentacion()"
   ],
   "outputs": [
    {
     "output_type": "stream",
     "name": "stdout",
     "text": [
      "Hola! Me llamo Chayanne y llevo 43 años de carrera como artista.\n",
      "Soy cantante de pop latino y he grabado 22 albumes.\n",
      "Hola! Me llamo Chayanne y llevo 43 años de carrera como artista.\n",
      "Soy bailarin de pop y entreno 5 horas al día.\n",
      "Hola! Me llamo Chayanne y llevo 43 años de carrera como artista.\n",
      "Soy actor, he salido en 4 peliculas y 10 series.\n",
      "He ganado 17 premios.\n"
     ]
    }
   ],
   "metadata": {
    "slideshow": {
     "slide_type": "fragment"
    }
   }
  },
  {
   "cell_type": "markdown",
   "source": [
    "### Problema del diamante! 😨\n",
    "\n",
    "\n",
    "Como podemos observar, el método presentación que está en Artista es llamado 3 veces, cada uno hecho por las subclases Cantante, Bailarín y Actor."
   ],
   "metadata": {
    "slideshow": {
     "slide_type": "subslide"
    }
   }
  },
  {
   "cell_type": "markdown",
   "source": [
    "### Solución 🙌\n",
    "Nuestro prolema se soluciona ocupando ```super()``` de python. Veamos:"
   ],
   "metadata": {
    "slideshow": {
     "slide_type": "fragment"
    }
   }
  },
  {
   "cell_type": "code",
   "execution_count": 20,
   "source": [
    "class Cantante(Artista):\n",
    "\n",
    "    def __init__(self, musica, numero_albumes, **kwargs):\n",
    "        super().__init__(**kwargs)\n",
    "        self.estilo_musica = musica\n",
    "        self.albumes = numero_albumes\n",
    "        \n",
    "    def presentacion(self):\n",
    "        super().presentacion()\n",
    "        print(f'Soy cantante de {self.estilo_musica} y he grabado {self.albumes} albumes.')\n",
    "\n",
    "class Bailarin(Artista):\n",
    "\n",
    "    def __init__(self, estilo, **kwargs):\n",
    "        super().__init__(**kwargs)\n",
    "        self.estilo_baile = estilo\n",
    "        self.horas_entrenamiento = 5\n",
    "    \n",
    "    def presentacion(self):\n",
    "        super().presentacion()\n",
    "        print(f'Soy bailarin de {self.estilo_baile} y entreno {self.horas_entrenamiento} horas al día.')\n",
    "\n",
    "class Actor(Artista):\n",
    "\n",
    "    def __init__(self, numero_peliculas, numero_series, **kwargs):\n",
    "        super().__init__(**kwargs)\n",
    "        self.peliculas = numero_peliculas\n",
    "        self.series = numero_series\n",
    "    \n",
    "    def presentacion(self):\n",
    "        super().presentacion()\n",
    "        print(f'Soy actor, he salido en {self.peliculas} peliculas y {self.series} series.')"
   ],
   "outputs": [],
   "metadata": {
    "slideshow": {
     "slide_type": "subslide"
    }
   }
  },
  {
   "cell_type": "code",
   "execution_count": 21,
   "source": [
    "class Famoso(Cantante, Bailarin, Actor):\n",
    "\n",
    "    def __init__(self, premios, **kwargs):\n",
    "        # Solo un llamado, con todos los argumentos de las clases anteriores\n",
    "        super().__init__(**kwargs)\n",
    "        self.premios = premios\n",
    "    \n",
    "    def presentacion(self):\n",
    "        super().presentacion()\n",
    "        print(f\"He ganado {self.premios} premios.\")\n",
    "\n",
    "famoso = Famoso(\n",
    "    17, nombre=\"Chayanne\", tiempo=43, musica=\"pop latino\", numero_albumes=22,\n",
    "    estilo=\"pop\", numero_peliculas=4, numero_series=10\n",
    "    )\n",
    "\n",
    "famoso.presentacion()"
   ],
   "outputs": [
    {
     "output_type": "stream",
     "name": "stdout",
     "text": [
      "Hola! Me llamo Chayanne y llevo 43 años de carrera como artista.\n",
      "Soy actor, he salido en 4 peliculas y 10 series.\n",
      "Soy bailarin de pop y entreno 5 horas al día.\n",
      "Soy cantante de pop latino y he grabado 22 albumes.\n",
      "He ganado 17 premios.\n"
     ]
    }
   ],
   "metadata": {
    "slideshow": {
     "slide_type": "subslide"
    }
   }
  },
  {
   "cell_type": "markdown",
   "source": [
    "# Clases abstractas"
   ],
   "metadata": {
    "slideshow": {
     "slide_type": "slide"
    }
   }
  },
  {
   "cell_type": "markdown",
   "source": [
    "## ¿Qué son?\n",
    "\n",
    "Son clases que **no pueden ser instanciadas**, y cuya única funcion es ser\n",
    "heredadas por otras clases más específicas.\n",
    "\n",
    "La gran diferencia entre heredar desde una clase normal y una clase abstracta\n",
    "es que esta última puede definir **métodos y propiedades que obligatioriamente deben implementar sus clases hijas**.\n",
    "Estos se llaman ***abstractmethod*** y ***abstractproperty***. Como mínimo, para que una clase\n",
    "sea abstracta debe implementar al menos un *abstractmethod*."
   ],
   "metadata": {
    "slideshow": {
     "slide_type": "subslide"
    }
   }
  },
  {
   "cell_type": "markdown",
   "source": [
    "## ¿Cuándo usarlas?\n",
    "\n",
    "El caso de uso por excelencia de las clases abstractas es cuando tenemos una\n",
    "familia de clases que **comparten cierta lógica en sus atributos y métodos**. \n",
    "La clase abstracta actúa como una **plantilla** que contendrá estas\n",
    "características comunes, lo cuál nos evitará tener código repetido en cada\n",
    "una de las clases hijas."
   ],
   "metadata": {
    "slideshow": {
     "slide_type": "subslide"
    }
   }
  },
  {
   "cell_type": "markdown",
   "source": [
    "## Ejemplos\n",
    "\n",
    "![Minecraft](img/abstractclassexample.png 'Minecraft example')"
   ],
   "metadata": {
    "slideshow": {
     "slide_type": "subslide"
    }
   }
  },
  {
   "cell_type": "markdown",
   "source": [
    "![Chess](img/chess_example.png 'Chess example')"
   ],
   "metadata": {
    "slideshow": {
     "slide_type": "subslide"
    }
   }
  },
  {
   "cell_type": "markdown",
   "source": [
    "## ¿Cómo creo clases abstractas?\n",
    "\n",
    "Veamos el ejemplo del tablero de ajedrez en código.\n",
    "\n",
    "Primero creamos la clase abstracta *Pieza*. Todas las clases abstractas deben\n",
    "heredar de la clase *ABC* del módulo _abc_."
   ],
   "metadata": {
    "slideshow": {
     "slide_type": "subslide"
    }
   }
  },
  {
   "cell_type": "code",
   "execution_count": 1,
   "source": [
    "from abc import ABC, abstractmethod\r\n",
    "\r\n",
    "\r\n",
    "class Pieza(ABC):\r\n",
    "    def __init__(self, id):\r\n",
    "        self.__posicion = (0, 0)\r\n",
    "        self.id = id\r\n",
    "\r\n",
    "    @property\r\n",
    "    def posicion(self):\r\n",
    "        return self.__posicion\r\n",
    "\r\n",
    "    @posicion.setter\r\n",
    "    def posicion(self, nueva_posicion):\r\n",
    "        if nueva_posicion < (0, 0):\r\n",
    "            print('No se puede mover a esta posición')\r\n",
    "            return False\r\n",
    "        elif nueva_posicion > (7, 7):\r\n",
    "            print('No se puede mover a esta posición')\r\n",
    "            return False\r\n",
    "        else:\r\n",
    "            self.__posicion = nueva_posicion\r\n",
    "            print(f'{self.id} se mueve a {self.posicion}')\r\n",
    "            return True\r\n",
    "\r\n",
    "    @abstractmethod\r\n",
    "    def moverse(self):\r\n",
    "        self.posicion = (self.posicion[0], self.posicion[1] + 1)\r\n"
   ],
   "outputs": [],
   "metadata": {
    "slideshow": {
     "slide_type": "subslide"
    }
   }
  },
  {
   "cell_type": "markdown",
   "source": [
    "Luego se crean dos piezas que heredan de *Pieza*: *Peon* y *Torre*. La primera implementa\n",
    "el _abstractmethod_ que por defecto le heredó _Pieza_, mientras que la segunda también implementa\n",
    "el método, pero reescrito.\n"
   ],
   "metadata": {
    "slideshow": {
     "slide_type": "subslide"
    }
   }
  },
  {
   "cell_type": "code",
   "execution_count": 2,
   "source": [
    "class Peon(Pieza):\r\n",
    "\r\n",
    "    def moverse(self):\r\n",
    "        super().moverse()\r\n",
    "\r\n",
    "\r\n",
    "class Torre(Pieza):\r\n",
    "\r\n",
    "    def moverse(self, direccion, n):\r\n",
    "        if direccion == 'arriba':\r\n",
    "            self.posicion = (self.posicion[0], self.posicion[1] + n)\r\n",
    "        elif direccion == 'abajo':\r\n",
    "            self.posicion = (self.posicion[0], self.posicion[1] - n)\r\n",
    "        elif direccion == 'derecha':\r\n",
    "            self.posicion = (self.posicion[0] + n, self.posicion[1])\r\n",
    "        else:\r\n",
    "            self.posicion = (self.posicion[0] - n, self.posicion[1])\r\n",
    "\r\n",
    "\r\n",
    "class Caballo(Pieza):\r\n",
    "\r\n",
    "    def moverse(self):\r\n",
    "        pass\r\n"
   ],
   "outputs": [],
   "metadata": {
    "slideshow": {
     "slide_type": "subslide"
    }
   }
  },
  {
   "cell_type": "markdown",
   "source": [
    "Ahora simulemos el comportamiento de estas entidades, en un tablero muy pero muy simplificado.\n"
   ],
   "metadata": {
    "slideshow": {
     "slide_type": "subslide"
    }
   }
  },
  {
   "cell_type": "code",
   "execution_count": 3,
   "source": [
    "# Se instancian las clases\r\n",
    "\r\n",
    "peon = Peon('peon')\r\n",
    "torre = Torre('torre')\r\n",
    "\r\n",
    "\r\n",
    "# Testeamos\r\n",
    "\r\n",
    "for i in range(5):\r\n",
    "    peon.moverse()\r\n",
    "\r\n",
    "torre.moverse('derecha', 5)\r\n",
    "torre.moverse('arriba', 3)\r\n"
   ],
   "outputs": [
    {
     "output_type": "stream",
     "name": "stdout",
     "text": [
      "peon se mueve a (0, 1)\n",
      "peon se mueve a (0, 2)\n",
      "peon se mueve a (0, 3)\n",
      "peon se mueve a (0, 4)\n",
      "peon se mueve a (0, 5)\n",
      "torre se mueve a (5, 0)\n",
      "torre se mueve a (5, 3)\n"
     ]
    }
   ],
   "metadata": {
    "slideshow": {
     "slide_type": "fragment"
    }
   }
  },
  {
   "cell_type": "markdown",
   "source": [
    "¿Qué sucede con el método \\_\\_mro\\_\\_ con las clases abstractas? Veamos."
   ],
   "metadata": {
    "slideshow": {
     "slide_type": "subslide"
    }
   }
  },
  {
   "cell_type": "code",
   "execution_count": 4,
   "source": [
    "Peon.__mro__\r\n"
   ],
   "outputs": [
    {
     "output_type": "execute_result",
     "data": {
      "text/plain": [
       "(__main__.Peon, __main__.Pieza, abc.ABC, object)"
      ]
     },
     "metadata": {},
     "execution_count": 4
    }
   ],
   "metadata": {
    "slideshow": {
     "slide_type": "fragment"
    }
   }
  },
  {
   "cell_type": "markdown",
   "source": [
    "*Peon* hereda de *Pieza*, que a su vez hereda de *ABC*, que hereda de *object*."
   ],
   "metadata": {
    "slideshow": {
     "slide_type": "fragment"
    }
   }
  },
  {
   "cell_type": "markdown",
   "source": [
    "# Ejercicio propuesto 🙌"
   ],
   "metadata": {
    "slideshow": {
     "slide_type": "slide"
    }
   }
  },
  {
   "cell_type": "markdown",
   "source": [
    "2021 y la pandemia continua, pero la DCCumbre Deportiva no se vuelve a cancelar por ninguna razón 🏊 🏃 🚴.\r\n",
    "\r\n",
    "Tras la decisión del DCC de realizar de igual forma la competición te solicitan que puedas modelar a través de clases a los deportistas, donde este podria ser un **Nadador**, **Corredor** o **Ciclista**. Sin embargo, también existe la posibilidad de que sea un **Triatleta**, es decir, que es Nadador, Corredor y Ciclista.\r\n",
    "\r\n",
    "Se te solicita que puedas crear una clase abstracta llamada `Deportista`, que implementa el método abstracto `competir()`. Luego debes crear las clases `Nadador`🏊 , `Corredor`🏃 y `Ciclista`🚴 que heredan de `Deportista`. Luego se debe crear la clase `Triatleta`, que hereda de las tres clases anteriores. Ojo 👀 que en el triatlón el orden de las competencias es natación, ciclismo y carrera a pie, por lo que se debe tener cuidado en el orden de herencia."
   ],
   "metadata": {
    "slideshow": {
     "slide_type": "fragment"
    }
   }
  },
  {
   "cell_type": "markdown",
   "source": [
    "* **Nadador**:\r\n",
    "    * Debe tener un atributo llamado nerviosismo, correspondiente a un número entero en el rango [0, 7].\r\n",
    "    * El método competir verifica que el deportista no este retirado, en caso que no lo este existen tres opciones. Si el nerviosismo es menor que 2 y la especialidad es `natación`, debe imprimir que ganó. Si el nerviosismo es menor a 4, debe imprimir que quedo dentro de los 5 primeros. Si no fue ninguna de las dos anteriores debe cambiar el valor de su atributo retirado a True.\r\n",
    "    Si ya estaba retirado, no puede competir en este deporte."
   ],
   "metadata": {}
  },
  {
   "cell_type": "markdown",
   "source": [
    "* **Maratonista**:\r\n",
    "    * Debe tener un atributo llamado desgaste, correspondiente a un número entero en el rango [10, 20].\r\n",
    "    * El método competir verifica que el deportista no este retirado, en caso que no lo este existen dos opciones. Si el desgaste multiplicado por 3 es menor a la resistencia, debe verificar que su especialidad sea `Carrera a pie`, si lo es gana la carrera, en caso contrario termina dentro de los 5 primeros. Si no cumple la condición del desgaste debe cambiar el valor de su atributo retirado a True.\r\n",
    "    Si ya estaba retirado, no puede competir en este deporte."
   ],
   "metadata": {}
  },
  {
   "cell_type": "markdown",
   "source": [
    "* **Ciclista**:\r\n",
    "    * Debe tener un atributo llamado fatiga, correspondiente a un número entero en el rango [0, 3].\r\n",
    "    * El método competir verifica que el deportista no este retirado, en caso que no lo este existen dos opciones. Si la fatiga multiplicada por 4 es menor a la agilidad, debe verificar que su especialidad sea `Ciclismo`, si lo es gana la carrera, en caso contrario termina dentro de los 5 primeros. Si no cumple la condición de la fatiga debe cambiar el valor de su atributo retirado a True.\r\n",
    "    Si ya estaba retirado, no puede competir en este deporte."
   ],
   "metadata": {}
  },
  {
   "cell_type": "markdown",
   "source": [
    "* **Triatleta**:\r\n",
    "    * El método competir solo verifica si esta retirado o no, en caso de estarlo imprime que completo el triatlón, en caso contrario que lo logró completarlo."
   ],
   "metadata": {}
  },
  {
   "cell_type": "code",
   "execution_count": null,
   "source": [
    "from abc import ABC, abstractmethod\r\n",
    "from random import randint\r\n",
    "\r\n",
    "class Deportista(ABC):\r\n",
    "\r\n",
    "    def __init__(self, nombre, edad, representante_de, especialidad):\r\n",
    "        self.nombre = nombre\r\n",
    "        self.edad = edad\r\n",
    "        self.representante_de = representante_de\r\n",
    "        self.especialidad = especialidad\r\n",
    "        self.resistencia = edad * 2\r\n",
    "        self.agilidad = round(edad * 0.5, 2)\r\n",
    "        self.retirado = False\r\n",
    "\r\n",
    "    @abstractmethod\r\n",
    "    def competir(self):\r\n",
    "        pass"
   ],
   "outputs": [],
   "metadata": {
    "slideshow": {
     "slide_type": "subslide"
    }
   }
  },
  {
   "cell_type": "code",
   "execution_count": null,
   "source": [
    "class Nadador(Deportista):\r\n",
    "\r\n",
    "    def __init__(self, **kwargs):\r\n",
    "        super().__init__(**kwargs)\r\n",
    "        self.nerviosismo = randint(0, 7)\r\n",
    "\r\n",
    "    def competir(self):\r\n",
    "        pass\r\n",
    "    \r\n",
    "\r\n",
    "class Maratonista(Deportista):\r\n",
    "\r\n",
    "    def __init__(self, **kwargs):\r\n",
    "        super().__init__(**kwargs)\r\n",
    "        self.desgaste = randint(10, 20)\r\n",
    "\r\n",
    "    def competir(self):\r\n",
    "        pass"
   ],
   "outputs": [],
   "metadata": {
    "slideshow": {
     "slide_type": "subslide"
    }
   }
  },
  {
   "cell_type": "code",
   "execution_count": null,
   "source": [
    "class Ciclista(Deportista):\r\n",
    "\r\n",
    "    def __init__(self, **kwargs):\r\n",
    "        super().__init__(**kwargs)\r\n",
    "        self.desgaste = randint(0, 3)\r\n",
    "\r\n",
    "    def competir(self):\r\n",
    "        pass\r\n",
    "\r\n",
    "\r\n",
    "class Triatleta(Maratonista, Ciclista, Nadador):\r\n",
    "\r\n",
    "    def __init__(self, **kwargs):\r\n",
    "        super().__init__(**kwargs)\r\n",
    "        print(f'Soy {self.nombre} representante de {self.representante_de}.')\r\n",
    "\r\n",
    "    def competir(self):\r\n",
    "        pass"
   ],
   "outputs": [],
   "metadata": {
    "slideshow": {
     "slide_type": "subslide"
    }
   }
  },
  {
   "cell_type": "code",
   "execution_count": null,
   "source": [
    "triatleta = Triatleta(nombre = 'Barbara Riveros', edad = 34, representante_de = 'Chile',\r\n",
    "    especialidad = 'Carrera a pie')\r\n",
    "triatleta.competir()"
   ],
   "outputs": [],
   "metadata": {
    "slideshow": {
     "slide_type": "subslide"
    }
   }
  }
 ],
 "metadata": {
  "celltoolbar": "Slideshow",
  "interpreter": {
   "hash": "9cb2d6b9bc3738be7d4dc0ba6b6ed0ba2f7dfb1c018db34bc656efe7b3395122"
  },
  "kernelspec": {
   "display_name": "Python 3 (ipykernel)",
   "language": "python",
   "name": "python3"
  },
  "language_info": {
   "codemirror_mode": {
    "name": "ipython",
    "version": 3
   },
   "file_extension": ".py",
   "mimetype": "text/x-python",
   "name": "python",
   "nbconvert_exporter": "python",
   "pygments_lexer": "ipython3",
   "version": "3.8.10"
  }
 },
 "nbformat": 4,
 "nbformat_minor": 2
}
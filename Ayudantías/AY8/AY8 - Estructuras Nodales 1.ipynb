{
 "cells": [
  {
   "cell_type": "markdown",
   "id": "9c20fdb1",
   "metadata": {
    "slideshow": {
     "slide_type": "slide"
    }
   },
   "source": [
    "# Ayudantía 08: Estrucutras Nodales I"
   ]
  },
  {
   "cell_type": "markdown",
   "id": "fc202340",
   "metadata": {
    "slideshow": {
     "slide_type": "slide"
    }
   },
   "source": [
    "## ¿Qué es un Nodo?\n",
    "  Un nodo es un objeto con un formato simple, pero que permite modelar estructuras muy complejas. Cada nodo tiene al menos dos atributos:"
   ]
  },
  {
   "cell_type": "markdown",
   "id": "5fd0e846",
   "metadata": {
    "slideshow": {
     "slide_type": "fragment"
    }
   },
   "source": [
    "- **Valor:** un elemento contenido en el nodo. Este puede ser cualquier dato que queramos almacenar, desde un nombre a un objeto más complejo como una instancia de alguna clase."
   ]
  },
  {
   "cell_type": "markdown",
   "id": "6fbb8989",
   "metadata": {
    "slideshow": {
     "slide_type": "fragment"
    }
   },
   "source": [
    "- **Uno o más nodos vecinos:** el nodo debe estar conectado a otros nodos de la estructura. Este atributo puede ser una lista, un set, o en el caso de nodos con un sólo vecino, puede guardar el nodo mismo."
   ]
  },
  {
   "cell_type": "code",
   "execution_count": null,
   "id": "54be7fb7",
   "metadata": {
    "slideshow": {
     "slide_type": "subslide"
    }
   },
   "outputs": [],
   "source": [
    "# Esto es todo lo que necesita un Nodo\n",
    "\n",
    "class Nodo:\n",
    "  def __init__(self, valor, siguiente):\n",
    "    self.valor = valor\n",
    "    # Si sólo está conectado a un nodo, lo llamamos el \"nodo siguiente\", o \"next node\"\n",
    "    self.nodo_siguiente = siguiente"
   ]
  },
  {
   "cell_type": "code",
   "execution_count": null,
   "id": "7a1b474a",
   "metadata": {
    "slideshow": {
     "slide_type": "subslide"
    }
   },
   "outputs": [],
   "source": [
    "# Un Nodo algo más complejo:\n",
    "\n",
    "class Nodo:\n",
    "  def __init__(self, valor):\n",
    "    self.valor = valor\n",
    "    self.nodos_vecinos = []\n",
    "\n",
    "  def agregar_vecino(self, nuevo_vecino):\n",
    "    self.nodos_vecinos.append(nuevo_vecino)\n",
    "\n",
    "  def __repr__(self)\n",
    "    # En general es buena práctica agregar este método!.\n",
    "    # Puede retornar lo que queramos, lo importante es que sea lo más informativo posible\n",
    "    return f\"Nodo con el valor {self.valor}\""
   ]
  },
  {
   "cell_type": "markdown",
   "id": "9b3101d8",
   "metadata": {
    "slideshow": {
     "slide_type": "slide"
    }
   },
   "source": [
    "## Listas Ligadas"
   ]
  },
  {
   "cell_type": "markdown",
   "id": "38a06eab",
   "metadata": {
    "slideshow": {
     "slide_type": "fragment"
    }
   },
   "source": [
    "Es una estructura que guarda nodos en orden, como una fila, o en programación, una lista, stack o cola. De esta manera, cada nodo guarda una referencia al nodo único que le sigue."
   ]
  },
  {
   "cell_type": "markdown",
   "id": "5e0f6729",
   "metadata": {
    "slideshow": {
     "slide_type": "fragment"
    }
   },
   "source": [
    "El primer nodo de la lista ligada se llama cabeza o head y el último se llama cola o tail."
   ]
  },
  {
   "cell_type": "markdown",
   "id": "0e628e3d",
   "metadata": {
    "slideshow": {
     "slide_type": "subslide"
    }
   },
   "source": [
    "Para modelar listas ligadas, crearemos una clase Nodo que guarde algún valor de interés y una referencia a su sucesor, esto último será None en el caso del Nodo cola."
   ]
  },
  {
   "cell_type": "markdown",
   "id": "6d7c30e2",
   "metadata": {
    "slideshow": {
     "slide_type": "fragment"
    }
   },
   "source": [
    "Adicionalmente, podemos crear una clase ListaLigada que se encargue de almacenar y administrar el conjunto de nodos, que contenga en sus atributos a los nodos cabeza y cola de la lista. En ella podremos definir varios métodos útiles para gestionar la lista."
   ]
  },
  {
   "cell_type": "markdown",
   "id": "27a6976c",
   "metadata": {
    "slideshow": {
     "slide_type": "subslide"
    }
   },
   "source": [
    "- **Agregar nodos a la lista:**\n",
    "Podemos definir un método que agregue nodos a la lista, creando un nuevo nodo con su valor correspondiente, y referenciandolo tanto en el atributo sucesor del Nodo cola antiguo como en el atributo cola de la lista en si, sobreescribiendo al nodo antiguo."
   ]
  },
  {
   "cell_type": "markdown",
   "id": "bc2da2c6",
   "metadata": {
    "slideshow": {
     "slide_type": "fragment"
    }
   },
   "source": [
    "- **Recuperar un valor:**\n",
    "Podemos definir un método que sea capaz de obtener el valor de un nodo dada su posición en la lista. Como esta no es una lista normal, no se puede acceder directamente con el índice, y se tendrá que buscar uno por uno, a partir del nodo cabeza, el nodo que queremos encontrar."
   ]
  },
  {
   "cell_type": "markdown",
   "id": "314414d2",
   "metadata": {
    "slideshow": {
     "slide_type": "subslide"
    }
   },
   "source": [
    "- **Insertar un nodo:**\n",
    "Podemos definir un método que inserte un nuevo nodo en alguna posición válida específica de la lista, entremedio de nodos ya existentes. Para eso, debemos asegurarnos de que el nodo que actualmente se encuentra en tal posición (si existe) quede referenciado como el sucesor del nuevo nodo, y que en el nodo que está justo antes de esa posición (si existe) guarde al nuevo nodo como su sucesor."
   ]
  },
  {
   "cell_type": "markdown",
   "id": "bfe77b2a",
   "metadata": {
    "slideshow": {
     "slide_type": "fragment"
    }
   },
   "source": [
    "- **Retirar un nodo:**\n",
    "Podemos definir un método que elimine un nodo que se encuentre en alguna posición específica de la lista. Para eso, debemos asegurarnos de que el nodo que se encuentra antes de tal posición (si existe) guarde al sucesor del nodo que se está eliminando (si existe) como su propio sucesor."
   ]
  },
  {
   "cell_type": "markdown",
   "id": "10b8e4d4",
   "metadata": {
    "slideshow": {
     "slide_type": "slide"
    }
   },
   "source": [
    "### Ejemplo"
   ]
  },
  {
   "cell_type": "code",
   "execution_count": null,
   "id": "c7207854",
   "metadata": {
    "slideshow": {
     "slide_type": "skip"
    }
   },
   "outputs": [],
   "source": [
    "from os import path\n",
    "import json\n",
    "\n",
    "\n",
    "class Nodo:\n",
    "    def __init__(self, valor, siguiente=None):\n",
    "        self.valor = valor\n",
    "        self.siguiente = siguiente\n",
    "\n",
    "    def append(self, valor):\n",
    "        if self.siguiente is None:\n",
    "            self.siguiente = Nodo(valor)\n",
    "        else:\n",
    "            self.siguiente.append(valor)\n",
    "\n",
    "    def conseguir_valor(self, posicion, posicion_actual=0):\n",
    "        if posicion == posicion_actual:\n",
    "            return self.valor\n",
    "        return self.siguiente.conseguir_valor(posicion, posicion_actual + 1)\n",
    "\n",
    "    def insertar_nodo(self, valor, posicion, posicion_actual=0):\n",
    "        if posicion == posicion_actual:\n",
    "            siguiente = self.siguiente\n",
    "            self.siguiente = Nodo(valor, siguiente)\n",
    "        else:\n",
    "            self.siguiente.insertar_nodo(valor, posicion,\n",
    "                                         posicion_actual + 1)\n",
    "\n",
    "    def __str__(self):\n",
    "        return f\"Head: Nodo con valor {self.valor}\\n\" \\\n",
    "               f\"Nodo siguiente: {self.siguiente}\"\n"
   ]
  },
  {
   "cell_type": "code",
   "execution_count": null,
   "id": "bc0984ef",
   "metadata": {
    "slideshow": {
     "slide_type": "subslide"
    }
   },
   "outputs": [],
   "source": [
    "lista_ligada = Nodo(\"Hola soy un nodo\")\n",
    "lista_ligada.append(\"Hola soy un nuevo nodo\")\n",
    "respuesta = \"placeholder\"\n",
    "while respuesta != \"0\":\n",
    "    respuesta = input(\"Inventa nodos!\\n\"\n",
    "                      \"0 para terminar: \")\n",
    "    lista_ligada.append(respuesta)\n",
    "\n",
    "print(lista_ligada.conseguir_valor(1))\n",
    "lista_ligada.insertar_nodo(\"Me colé jeje\", 2)\n",
    "print(lista_ligada)"
   ]
  },
  {
   "cell_type": "markdown",
   "id": "7f997107",
   "metadata": {
    "slideshow": {
     "slide_type": "subslide"
    }
   },
   "source": [
    "###### Un ejemplo algo más difícil\n",
    "\n",
    "Esta vez, los nodos guardarán una clase más compleja que un str, inventaremos una lista ligada cerrada que recorre los días de una semana y hace sonar un despertador."
   ]
  },
  {
   "cell_type": "code",
   "execution_count": null,
   "id": "c94d9806",
   "metadata": {
    "slideshow": {
     "slide_type": "subslide"
    }
   },
   "outputs": [],
   "source": [
    "class DiaSemana:\n",
    "    def __init__(self, nombre, despertador):\n",
    "        self.nombre = nombre\n",
    "        self.despertador = despertador\n",
    "\n",
    "    def sonar_alarma(self):\n",
    "        print(f\"Hoy es {self}! La alarma sonará a las \"\n",
    "              f\"{self.despertador}\")\n",
    "\n",
    "    def __str__(self):\n",
    "        return self.nombre"
   ]
  },
  {
   "cell_type": "code",
   "execution_count": null,
   "id": "e0e3bed3",
   "metadata": {
    "slideshow": {
     "slide_type": "subslide"
    }
   },
   "outputs": [],
   "source": [
    "# Crearemos además una clase especial\n",
    "\n",
    "class ListaLigada:\n",
    "    def __init__(self):\n",
    "        self.head = None\n",
    "\n",
    "    def append(self, valor):\n",
    "        if self.head is None:\n",
    "            self.head = Nodo(valor)\n",
    "        else:\n",
    "            self.head.append(valor)\n",
    "\n",
    "    def activar_despertadores(self):\n",
    "        nodo = self.head\n",
    "        while nodo is not None:\n",
    "            nodo.valor.sonar_alarma()\n",
    "            nodo = nodo.siguiente"
   ]
  },
  {
   "cell_type": "code",
   "execution_count": null,
   "id": "1258cb51",
   "metadata": {
    "slideshow": {
     "slide_type": "subslide"
    }
   },
   "outputs": [],
   "source": [
    "path = path.join('Ejemplos', 'archivos', 'data.json')\n",
    "with open(path, encoding='utf-8') as file:\n",
    "    dias = json.load(file)\n",
    "\n",
    "lista_ligada = ListaLigada()\n",
    "for nombre_dia, hora_despertador in dias:\n",
    "    dia = DiaSemana(nombre_dia, hora_despertador)\n",
    "    lista_ligada.append(dia)\n",
    "\n",
    "lista_ligada.activar_despertadores()"
   ]
  },
  {
   "cell_type": "markdown",
   "id": "8435e270",
   "metadata": {
    "slideshow": {
     "slide_type": "subslide"
    }
   },
   "source": [
    "**Desafío**: hacer que se trate de una lista ligada cerrada!\n",
    "Es decir, que el último nodo conecte con el primero.\n"
   ]
  },
  {
   "cell_type": "markdown",
   "id": "e7e6819d",
   "metadata": {
    "slideshow": {
     "slide_type": "slide"
    }
   },
   "source": [
    "## Árboles"
   ]
  },
  {
   "cell_type": "markdown",
   "id": "24267249",
   "metadata": {
    "slideshow": {
     "slide_type": "subslide"
    }
   },
   "source": [
    "Al contrario de las Listas Ligadas, los árboles son estructuras **no lineales**, y estos siguen una estructura **jerárquica**. De esta forma, los nodos se ordenan a través de relaciones **padre-hijo**."
   ]
  },
  {
   "cell_type": "markdown",
   "id": "2d1a4f5f",
   "metadata": {
    "slideshow": {
     "slide_type": "fragment"
    }
   },
   "source": [
    "El primer nodo se llama **nodo raíz** (*root*), y este es el único nodo que no posee un **padre** (*parent*). Cada nodo padre posee uno o más **hijos** (*children*). Los nodos que no tienen hijos, es decir, los que se encuentran en los extremos de los árboles, se denominan como nodos **hoja**, y el resto se llaman **nodos interiores**."
   ]
  },
  {
   "cell_type": "markdown",
   "id": "f213a0e8",
   "metadata": {
    "slideshow": {
     "slide_type": "subslide"
    }
   },
   "source": [
    "Una secuencia ordenada de nodos consecutivos unidos por aristas en un arbol *T* forman un **camino**. La **profundidad** (*depth*) de un nodo corresponde al número de aristas que debe recorrer para llegar a la raíz. La **altura** (*height*) del árbol corresponde al máximo de las profundidades alcanzadas por los nodos hoja."
   ]
  },
  {
   "cell_type": "markdown",
   "id": "b0c974d7",
   "metadata": {
    "slideshow": {
     "slide_type": "slide"
    }
   },
   "source": [
    "### Árboles basados en nodos enlazados"
   ]
  },
  {
   "cell_type": "markdown",
   "id": "fa7b3769",
   "metadata": {
    "slideshow": {
     "slide_type": "subslide"
    }
   },
   "source": [
    "Definiremos una clase `Arbol`, que servirá para modelar una estructura recursiva de manera que cada nodo (representado por una instancia de esta clase) es la raíz de un sub-árbol.\n"
   ]
  },
  {
   "cell_type": "markdown",
   "id": "bd32da07",
   "metadata": {
    "slideshow": {
     "slide_type": "fragment"
    }
   },
   "source": [
    "Modelaremos cada nodo como un objeto `Arbol` con los siguientes atributos:\n",
    "\n",
    "- `id_nodo`: corresponde a un identificador para el nodo.\n",
    "- `padre`: se usa para hacer referencia al nodo padre.\n",
    "- `hijos`: es una estructura (como una lista o diccionario) que almacena referencias a los hijos del nodo.\n",
    "- `valor`: es lo almacenado en ese nodo."
   ]
  },
  {
   "cell_type": "markdown",
   "id": "997f34c4",
   "metadata": {
    "slideshow": {
     "slide_type": "subslide"
    }
   },
   "source": [
    "La estructura además incluirá los siguientes métodos:\n",
    "\n",
    "- **Obtener un nodo**:\n",
    "Busca y retorna el nodo con un identificador en específico.\n",
    "\n",
    "- **Agregar nodo**:\n",
    "Permite agregar un nuevo nodo (con nuevo identificador y valor) al árbol como hijo de un nodo con un identificador en específico. "
   ]
  },
  {
   "cell_type": "markdown",
   "id": "4d792a25",
   "metadata": {
    "slideshow": {
     "slide_type": "subslide"
    }
   },
   "source": [
    "##### Ejemplo de árbol\n",
    "Mostraremos un ejémplo básico de un arbol. Recordemos que hay muchas formas de implementarlos!"
   ]
  },
  {
   "cell_type": "code",
   "execution_count": null,
   "id": "9e9de7ef",
   "metadata": {
    "slideshow": {
     "slide_type": "skip"
    }
   },
   "outputs": [],
   "source": [
    "class Arbol:\n",
    "    id_nodo = 0\n",
    "    # En este caso, haremos que la clase misma vaya asignando una ID a cada nodo\n",
    "\n",
    "    def __init__(self, valor, padre=None):\n",
    "        self.id_ = Arbol.id_nodo\n",
    "        Arbol.id_nodo += 1\n",
    "        self.valor = valor\n",
    "        self.padre = padre\n",
    "        self.hijos = set()\n",
    "\n",
    "    def obtener_nodo(self, id_nodo):\n",
    "        if self.id_ == id_nodo:\n",
    "            return self\n",
    "        for hijo in self.hijos:\n",
    "            nodo = hijo.obtener_nodo(id_nodo)\n",
    "            if nodo is not None:\n",
    "                return nodo\n",
    "\n",
    "    def agregar_nodo(self, valor, id_padre):\n",
    "        print(f\"agregando valor {valor} en {id_padre}\")\n",
    "        nodo_padre = self.obtener_nodo(id_padre)\n",
    "        if nodo_padre is None:\n",
    "            return\n",
    "        nuevo_nodo = Arbol(valor, nodo_padre)\n",
    "        nodo_padre.hijos.add(nuevo_nodo)\n",
    "\n",
    "    def __str__(self):\n",
    "        return f\"{self.id_: ^10d} -> {self.valor: ^10s}\""
   ]
  },
  {
   "cell_type": "code",
   "execution_count": null,
   "id": "110e3e2b",
   "metadata": {
    "slideshow": {
     "slide_type": "subslide"
    }
   },
   "outputs": [],
   "source": [
    "# Esta función es similar a la __repr__ vista en los contenidos,\n",
    "# Pero imprime cada hijo recursivamente, en vez de retornar un string\n",
    "def print_arbol(arbol, indent=0):\n",
    "    texto = \"|  \" * indent\n",
    "    texto += f\"id: {arbol.id_}, valor: {arbol.valor}\"\n",
    "    texto += ', nodo hoja' if len(arbol.hijos) == 0 else ''\n",
    "    print(texto)\n",
    "    for hijo in arbol.hijos:\n",
    "        print_arbol(hijo, indent + 1)"
   ]
  },
  {
   "cell_type": "code",
   "execution_count": null,
   "id": "1bf7d240",
   "metadata": {
    "slideshow": {
     "slide_type": "subslide"
    }
   },
   "outputs": [],
   "source": [
    "# Ahora poblaremos el arbol de secuencias de palabras aleatorias, y lo imprimimos!\n",
    "from string import ascii_lowercase\n",
    "from random import choices, choice\n",
    "\n",
    "arbol = Arbol(\"Soy el Nodo Inicial\")\n",
    "for _ in range(15):\n",
    "    texto = ''.join(choices(ascii_lowercase, k=6))\n",
    "    id_padre = choice(range(Arbol.id_nodo))\n",
    "    arbol.agregar_nodo(texto, id_padre)\n",
    "\n",
    "print_arbol(arbol)\n"
   ]
  },
  {
   "cell_type": "markdown",
   "id": "15b63e9f",
   "metadata": {
    "slideshow": {
     "slide_type": "slide"
    }
   },
   "source": [
    "### Árboles binarios\n",
    "\n",
    "Son un caso particular de árboles, donde:\n",
    "\n",
    "- Cada nodo tiene como máximo dos nodos hijo.\n",
    "- Cada nodo hijo está etiquetado como hijo-izquierdo, o bien como hijo-derecho (a lo más uno de cada uno).\n",
    "- En términos de precedencia, el hijo-izquierdo va antes que el hijo-derecho."
   ]
  },
  {
   "cell_type": "markdown",
   "id": "6243d70e",
   "metadata": {
    "slideshow": {
     "slide_type": "fragment"
    }
   },
   "source": [
    "Siendo así, podemos decir que el numero de nodos crece de manera exponencial, según la profundidad, por lo que la máxima cantidad de nodos por nivel $n$ será $2^n$."
   ]
  },
  {
   "cell_type": "markdown",
   "id": "af26c27c",
   "metadata": {
    "slideshow": {
     "slide_type": "subslide"
    }
   },
   "source": [
    "Se denomina **árbol binario completo** al árbol binario donde todos los nodos interiores tienen exactamente dos hijos, y todos los nodos hoja están en el mismo nivel. Podemos calcular cuántos nodos tiene un árbol de este tipo, si consideramos que el nivel máximo de profundidad es $d$:\n",
    "\n",
    "$$\\sum_{i=0}^{d} 2^i = 2^{d + 1} - 1$$"
   ]
  },
  {
   "cell_type": "markdown",
   "id": "6c6548e5",
   "metadata": {
    "slideshow": {
     "slide_type": "slide"
    }
   },
   "source": [
    "# Recorrido de un Árbol"
   ]
  },
  {
   "cell_type": "markdown",
   "id": "c1b5cdb4",
   "metadata": {
    "slideshow": {
     "slide_type": "subslide"
    }
   },
   "source": [
    "Uno de los procedimientos más complicados a implementar en un árbol (y más adelante, en los grafos) son los recorridos. Estos deben ser lo más eficientes posibles, recorriendo cada nodo del árbol sólo una vez. Los dos modelos más comunes y simples son **BFS** y **DFS**.\n"
   ]
  },
  {
   "cell_type": "markdown",
   "id": "49c0641b",
   "metadata": {
    "slideshow": {
     "slide_type": "slide"
    }
   },
   "source": [
    "## BFS: Breadth-first search\n",
    "\n",
    "Según este modelo, partimos recorriendo desde el primer Nodo (Nodo Padre). Recorremos a través de todos los nodos hijos de este nodo, y luego, todos los nodos hijos de estos nodos hijos, así sucesivamente. En este recorrido, los nodos hojas son los últimos en ser visitados.\n"
   ]
  },
  {
   "cell_type": "markdown",
   "id": "d3c2819b",
   "metadata": {
    "slideshow": {
     "slide_type": "slide"
    }
   },
   "source": [
    "## DFS: Depth-first search\n",
    "\n",
    "En este algoritmo de búsqueda, tratamos de llegar **lo más profundo posible**, antes de continuar con los otros nodos hijos. Es decir, partimos por el Nodo Padre, luego seguimos con un nodo hijo, luego un hijo de ese hijo, y así sucesivamente, hasta llegar a un nodo hoja. Una vez llegado a este nodo hoja, se hace lo mismo desde otro Nodo hijo del primer Nodo. "
   ]
  },
  {
   "cell_type": "markdown",
   "id": "487dfa7b",
   "metadata": {
    "slideshow": {
     "slide_type": "slide"
    }
   },
   "source": [
    "## Ejemplo\n",
    "\n",
    "Simularemos una estructura de una empresa o algún equipo de trabajo, en donde existe un jefe y cada jefe tiene asociado a sus colaboradores.\n",
    "Usaremos la estrucutra de árbol vista en clase y veremos las maneras que existen para recorrerlos y realizar algunas operaciones."
   ]
  },
  {
   "cell_type": "code",
   "execution_count": null,
   "id": "bd58381d",
   "metadata": {
    "slideshow": {
     "slide_type": "skip"
    }
   },
   "outputs": [],
   "source": [
    "from collections import deque\n",
    "\n",
    "class Empresa:\n",
    "    \n",
    "    def __init__(self, id_colaborador, nombre, tiempo_servicio, sueldo, jefe=None):\n",
    "        self.id_colaborador = id_colaborador\n",
    "        self.jefe = jefe\n",
    "        self.nombre = nombre\n",
    "        self.tiempo_servicio = tiempo_servicio\n",
    "        self.sueldo = sueldo\n",
    "        self.hijos = {}\n",
    "        \n",
    "    def obtener_nodo(self, id_colaborador):\n",
    "        \n",
    "        # Vemos si es el mimso\n",
    "        if self.id_colaborador == id_colaborador:\n",
    "            return self\n",
    "        \n",
    "        # Buscamos en los hijos recursivamente, hasta encontrar el mismo\n",
    "        for hijo in self.hijos.values():\n",
    "            nodo_obtenido = hijo.obtener_nodo(id_colaborador)\n",
    "            if nodo_obtenido is not None:\n",
    "                return nodo_obtenido\n",
    "            \n",
    "    def agregar_nodo(self, id_jefe, id_colaborador, nombre, tiempo_servicio, sueldo):\n",
    "        jefe = self.obtener_nodo(id_jefe)\n",
    "        \n",
    "        if jefe is None:\n",
    "            return\n",
    "        \n",
    "        colaborador = Empresa(id_colaborador, nombre, tiempo_servicio, sueldo, jefe)\n",
    "        jefe.hijos[id_colaborador] = colaborador\n",
    "        \n",
    "    def soy_nuevo(self):\n",
    "        \n",
    "        if not self.hijos and self.tiempo_servicio < 2:\n",
    "            self.sueldo = self.sueldo * 0.1\n",
    "            return True\n",
    "        return False\n",
    "            \n",
    "    def jerarquia(self, id_colaborador):\n",
    "        colaborador = self.obtener_nodo(id_colaborador)\n",
    "        return colaborador.jefes()\n",
    "    \n",
    "    def jefes(self):\n",
    "        if not self.jefe:\n",
    "            return [self.nombre]\n",
    "        \n",
    "        lista_jefes = self.jefe.jefes()\n",
    "        lista_jefes.append(self.nombre)\n",
    "        \n",
    "        return lista_jefes\n",
    "    \n",
    "    def mas_nuevo_bfs(self):\n",
    "        \"\"\"Método que recorre el arbol utilizando BFS, con la condición de que al encontrar\n",
    "        una persona nueva se termine el recorrido\"\"\"\n",
    "\n",
    "        # Utilizamos el mismo método visto en clases\n",
    "        cola = deque()\n",
    "        cola.append(self)\n",
    "        while len(cola) > 0:\n",
    "            nodo_actual = cola.popleft()\n",
    "            yield nodo_actual\n",
    "            # En el caso de que el nodo actual cumpla las condiciones, terminamos el recorrido\n",
    "            if nodo_actual.soy_nuevo():\n",
    "                break\n",
    "            for hijo in nodo_actual.hijos.values():\n",
    "                cola.append(hijo)\n",
    "    \n",
    "    def mas_nuevo_dfs(self):\n",
    "        \"\"\"Método que recorre el arbol utilizando DFS, con la condición de que al encontrar\n",
    "        a una persona nueva se termine el recorrido\"\"\"\n",
    "\n",
    "        yield self\n",
    "        # Despues de devolver el nodo en la iteración, revisamos si el nodo cumple la condición. Si\n",
    "        # es que se cumple, retornamos True.\n",
    "        if self.soy_nuevo():\n",
    "            return True\n",
    "        for subarbol in self.hijos.values():\n",
    "            # El valor de la variable encontrado será None hasta que se encuentre un nodo indicado.\n",
    "            # En ese caso, se devuelve True en todas las subrutinas, terminandolas.\n",
    "            encontrado = yield from subarbol.mas_nuevo_dfs()\n",
    "            if encontrado:\n",
    "                return True\n"
   ]
  },
  {
   "cell_type": "code",
   "execution_count": null,
   "id": "1ca1e24c",
   "metadata": {
    "slideshow": {
     "slide_type": "skip"
    }
   },
   "outputs": [],
   "source": [
    "empresa = Empresa(0, \"Carla\", 15, 100)\n",
    "empresa.agregar_nodo(0, 1, \"James\", 10, 90)\n",
    "empresa.agregar_nodo(0, 2, \"Juanita\", 8, 94)\n",
    "empresa.agregar_nodo(0, 3, \"Carlos\", 9, 92)\n",
    "empresa.agregar_nodo(1, 4, \"Maca\", 5, 60)\n",
    "empresa.agregar_nodo(1, 5, \"Antonia\", 6, 63)\n",
    "empresa.agregar_nodo(2, 6, \"José\", 7, 67)\n",
    "empresa.agregar_nodo(2, 7, \"Esteban\", 4, 45)\n",
    "empresa.agregar_nodo(3, 8, \"Tere\", 3, 44)\n",
    "empresa.agregar_nodo(3, 9, \"Pablo\", 1, 41)"
   ]
  },
  {
   "cell_type": "code",
   "execution_count": null,
   "id": "99a493e7",
   "metadata": {
    "slideshow": {
     "slide_type": "skip"
    }
   },
   "outputs": [],
   "source": [
    "print(empresa.jerarquia(9))\n",
    "print(30 * \"-\")\n",
    "print(\"Busqueda DFS\")\n",
    "for i in empresa.mas_nuevo_dfs():\n",
    "    print(f\"{i.nombre} -> {i.id_colaborador}\")\n",
    "print(\"\")\n",
    "print(30 * \"-\")\n",
    "print(\"Busqueda BFS\")\n",
    "for i in empresa.mas_nuevo_bfs():\n",
    "    print(f\"{i.nombre} -> {i.id_colaborador}\")"
   ]
  }
 ],
 "metadata": {
  "celltoolbar": "Slideshow",
  "kernelspec": {
   "display_name": "Python 3 (ipykernel)",
   "language": "python",
   "name": "python3"
  },
  "language_info": {
   "codemirror_mode": {
    "name": "ipython",
    "version": 3
   },
   "file_extension": ".py",
   "mimetype": "text/x-python",
   "name": "python",
   "nbconvert_exporter": "python",
   "pygments_lexer": "ipython3",
   "version": "3.8.10"
  }
 },
 "nbformat": 4,
 "nbformat_minor": 5
}

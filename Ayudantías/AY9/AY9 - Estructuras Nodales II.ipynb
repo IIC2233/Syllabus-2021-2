{
 "cells": [
  {
   "cell_type": "markdown",
   "metadata": {
    "slideshow": {
     "slide_type": "slide"
    }
   },
   "source": [
    "# Ayudantía 9: Estructuras Nodales II\n",
    "### Autores:\n",
    " - Caua Paz (@csantiagopaz)\n",
    " - Valentina Campaña (@aerotecnia99)\n",
    " - Pablo Kipreos Palau (@Pablok98)\n"
   ]
  },
  {
   "cell_type": "markdown",
   "metadata": {
    "pycharm": {
     "name": "#%% md\n"
    },
    "slideshow": {
     "slide_type": "slide"
    }
   },
   "source": [
    "## Grafos\n",
    "\n",
    " - Es un conjunto de nodos y sus relaciones.\n",
    " \n",
    " - Son una unión entre **listas ligadas y árboles**\n",
    " \n",
    " - Pueden ser **dirigidos o no dirigidos**\n",
    " \n",
    "   - En un **grafo dirigido**, las relaciones tienen orientación\n",
    "        - Si A se relaciona con B, no necesariamente B se relaciona con A\n",
    "        \n",
    "   - En un **grafo no dirigido**, las relaciones **no** tienen orientación\n",
    "        - Si A se relaciona con B, **necesariamente** B se relaciona con A\n",
    "\n",
    "\n",
    "\n",
    "![grafos](img/grafos.png)\n",
    "\n",
    "\n",
    "### Representación en código"
   ]
  },
  {
   "cell_type": "code",
   "execution_count": 1,
   "metadata": {
    "pycharm": {
     "name": "#%%\n"
    },
    "slideshow": {
     "slide_type": "subslide"
    }
   },
   "outputs": [],
   "source": [
    "class Nodo:\n",
    "    # Un nodo está compuesto por el valor que almacena y una lista de sus nodos vecinos\n",
    "    def __init__(self, valor):\n",
    "        self.valor = valor\n",
    "        self.vecinos = []\n",
    "\n",
    "    def agregar_vecino(self, nodo):\n",
    "        self.vecinos.append(nodo)\n",
    "\n",
    "    def __repr__(self):\n",
    "        texto = f\"[{self.valor}]\"\n",
    "        if len(self.vecinos) > 0:\n",
    "            textos_vecinos = [f\"[{vecino.valor}]\" for vecino in self.vecinos]\n",
    "            texto += \" -> \" + \", \".join(textos_vecinos)\n",
    "        return texto"
   ]
  },
  {
   "cell_type": "code",
   "execution_count": 2,
   "metadata": {
    "pycharm": {
     "name": "#%%\n"
    },
    "slideshow": {
     "slide_type": "subslide"
    }
   },
   "outputs": [],
   "source": [
    "# Instanciamos nodos y agregamos conexiones del grafo dirigido\n",
    "\n",
    "nodo_1 = Nodo(1)\n",
    "nodo_2 = Nodo(2)\n",
    "nodo_3 = Nodo(3)\n",
    "nodo_4 = Nodo(4)\n",
    "nodo_5 = Nodo(5)\n",
    "nodo_1.agregar_vecino(nodo_2)\n",
    "nodo_2.agregar_vecino(nodo_3)\n",
    "nodo_3.agregar_vecino(nodo_2)\n",
    "nodo_3.agregar_vecino(nodo_4)\n",
    "nodo_3.agregar_vecino(nodo_5)\n",
    "nodo_4.agregar_vecino(nodo_5)"
   ]
  },
  {
   "cell_type": "code",
   "execution_count": 3,
   "metadata": {
    "pycharm": {
     "name": "#%%\n"
    },
    "scrolled": false,
    "slideshow": {
     "slide_type": "subslide"
    }
   },
   "outputs": [
    {
     "name": "stdout",
     "output_type": "stream",
     "text": [
      "[1] -> [2]\n",
      "[2] -> [3]\n",
      "[3] -> [2], [4], [5]\n",
      "[4] -> [5]\n",
      "[5]\n"
     ]
    }
   ],
   "source": [
    "print(nodo_1)\n",
    "print(nodo_2)\n",
    "print(nodo_3)\n",
    "print(nodo_4)\n",
    "print(nodo_5)"
   ]
  },
  {
   "cell_type": "markdown",
   "metadata": {
    "slideshow": {
     "slide_type": "subslide"
    }
   },
   "source": [
    "## Lista de adyacencia\n",
    "Es simplemente una representación compacta de las relaciones entre vértices. Sirve para tener acceso a la información del grafo y simplificar las operaciones."
   ]
  },
  {
   "cell_type": "code",
   "execution_count": 8,
   "metadata": {
    "pycharm": {
     "name": "#%%\n"
    },
    "slideshow": {
     "slide_type": "fragment"
    }
   },
   "outputs": [],
   "source": [
    "# Aquí usamos diccionarios \"int-list\" porque ofrece más facilidad de búsqueda.\n",
    "# Cada llave del diccionario es el valor de un vértice, y el valor asociado es la lista de vertices con conexión.\n",
    "\n",
    "grafo_no_dirigido = {1: [2],\n",
    "                     2: [1, 3],\n",
    "                     3: [2, 4, 5],\n",
    "                     4: [3, 5],\n",
    "                     5: [3, 4]\n",
    "                    }\n",
    "\n",
    "grafo_dirigido = {1: [2],\n",
    "                  2: [3],\n",
    "                  3: [2, 4, 5],\n",
    "                  4: [5],\n",
    "                  5: []\n",
    "                 }"
   ]
  },
  {
   "cell_type": "code",
   "execution_count": 9,
   "metadata": {},
   "outputs": [
    {
     "name": "stdout",
     "output_type": "stream",
     "text": [
      "[1, 2, 3, 4, 5]\n",
      "[2, 4, 5]\n"
     ]
    }
   ],
   "source": [
    "# ¿Vértices del grafo?\n",
    "print(list(grafo_no_dirigido.keys()))\n",
    "\n",
    "# ¿Conexiones de vértice 3 en grafo no dirigido?\n",
    "print(grafo_no_dirigido[3])"
   ]
  },
  {
   "cell_type": "markdown",
   "metadata": {
    "slideshow": {
     "slide_type": "slide"
    }
   },
   "source": [
    "## Operaciones de grafos\n",
    "\n",
    "Digamos que tenemos la siguiente clase `Grafo`, representando los nodos con una lista de adyacencia.\n",
    "\n"
   ]
  },
  {
   "cell_type": "code",
   "execution_count": 10,
   "metadata": {
    "pycharm": {
     "name": "#%%\n"
    },
    "slideshow": {
     "slide_type": "fragment"
    }
   },
   "outputs": [],
   "source": [
    "class Grafo:\n",
    "\n",
    "    def __init__(self, lista_adyacencia=None):\n",
    "        self.lista_adyacencia = lista_adyacencia or dict()"
   ]
  },
  {
   "cell_type": "markdown",
   "metadata": {
    "slideshow": {
     "slide_type": "subslide"
    }
   },
   "source": [
    "Podemos implementar las siguientes operaciones básicas:\n",
    "\n",
    "- `adyacentes(G, x, y)`: Indica si existe una arista entre x e y. Retorna un booleano."
   ]
  },
  {
   "cell_type": "code",
   "execution_count": 8,
   "metadata": {
    "pycharm": {
     "name": "#%%\n"
    },
    "slideshow": {
     "slide_type": "fragment"
    }
   },
   "outputs": [],
   "source": [
    "    def adyacentes(self, x, y):\n",
    "        return (y in self.lista_adyacencia[x])"
   ]
  },
  {
   "cell_type": "markdown",
   "metadata": {
    "pycharm": {
     "name": "#%% md\n"
    },
    "slideshow": {
     "slide_type": "subslide"
    }
   },
   "source": [
    "- `vecinos(G, x)`: Entrega una lista con todos los vértices `y` tales que existe una arista entre `x` e `y`. Retorna una lista de nodos."
   ]
  },
  {
   "cell_type": "code",
   "execution_count": 9,
   "metadata": {
    "pycharm": {
     "name": "#%%\n"
    },
    "slideshow": {
     "slide_type": "fragment"
    }
   },
   "outputs": [],
   "source": [
    "    def vecinos(self, x):\n",
    "            return self.lista_adyacencia[x]"
   ]
  },
  {
   "cell_type": "markdown",
   "metadata": {
    "slideshow": {
     "slide_type": "subslide"
    }
   },
   "source": [
    "- `agregar_vertice(G, x)`: Agrega el vértice `x` al grafo."
   ]
  },
  {
   "cell_type": "code",
   "execution_count": 10,
   "metadata": {
    "pycharm": {
     "name": "#%%\n"
    },
    "slideshow": {
     "slide_type": "fragment"
    }
   },
   "outputs": [],
   "source": [
    "    def agregar_vertice(self, x):\n",
    "            self.lista_adyacencia[x] = set()"
   ]
  },
  {
   "cell_type": "markdown",
   "metadata": {
    "slideshow": {
     "slide_type": "subslide"
    }
   },
   "source": [
    "- `remover_vertice(G, x)`: Elimina el vértice `x` del grafo."
   ]
  },
  {
   "cell_type": "code",
   "execution_count": 11,
   "metadata": {
    "pycharm": {
     "name": "#%%\n"
    },
    "slideshow": {
     "slide_type": "fragment"
    }
   },
   "outputs": [],
   "source": [
    "    def remover_vertice(self, x):\n",
    "        # Remueve el nodo x de la lista de adyacencia\n",
    "        self.lista_adyacencia.pop(x, None)\n",
    "        # Remueve el nodo x de las conexiones de los nodos restantes del grafo\n",
    "        for k, v in self.lista_adyacencia.items():\n",
    "            if x in v:\n",
    "                v.remove(x)"
   ]
  },
  {
   "cell_type": "markdown",
   "metadata": {
    "slideshow": {
     "slide_type": "subslide"
    }
   },
   "source": [
    "- `agregar_arista(G, x, y)`: Agrega una arista entre los vértices x e y."
   ]
  },
  {
   "cell_type": "code",
   "execution_count": 12,
   "metadata": {
    "pycharm": {
     "name": "#%%\n"
    },
    "slideshow": {
     "slide_type": "fragment"
    }
   },
   "outputs": [],
   "source": [
    "    def agregar_arista(self, x, y):\n",
    "        if x in self.lista_adyacencia:\n",
    "            self.lista_adyacencia[x].add(y)"
   ]
  },
  {
   "cell_type": "markdown",
   "metadata": {
    "slideshow": {
     "slide_type": "subslide"
    }
   },
   "source": [
    "- `remover_arista(G, x, y)`: Elimia la arista entre x e y."
   ]
  },
  {
   "cell_type": "code",
   "execution_count": 13,
   "metadata": {
    "pycharm": {
     "name": "#%%\n"
    },
    "slideshow": {
     "slide_type": "fragment"
    }
   },
   "outputs": [],
   "source": [
    "    def remover_arista(self, x, y):\n",
    "        vecinos_x = self.lista_adyacencia.get(x, set())\n",
    "        # Remueve el nodo y de los vecinos de x\n",
    "        if y in vecinos_x:\n",
    "            vecinos_x.remove(y)"
   ]
  },
  {
   "cell_type": "markdown",
   "metadata": {
    "slideshow": {
     "slide_type": "subslide"
    }
   },
   "source": [
    "## Recorrido de grafos\n",
    "\n",
    "### BFS (Breadth-first search)\n",
    " - Es un recorrido de **amplitud**. A grandes rasgos, se tienen que visitar todos los vecinos de un nivel para pasar al siguiente.\n",
    " - Utiliza una **cola** para mantener registro de los nodos **por visitar**.\n",
    " - El algoritmo parte con una cola compuesta por el nodo inicial.\n",
    " - Cada vez que se visita un nodo, se agregan a la cola todos los vecinos de este.\n",
    " - Es útil cuando se quiere encontrar **la cantidad mínima de aristas a recorrer** o el camino más corto entre nodos.\n",
    "\n",
    "![bfs](https://i.imgur.com/Csvfiho.gif)\n",
    "\n",
    "Veamos el ejemplo de los contenidos del curso:"
   ]
  },
  {
   "cell_type": "code",
   "execution_count": 14,
   "metadata": {
    "pycharm": {
     "name": "#%%\n"
    },
    "slideshow": {
     "slide_type": "skip"
    }
   },
   "outputs": [],
   "source": [
    "from collections import deque\n",
    "\n",
    "\n",
    "def bfs(grafo, inicio):\n",
    "    # Vamos a mantener una lista con los nodos visitados.\n",
    "    visitados = []\n",
    "    # La cola de siempre, comienza desde el nodo inicio.\n",
    "    queue = deque([inicio])\n",
    "\n",
    "    while len(queue) > 0:\n",
    "        # Elegimos el siguiente nodo a visitar de la cola\n",
    "        vertice = queue.popleft()\n",
    "        # Detalle clave: si ya visitamos el nodo, no hacemos nada!\n",
    "        if vertice in visitados:\n",
    "            continue\n",
    "\n",
    "        # Lo visitamos\n",
    "        print(vertice)\n",
    "        visitados.append(vertice)\n",
    "        # Agregamos los vecinos a la cola si es que no han sido visitados.\n",
    "        for vecino in grafo[vertice]:\n",
    "            if vecino not in visitados:\n",
    "                queue.append(vecino)\n",
    "    return visitados"
   ]
  },
  {
   "cell_type": "markdown",
   "metadata": {
    "pycharm": {
     "name": "#%% md\n"
    },
    "slideshow": {
     "slide_type": "skip"
    }
   },
   "source": [
    "### DFS (Depth-first search)\n",
    " - Es un recorrido en **profundidad**. A grandes rasgos, se va visitando el primer vecino de cada nivel hasta llegar al último nivel posible, es decir, intentando llegar lo más lejos que puede antes de devolverse.\n",
    " - Utiliza un **stack** para mantener registro de los nodos **por visitar**.\n",
    " - Su versión iterativa es muy parecida a BFS, el orden de recorrido cambia al utilizar un **stack** en vez de un **queue**.\n",
    " - Es útil para encontrar rápidamente una solución cuando sabemos de antemano que es \"profunda\", por ejemplo, cuando se tiene que encontrar un camino entre dos puntos y dicho camino recorre muchos nodos.\n",
    "\n",
    "![dfs](https://i.imgur.com/VQWZmya.gif)\n",
    "\n",
    "Veamos el ejemplo de los contenidos del curso:\n",
    "\n",
    "#### Versión iterativa"
   ]
  },
  {
   "cell_type": "code",
   "execution_count": 5,
   "metadata": {
    "pycharm": {
     "name": "#%%\n"
    },
    "slideshow": {
     "slide_type": "skip"
    }
   },
   "outputs": [],
   "source": [
    "def dfs(grafo, inicio):\n",
    "    # Vamos a mantener un set con los nodos visitados.\n",
    "    visitados = set()\n",
    "    # El stack de siempre, comienza desde el nodo inicio.\n",
    "    stack = [inicio]\n",
    "\n",
    "    while len(stack) > 0:\n",
    "        vertice = stack.pop()\n",
    "        # Detalle clave: si ya visitamos el nodo, ¡no hacemos nada!\n",
    "        if vertice in visitados:\n",
    "            continue\n",
    "        # Lo visitamos\n",
    "        print(vertice)\n",
    "        visitados.add(vertice)\n",
    "\n",
    "        # Agregamos los vecinos al stack si es que no han sido visitados.\n",
    "        for vecino in grafo[vertice]:\n",
    "            if vecino not in visitados:\n",
    "                stack.append(vecino)\n",
    "\n",
    "    return list(visitados)"
   ]
  },
  {
   "cell_type": "markdown",
   "metadata": {
    "pycharm": {
     "name": "#%% md\n"
    },
    "slideshow": {
     "slide_type": "skip"
    }
   },
   "source": [
    "#### Versión recursiva"
   ]
  },
  {
   "cell_type": "code",
   "execution_count": 4,
   "metadata": {
    "pycharm": {
     "name": "#%%\n"
    },
    "slideshow": {
     "slide_type": "skip"
    }
   },
   "outputs": [],
   "source": [
    "# Vamos a mantener como parámetro un set con los nodos visitados.\n",
    "def dfs_recursivo(grafo, vertice, visitados=None):\n",
    "    visitados = visitados or set()\n",
    "\n",
    "    # Lo visitamos\n",
    "    print(vertice)\n",
    "    visitados.add(vertice)\n",
    "\n",
    "    for vecino in grafo[vertice]:\n",
    "        # Detalle clave: si ya visitamos el nodo, ¡no hacemos nada!\n",
    "        if vecino not in visitados:\n",
    "            dfs_recursivo(grafo, vecino, visitados)\n",
    "\n",
    "    return list(visitados)"
   ]
  },
  {
   "cell_type": "markdown",
   "metadata": {
    "pycharm": {
     "name": "#%% md\n"
    },
    "slideshow": {
     "slide_type": "skip"
    }
   },
   "source": [
    "**Cabe destacar que ambos métodos recorren exhaustivamente el grafo, dado un punto de partida.** Por lo que si un nodo no fue visitado en el recorrido, significa que **no es alcanzable** desde ese punto de partida.\n",
    "\n",
    "## Ejercicio propuesto\n",
    "Ahora vamos a aplicar los conceptos de grafo y BFS en un ejemplo concreto"
   ]
  },
  {
   "cell_type": "markdown",
   "metadata": {
    "slideshow": {
     "slide_type": "skip"
    }
   },
   "source": [
    "### Ahora haremos una versión más corta de la actividad sumativa 03 del 2020-2"
   ]
  },
  {
   "cell_type": "markdown",
   "metadata": {
    "slideshow": {
     "slide_type": "skip"
    }
   },
   "source": [
    "En el contexto de la pandemia el programa consiste representar las redes de aeropuertos del mundo como un grafo dirigido. Los aeropuertos tienen conexiones entre sí, y cada una de ellas tiene un cierto riesgo asociado, representado\n",
    "como un número de **_infectados_**. Este número equivale a una estimación (realizada por el departamento\n",
    "de Probabilidades y Estadísticas) sobre la cantidad de infectados que puede generar un vuelo desde un\n",
    "aeropuerto hacia otro."
   ]
  },
  {
   "cell_type": "markdown",
   "metadata": {
    "slideshow": {
     "slide_type": "skip"
    }
   },
   "source": [
    "Al iniciar el programa, se poblará el grafo, representado en RedesMundiales, con los datos iniciales. Luego se deberá agregar los Aeropuertos candidatos\n",
    "y sus Conexiones."
   ]
  },
  {
   "cell_type": "markdown",
   "metadata": {
    "slideshow": {
     "slide_type": "skip"
    }
   },
   "source": [
    "A continuación se deja una figura que representa el grafo con todas las redes que\n",
    "se encuentran en RedesMundiales y los infectados en cada conexión, a partir de los datos reales de los\n",
    "archivos entregados."
   ]
  },
  {
   "cell_type": "markdown",
   "metadata": {
    "slideshow": {
     "slide_type": "skip"
    }
   },
   "source": [
    "![](img/graph.png \"Graph\")"
   ]
  },
  {
   "cell_type": "markdown",
   "metadata": {},
   "source": [
    "A partir de la figura anterior podemos ver que los nodos corresponden a los aeropuertos y las aristas a las conexiones entre los aeropuertos. Por lo que es posible definir dos tipos de entidades: la clase Aeropuerto y la clase Conexion."
   ]
  },
  {
   "cell_type": "code",
   "execution_count": null,
   "metadata": {},
   "outputs": [],
   "source": [
    "class Aeropuerto:\n",
    "    def __init__(self, aeropuerto_id, nombre):\n",
    "        self.id = aeropuerto_id\n",
    "        self.nombre = nombre\n",
    "        self.conexiones = []\n",
    "\n",
    "    def __repr__(self):\n",
    "        return f\"ID del aeropuerto:{self.id}\"\n",
    "\n",
    "\n",
    "class Conexion:\n",
    "    def __init__(self, aeropuerto_inicio_id, aeropuerto_llegada_id, infectados):\n",
    "\n",
    "        self.aeropuerto_inicio_id = aeropuerto_inicio_id\n",
    "        self.aeropuerto_llegada_id = aeropuerto_llegada_id\n",
    "        self.infectados = infectados\n",
    "\n",
    "    def __repr__(self):\n",
    "        return f\"{self.aeropuerto_inicio_id}->{self.aeropuerto_llegada_id}\""
   ]
  },
  {
   "cell_type": "markdown",
   "metadata": {},
   "source": [
    "Por otra parte, el grafo es modelado en la clase RedesMundiales y que contiene las acciones que se pueden realizar como por ejemplo agregar/eliminar nodos y conexiones."
   ]
  },
  {
   "cell_type": "code",
   "execution_count": 17,
   "metadata": {
    "slideshow": {
     "slide_type": "skip"
    }
   },
   "outputs": [],
   "source": [
    "class RedesMundiales:\n",
    "\n",
    "    def __init__(self):\n",
    "        # Estructura donde se guardaran los aeropuertos\n",
    "        # Cada llave es un id y el valor es una instancia de Aeropuerto\n",
    "        self.aeropuertos = {}"
   ]
  },
  {
   "cell_type": "code",
   "execution_count": 18,
   "metadata": {
    "slideshow": {
     "slide_type": "skip"
    }
   },
   "outputs": [],
   "source": [
    " def agregar_aeropuerto(self, aeropuerto_id, nombre):\n",
    "\n",
    "        agregar_aeropuerto = Aeropuerto(aeropuerto_id, nombre)\n",
    "        self.aeropuertos[agregar_aeropuerto.id] = agregar_aeropuerto"
   ]
  },
  {
   "cell_type": "code",
   "execution_count": 19,
   "metadata": {
    "slideshow": {
     "slide_type": "skip"
    }
   },
   "outputs": [],
   "source": [
    " def cargar_red(self, ruta_aeropuertos, ruta_conexiones):\n",
    "\n",
    "        # Primero se crean todos los aeropuertos\n",
    "        for aeropuerto_id, nombre in cargar_aeropuertos(ruta_aeropuertos):\n",
    "            self.agregar_aeropuerto(aeropuerto_id, nombre)\n",
    "\n",
    "        # Después generamos las conexiones\n",
    "        for id_partida, id_salida, infectados in cargar_conexiones(ruta_conexiones):\n",
    "            self.agregar_conexion(id_partida, id_salida, infectados)"
   ]
  },
  {
   "cell_type": "markdown",
   "metadata": {
    "slideshow": {
     "slide_type": "skip"
    }
   },
   "source": [
    "```python\n",
    "def agregar_conexion(self, aeropuerto_id_partida, aeropuerto_id_llegada, infectados):\n",
    "```\n",
    "Este método recibe aeropuerto_id_partida, que es el id del Aeropuerto de partida de la conexión\n",
    "y aeropuerto_id_llegada, que es el `id` del de llegada. Deberás completar este método, tal que se\n",
    "verifique que ambos aeropuertos se encuentran en self.aeropuertos y que la conexión no existe.\n",
    "En caso de cumplirse estas condiciones, se deberá crear la conexión entre ambos Aeropuertos. Para\n",
    "esto basta actualizar las listas conexiones del Aeropuerto de partida.\n"
   ]
  },
  {
   "cell_type": "code",
   "execution_count": 20,
   "metadata": {
    "slideshow": {
     "slide_type": "skip"
    }
   },
   "outputs": [],
   "source": [
    "def agregar_conexion(self, aeropuerto_id_partida, aeropuerto_id_llegada, infectados):\n",
    "    partida = aeropuerto_id_partida\n",
    "    llegada = aeropuerto_id_llegada\n",
    "\n",
    "    aeropuerto_partida = self.aeropuertos.get(partida)\n",
    "    aeropuerto_llegada = self.aeropuertos.get(llegada)\n",
    "\n",
    "    if aeropuerto_partida and aeropuerto_llegada:\n",
    "        conexion = Conexion(partida, llegada, infectados)\n",
    "\n",
    "        if conexion not in aeropuerto_partida.conexiones:\n",
    "            aeropuerto_partida.conexiones.append(conexion)\n",
    "\n"
   ]
  },
  {
   "cell_type": "code",
   "execution_count": 21,
   "metadata": {
    "slideshow": {
     "slide_type": "skip"
    }
   },
   "outputs": [],
   "source": [
    "def eliminar_conexion(self, conexion):\n",
    "        id_partida = conexion.aeropuerto_inicio_id\n",
    "        id_llegada = conexion.aeropuerto_llegada_id\n",
    "        aeropuerto_inicio = self.aeropuertos.get(id_partida)\n",
    "        for conexion in aeropuerto_inicio.conexiones:\n",
    "            if conexion.aeropuerto_llegada_id == id_llegada:\n",
    "                aeropuerto_inicio.conexiones.remove(c)\n",
    "                break\n"
   ]
  },
  {
   "cell_type": "markdown",
   "metadata": {
    "slideshow": {
     "slide_type": "skip"
    }
   },
   "source": [
    "```python\n",
    "def escala_mas_corta(self, id_aeropuerto_1, id_aeropuerto_2):\n",
    "```\n",
    " Este método recibe los identificadores para un aeropuerto de partida y un aeropuerto de llegada. Este método puede retornar\n",
    "o simplemente imprimir las partes de la ruta más corta posible entre estos dos aeropuertos (puedes\n",
    "retornar/imprimir los nodos o las conexiones). En caso, de que no se pueda llegar del aeropuerto\n",
    "de partida al aeropuerto de llegada, no deberás, retornar ni imprimir nada. **Puedes agregar la\n",
    "cantidad de argumentos que te parezcan necesarios para completar este método.**"
   ]
  },
  {
   "cell_type": "code",
   "execution_count": 22,
   "metadata": {
    "slideshow": {
     "slide_type": "skip"
    }
   },
   "outputs": [],
   "source": [
    "#Version Recursiva, se puede hacer iterativa tambien, es a gusto del programador\n",
    "def escala_mas_corta(self, aeropuerto1_id, aeropuerto2_id, lista_visitados = [], ruta = [], distancia = float('inf')):\n",
    "    aeropuerto_1 = self.aeropuertos[aeropuerto1_id]\n",
    "    aeropuerto_2 = self.aeropuertos[aeropuerto2_id]\n",
    "    self.ruta = ruta\n",
    "    self.distancia = distancia\n",
    "    \n",
    "    for conexion in aeropuerto_1.conexiones:\n",
    "        aeropuerto = self.aeropuertos.get(conexion.aeropuerto_llegada_id)\n",
    "        if aeropuerto not in lista_visitados:\n",
    "            lista_visitados.append(aeropuerto)\n",
    "            if aeropuerto == aeropuerto_2:\n",
    "                if len(lista_visitados) < self.distancia and lista_visitados:\n",
    "                    self.distancia = len(lista_visitados)\n",
    "                    self.ruta = lista_visitados\n",
    "                    print(self.ruta)\n",
    "            elif aeropuerto.conexiones:\n",
    "                self.escala_mas_corta(aeropuerto.id, aeropuerto_2.id, lista_visitados, self.ruta, self.distancia)\n",
    "            lista_visitados.remove(aeropuerto)\n",
    "    return self.ruta"
   ]
  },
  {
   "cell_type": "markdown",
   "metadata": {},
   "source": [
    "## Ejercicio Propuesto II"
   ]
  },
  {
   "cell_type": "markdown",
   "metadata": {},
   "source": [
    "Resolveremos un sudoku de 4 filas y 4 columnas, es decir, menos celdas utilizando el método DFS."
   ]
  },
  {
   "cell_type": "code",
   "execution_count": 6,
   "metadata": {},
   "outputs": [],
   "source": [
    "class Nodo:\n",
    "    def __init__(self, columna, fila, valor):\n",
    "        self.fila = fila\n",
    "        self.columna = columna\n",
    "        self.valor = valor\n",
    "        self.vecinos = []\n",
    "    \n",
    "    def __repr__(self):\n",
    "        return self.columna + str(self.fila)"
   ]
  },
  {
   "cell_type": "code",
   "execution_count": 7,
   "metadata": {},
   "outputs": [],
   "source": [
    "class Grafo:\n",
    "    def __init__(self):\n",
    "        self.celdas = {}\n",
    "    \n",
    "    def __repr__(self):\n",
    "        completo = \"\"\n",
    "        for i in range(1,5):\n",
    "            a = self.celdas[\"A\"+str(i)].valor\n",
    "            b = self.celdas[\"B\"+str(i)].valor\n",
    "            c = self.celdas[\"C\"+str(i)].valor\n",
    "            d = self.celdas[\"D\"+str(i)].valor\n",
    "            fila = f\"| {a} | {b} | {c} | {d} |\\n\"\n",
    "            completo += fila\n",
    "        return completo"
   ]
  },
  {
   "cell_type": "code",
   "execution_count": 8,
   "metadata": {},
   "outputs": [
    {
     "name": "stdout",
     "output_type": "stream",
     "text": [
      "A1 tiene vecinos a [A2, A3, A4, B1, C1, D1]\n",
      "A2 tiene vecinos a [A1, A3, A4, B2, C2, D2]\n",
      "A3 tiene vecinos a [A1, A2, A4, B3, C3, D3]\n",
      "A4 tiene vecinos a [A1, A2, A3, B4, C4, D4]\n",
      "B1 tiene vecinos a [A1, B2, B3, B4, C1, D1]\n",
      "B2 tiene vecinos a [A2, B1, B3, B4, C2, D2]\n",
      "B3 tiene vecinos a [A3, B1, B2, B4, C3, D3]\n",
      "B4 tiene vecinos a [A4, B1, B2, B3, C4, D4]\n",
      "C1 tiene vecinos a [A1, B1, C2, C3, C4, D1]\n",
      "C2 tiene vecinos a [A2, B2, C1, C3, C4, D2]\n",
      "C3 tiene vecinos a [A3, B3, C1, C2, C4, D3]\n",
      "C4 tiene vecinos a [A4, B4, C1, C2, C3, D4]\n",
      "D1 tiene vecinos a [A1, B1, C1, D2, D3, D4]\n",
      "D2 tiene vecinos a [A2, B2, C2, D1, D3, D4]\n",
      "D3 tiene vecinos a [A3, B3, C3, D1, D2, D4]\n",
      "D4 tiene vecinos a [A4, B4, C4, D1, D2, D3]\n",
      "| 1 | 2 | 4 | - |\n",
      "| 3 | - | - | 2 |\n",
      "| 4 | 3 | - | 1 |\n",
      "| - | 1 | 3 | 4 |\n",
      "\n"
     ]
    }
   ],
   "source": [
    "sudoku = Grafo()\n",
    "\n",
    "# Agregamos los nodos que en este caso son las celdas\n",
    "sudoku.celdas[\"A1\"] = Nodo(\"A\", 1, 1)\n",
    "sudoku.celdas[\"A2\"] = Nodo(\"A\", 2, 3)\n",
    "sudoku.celdas[\"A3\"] = Nodo(\"A\", 3, 4)\n",
    "sudoku.celdas[\"A4\"] = Nodo(\"A\", 4, \"-\")\n",
    "sudoku.celdas[\"B1\"] = Nodo(\"B\", 1, 2)\n",
    "sudoku.celdas[\"B2\"] = Nodo(\"B\", 2, \"-\")\n",
    "sudoku.celdas[\"B3\"] = Nodo(\"B\", 3, 3)\n",
    "sudoku.celdas[\"B4\"] = Nodo(\"B\", 4, 1)\n",
    "sudoku.celdas[\"C1\"] = Nodo(\"C\", 1, 4)\n",
    "sudoku.celdas[\"C2\"] = Nodo(\"C\", 2, \"-\")\n",
    "sudoku.celdas[\"C3\"] = Nodo(\"C\", 3, \"-\")\n",
    "sudoku.celdas[\"C4\"] = Nodo(\"C\", 4, 3)\n",
    "sudoku.celdas[\"D1\"] = Nodo(\"D\", 1, \"-\")\n",
    "sudoku.celdas[\"D2\"] = Nodo(\"D\", 2, 2)\n",
    "sudoku.celdas[\"D3\"] = Nodo(\"D\", 3, 1)\n",
    "sudoku.celdas[\"D4\"] = Nodo(\"D\", 4, 4)\n",
    "\n",
    "# Agregamos las conexiones entre nodos, \n",
    "# en este caso es no dirigido ya que una celda está conectada con todos los nodos de su misma fila, columna y cuadrante.\n",
    "for celda in sudoku.celdas.values():\n",
    "    for vecino in sudoku.celdas.values():\n",
    "        if celda.fila == vecino.fila and celda.columna == vecino.columna:\n",
    "            pass\n",
    "        elif celda.fila == vecino.fila:\n",
    "            celda.vecinos.append(vecino)\n",
    "        elif celda.columna == vecino.columna:\n",
    "            celda.vecinos.append(vecino)\n",
    "for celda in sudoku.celdas.values():\n",
    "    print(f\"{celda.columna}{celda.fila} tiene vecinos a {celda.vecinos}\")\n",
    "\n",
    "print(sudoku)"
   ]
  },
  {
   "cell_type": "markdown",
   "metadata": {},
   "source": [
    "Ahora para terminar de llenar el sudoku debemos implementar la búsqueda DFS y así lograr completarlo!"
   ]
  },
  {
   "cell_type": "code",
   "execution_count": 17,
   "metadata": {},
   "outputs": [
    {
     "name": "stdout",
     "output_type": "stream",
     "text": [
      "D2\n",
      "A2\n",
      "A1\n",
      "A3\n",
      "A4\n",
      "B4\n",
      "B1\n",
      "B2\n",
      "B3\n",
      "C3\n",
      "C1\n",
      "C2\n",
      "C4\n",
      "D4\n",
      "D1\n",
      "D3\n",
      "[D4, C3, D3, A2, B1, C2, C1, A1, B4, D2, A3, B2, D1, B3, C4, A4]\n",
      "| 1 | 2 | 4 | 3 |\n",
      "| 3 | 4 | 1 | 2 |\n",
      "| 4 | 3 | 2 | 1 |\n",
      "| 2 | 1 | 3 | 4 |\n",
      "\n"
     ]
    }
   ],
   "source": [
    "def dfs_recursivo(grafo, vertice, visitados=None):\n",
    "    visitados = visitados or set()\n",
    "\n",
    "    # Lo visitamos\n",
    "    print(vertice)\n",
    "    visitados.add(vertice)\n",
    "    \n",
    "    for vecino in grafo[vertice.columna + str(vertice.fila)].vecinos:\n",
    "        # Detalle clave: si ya visitamos el nodo, ¡no hacemos nada!\n",
    "        if vecino not in visitados:\n",
    "            dfs_recursivo(grafo, vecino, visitados)\n",
    "            if vertice.valor == \"-\":\n",
    "                values = [1, 2, 3, 4]\n",
    "                for vecino in vertice.vecinos:\n",
    "                    if vecino.valor in values:\n",
    "                        values.remove(vecino.valor)\n",
    "                vertice.valor = values[0]\n",
    "\n",
    "\n",
    "    return list(visitados)\n",
    "\n",
    "print(dfs_recursivo(sudoku.celdas, sudoku.celdas[\"D2\"]))\n",
    "print(sudoku)"
   ]
  },
  {
   "cell_type": "code",
   "execution_count": 18,
   "metadata": {},
   "outputs": [
    {
     "name": "stdout",
     "output_type": "stream",
     "text": [
      "D2\n",
      "A2\n",
      "A1\n",
      "A3\n",
      "A4\n",
      "B4\n",
      "B1\n",
      "B2\n",
      "B3\n",
      "C3\n",
      "C1\n",
      "C2\n",
      "C4\n",
      "D4\n",
      "D1\n",
      "D3\n",
      "[D4, C3, D3, A2, B1, C2, C1, A1, B4, D2, A3, B2, D1, B3, C4, A4]\n",
      "| 1 | 2 | 4 | 3 |\n",
      "| 3 | 4 | 1 | 2 |\n",
      "| 4 | 3 | 2 | 1 |\n",
      "| 2 | 1 | 3 | 4 |\n",
      "\n"
     ]
    }
   ],
   "source": [
    "def dfs_iterativo(grafo, vertice):\n",
    "    visitados = set()\n",
    "    por_visitar = [vertice]\n",
    "    print(vertice)\n",
    "    visitados.add(vertice)\n",
    "    while por_visitar:\n",
    "        visitado = por_visitar.pop()\n",
    "    for vecino in grafo[visitado.columna + str(visitado.fila)].vecinos:\n",
    "        # Detalle clave: si ya visitamos el nodo, ¡no hacemos nada!\n",
    "        if vecino not in visitados:\n",
    "            if visitado.valor == \"-\":\n",
    "                values = [1, 2, 3, 4]\n",
    "                for vecino in visitado.vecinos:\n",
    "                    if vecino.valor in values:\n",
    "                        values.remove(vecino.valor)\n",
    "                visitado.valor = values[0]\n",
    "\n",
    "    return list(visitados)\n",
    "\n",
    "print(dfs_recursivo(sudoku.celdas, sudoku.celdas[\"D2\"]))\n",
    "print(sudoku)"
   ]
  },
  {
   "cell_type": "code",
   "execution_count": null,
   "metadata": {},
   "outputs": [],
   "source": []
  }
 ],
 "metadata": {
  "celltoolbar": "Slideshow",
  "kernelspec": {
   "display_name": "Python 3",
   "language": "python",
   "name": "python3"
  },
  "language_info": {
   "codemirror_mode": {
    "name": "ipython",
    "version": 3
   },
   "file_extension": ".py",
   "mimetype": "text/x-python",
   "name": "python",
   "nbconvert_exporter": "python",
   "pygments_lexer": "ipython3",
   "version": "3.7.8"
  }
 },
 "nbformat": 4,
 "nbformat_minor": 1
}

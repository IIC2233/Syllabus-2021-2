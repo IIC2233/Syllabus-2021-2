{
 "cells": [
  {
   "cell_type": "markdown",
   "metadata": {
    "slideshow": {
     "slide_type": "slide"
    }
   },
   "source": [
    "# **Ayudantía 7: I/O, Serialización, Networking**\n",
    "\n",
    "### Autores\n",
    "* Camila González ([@camilagonzalezp](https://github.com/camilagonzalezp))\n",
    "* Simón Jaramillo ([@try-except](https://github.com/try-except))\n",
    "* Caua Terra"
   ]
  },
  {
   "cell_type": "markdown",
   "metadata": {
    "slideshow": {
     "slide_type": "slide"
    }
   },
   "source": [
    "# I/0"
   ]
  },
  {
   "cell_type": "markdown",
   "metadata": {
    "slideshow": {
     "slide_type": "fragment"
    }
   },
   "source": [
    "## ¿Cómo \"piensan\" los computadores?\n",
    "\n",
    "* Seguramente has escuchado que los computadores solo piensan en \"unos y ceros\", estos \"unos y ceros\" se llaman *bits*\n",
    "* Un *bit* es la unidad básica de la computación y un grupo de ocho *bits* seguidos se llama *byte*\n",
    "* Absolutamente todo dentro del computador está expresado en *bits*; los programas, los archivos, etc."
   ]
  },
  {
   "cell_type": "markdown",
   "metadata": {
    "slideshow": {
     "slide_type": "subslide"
    }
   },
   "source": [
    "## Ejemplo: Hello World\n",
    "\n",
    "Por ejemplo, un código de `python` que imprima `\"hello world\"` para un humano se ve así:"
   ]
  },
  {
   "cell_type": "code",
   "execution_count": 1,
   "metadata": {
    "slideshow": {
     "slide_type": "fragment"
    }
   },
   "outputs": [
    {
     "name": "stdout",
     "output_type": "stream",
     "text": [
      "hello world\n"
     ]
    }
   ],
   "source": [
    "print(\"hello world\")"
   ]
  },
  {
   "cell_type": "markdown",
   "metadata": {
    "slideshow": {
     "slide_type": "fragment"
    }
   },
   "source": [
    "Y para el computador se ve así:"
   ]
  },
  {
   "cell_type": "markdown",
   "metadata": {
    "slideshow": {
     "slide_type": "fragment"
    }
   },
   "source": [
    "```\n",
    "01110000 01110010 01101001 01101110 01110100 00101000\n",
    "00100010 01101000 01100101 01101100 01101100 01101111\n",
    "00100000 01110111 01101111 01110010 01101100 01100100\n",
    "00100010 00101001 00001010\n",
    "```"
   ]
  },
  {
   "cell_type": "markdown",
   "metadata": {
    "slideshow": {
     "slide_type": "fragment"
    }
   },
   "source": [
    "Cada grupo de 8 dígitos representa un número entero, el cual a su vez representa un carácter del código.\n",
    "\n",
    "Como son muchos unos y ceros, es común usar una representación más cómoda de los bytes, como por ejemplo en forma *hexadecimal*:"
   ]
  },
  {
   "cell_type": "markdown",
   "metadata": {
    "slideshow": {
     "slide_type": "fragment"
    }
   },
   "source": [
    "```\n",
    "7072 696e 7428 2268 656c 6c6f 2077 6f72\n",
    "6c64 2229 0a\n",
    "```"
   ]
  },
  {
   "cell_type": "markdown",
   "metadata": {
    "slideshow": {
     "slide_type": "subslide"
    }
   },
   "source": [
    "## ¿Cómo \"leen\" los computadores?\n",
    "\n",
    "* Los humanos podemos leer de izquierda a derecha, de derecha a izquierda, de arriba hacia abajo, etc.\n",
    "* Al momento de diseñar un computador, hay que decidir en qué orden va a leer los *bytes*\n",
    "* En 1980 aparecen los términos *Big-endian* y *Little-endian* para designar dos ordenes distintos ([referencia](https://www.rfc-editor.org/ien/ien137.txt))\n",
    "* Al mover *bytes* de un lado a otro, es muy importante saber en qué *endianess* fueron escritos"
   ]
  },
  {
   "cell_type": "code",
   "execution_count": 6,
   "metadata": {
    "slideshow": {
     "slide_type": "fragment"
    }
   },
   "outputs": [
    {
     "name": "stdout",
     "output_type": "stream",
     "text": [
      "b'\\x00\\x00\\x00\\x08'\n",
      "b'\\x08\\x00\\x00\\x00'\n",
      "134217728\n",
      "8\n"
     ]
    }
   ],
   "source": [
    "mi_int = 8\n",
    "bytes_int = mi_int.to_bytes(4, 'big') # codificado en Little Endian\n",
    "\n",
    "print(bytes_int)\n",
    "print(mi_int.to_bytes(4, 'little'))\n",
    "\n",
    "int_decodificado = int.from_bytes(bytes_int, 'little')\n",
    "int_mal_decodificado = int.from_bytes(bytes_int, 'big')\n",
    "\n",
    "print(int_decodificado)\n",
    "print(int_mal_decodificado)"
   ]
  },
  {
   "cell_type": "markdown",
   "metadata": {},
   "source": [
    "0000001 => 1\n",
    "(0)*2^7 + (0)*2^6 ... + (1)*2^0 => 1\n",
    "\n",
    "(0)*2^0 + (0)*2^6 + ... + (1)*2^7 => 2^7"
   ]
  },
  {
   "cell_type": "markdown",
   "metadata": {
    "slideshow": {
     "slide_type": "subslide"
    }
   },
   "source": [
    "## I/O en `python`\n",
    "\n",
    "* En `python` hay muchas formas para crear un objeto de clase `bytes`\n",
    "* Una letra `b` antes de un `string` indica que es un string de bytes"
   ]
  },
  {
   "cell_type": "code",
   "execution_count": 5,
   "metadata": {
    "slideshow": {
     "slide_type": "fragment"
    }
   },
   "outputs": [
    {
     "name": "stdout",
     "output_type": "stream",
     "text": [
      "mis_bytes = b'print(\"hello world\")\\n'\n",
      "mismos_bytes = print(\"hello world\")\n",
      "\n"
     ]
    }
   ],
   "source": [
    "mis_bytes = bytes.fromhex(\"7072 696e 7428 2268 656c 6c6f 2077 6f72 6c64 2229 0a\")\n",
    "mismos_bytes = b\"\\x70\\x72\\x69\\x6e\\x74\\x28\\x22\\x68\\x65\\x6c\\x6c\\x6f\\x20\\x77\\x6f\\x72\\x6c\\x64\\x22\\x29\\x0a\"\n",
    "print('mis_bytes =', mis_bytes)\n",
    "print('mismos_bytes =', mismos_bytes.decode(\"ascii\"))"
   ]
  },
  {
   "cell_type": "markdown",
   "metadata": {
    "slideshow": {
     "slide_type": "notes"
    }
   },
   "source": [
    "Lo más probable es que acá salgan dudas sobre `decode`"
   ]
  },
  {
   "cell_type": "markdown",
   "metadata": {
    "slideshow": {
     "slide_type": "subslide"
    }
   },
   "source": [
    "## Bytearrays\n",
    "\n",
    "* Los objetos de tipo `bytes`, al igual que los `strings` son *inmutables*\n",
    "* Los `bytearrays` son una colección (arreglo) de `bytes` que sí es *mutable*"
   ]
  },
  {
   "cell_type": "code",
   "execution_count": 6,
   "metadata": {
    "slideshow": {
     "slide_type": "fragment"
    }
   },
   "outputs": [
    {
     "name": "stdout",
     "output_type": "stream",
     "text": [
      "bytearray(b'hello world')\n",
      "bytearray(b'print(\"hola mundo\")\\n')\n"
     ]
    }
   ],
   "source": [
    "mi_bytearray = bytearray(b\"\\x70\\x72\\x69\\x6e\\x74\\x28\\x22\\x68\\x65\\x6c\\x6c\\x6f\\x20\\x77\\x6f\\x72\\x6c\\x64\\x22\\x29\\x0a\")\n",
    "print(mi_bytearray[7:18])\n",
    "mi_bytearray[7:18] = b\"hola mundo\"\n",
    "print(mi_bytearray)"
   ]
  },
  {
   "cell_type": "markdown",
   "metadata": {
    "slideshow": {
     "slide_type": "notes"
    }
   },
   "source": [
    "Quizás acá van a preguntar qué significa mutable"
   ]
  },
  {
   "cell_type": "markdown",
   "metadata": {
    "slideshow": {
     "slide_type": "subslide"
    }
   },
   "source": [
    "## Chunks\n",
    "* Muchas veces tendremos que manejar grandes cantidades de `bytes` al mismo tiempo, lo que puede ser muy lento\n",
    "* Podemos seleccionar solo una porción de los `bytes` cada vez para no llenar la memoria"
   ]
  },
  {
   "cell_type": "markdown",
   "metadata": {
    "slideshow": {
     "slide_type": "subslide"
    }
   },
   "source": [
    "### I/O de archivos\n",
    "\n",
    "* Como vimos en el ejemplo anterior, los archivos son una colección de *bytes*\n",
    "* Para leer un archivo sin decodificarlo, usamos el modo `rb` de la función `open`\n",
    "\n",
    "```python\n",
    ">>> with open('hello_world.py', 'rb') as archivo:\n",
    "...     print(archivo.read())\n",
    "\n",
    "b'print(\"hello world\")\\n'\n",
    "```"
   ]
  },
  {
   "cell_type": "markdown",
   "metadata": {
    "slideshow": {
     "slide_type": "fragment"
    }
   },
   "source": [
    "* Para escribir un archivo a partir de bytes, usamos el modo `wb` (write bytes)\n",
    "\n",
    "```python\n",
    ">>> mis_bytes = bytes.fromhex(\"7072 696e 7428 2268 656c 6c6f 2077 6f72 6c64 2229 0a\")\n",
    ">>> with open('hello_world.py', 'wb') as archivo:\n",
    "...     archivo.write(mis_bytes)\n",
    "```"
   ]
  },
  {
   "cell_type": "markdown",
   "metadata": {
    "slideshow": {
     "slide_type": "slide"
    }
   },
   "source": [
    "# Serialización"
   ]
  },
  {
   "cell_type": "markdown",
   "metadata": {
    "slideshow": {
     "slide_type": "fragment"
    }
   },
   "source": [
    "### Primero, ¿Qué es serialización?"
   ]
  },
  {
   "cell_type": "markdown",
   "metadata": {
    "slideshow": {
     "slide_type": "fragment"
    }
   },
   "source": [
    "### Serializar es guarda la información de forma persistente, puede ser como bytes(Pickle es un ejemplo) o como un formato de texto estandarizado (JSON es un ejemplo)."
   ]
  },
  {
   "cell_type": "markdown",
   "metadata": {
    "slideshow": {
     "slide_type": "subslide"
    }
   },
   "source": [
    "### Ya y para que sirve? "
   ]
  },
  {
   "cell_type": "markdown",
   "metadata": {
    "slideshow": {
     "slide_type": "fragment"
    }
   },
   "source": [
    "### Nada, se acabo la Ayudantia Chau"
   ]
  },
  {
   "cell_type": "markdown",
   "metadata": {
    "slideshow": {
     "slide_type": "subslide"
    }
   },
   "source": [
    "### Ya y para que sirve? \n",
    "\n",
    "### ~~Nada, se acabo la Ayudantia Chau~~\n",
    "### Cada programador puede programar en un lenguaje distinto, un idioma distinto, etc. \n",
    "### Imagina como seria la comunicación entre distintos programadores si toda la información fuera armazenada de forma arbritaria, seria horrible, por eso serializamos, para tener una padronización de nuestra información que queremos guardar.\n"
   ]
  },
  {
   "cell_type": "markdown",
   "metadata": {
    "slideshow": {
     "slide_type": "subslide"
    }
   },
   "source": [
    "# Pickle vs JSON\n",
    "\n",
    "![Resumen](imgs/resumen.png)"
   ]
  },
  {
   "cell_type": "markdown",
   "metadata": {
    "slideshow": {
     "slide_type": "subslide"
    }
   },
   "source": [
    "### Metodos Útiles\n",
    "\n",
    "* `dumps(obj)`: Serializa un objeto, es decir, lo guarda.\n",
    "* `loads(bytes)`: Deserializa un objeto serializado, es decir, lo carga a su estado original.\n",
    "\n",
    "* `dump(obj, file)`: Serializa el objeto y lo guarda en un archivo.\n",
    "* `load(file)`: Deserializa un objeto almacenado en un archivo."
   ]
  },
  {
   "cell_type": "code",
   "execution_count": 3,
   "metadata": {},
   "outputs": [
    {
     "name": "stdout",
     "output_type": "stream",
     "text": [
      "Tipo serialización picke: <class 'bytes'>\n",
      "Serialización picke: b'\\x80\\x04\\x95B\\x00\\x00\\x00\\x00\\x00\\x00\\x00}\\x94(\\x8c\\rmi_variable_1\\x94K\\x08K\\x02\\x8c\\x05Hello\\x94\\x8c\\x04tres\\x94\\x88G@\\x10\\x00\\x00\\x00\\x00\\x00\\x00]\\x94(\\x8c\\x011\\x94\\x8c\\x012\\x94\\x8c\\x013\\x94eu.'\n",
      "Tipo serialización JSON: <class 'str'>\n",
      "Serialización JSON: {\"mi_variable_1\": 8, \"2\": \"Hello\", \"tres\": true, \"4.0\": [\"1\", \"2\", \"3\"]}\n",
      "\n",
      "Tipo deserialización picke: <class 'dict'>\n",
      "Deserialización picke: {'mi_variable_1': 8, 2: 'Hello', 'tres': True, 4.0: ['1', '2', '3']}\n",
      "Tipo deserialización JSON: <class 'dict'>\n",
      "Deserialización JSON: {'mi_variable_1': 8, '2': 'Hello', 'tres': True, '4.0': ['1', '2', '3']}\n"
     ]
    }
   ],
   "source": [
    "import pickle\n",
    "import json\n",
    "\n",
    "diccionario = {\n",
    "    'mi_variable_1': 8,\n",
    "    2: 'Hello',\n",
    "    'tres': True,\n",
    "    4.0: ['1', '2', '3']\n",
    "}\n",
    "\n",
    "serializacion_pickle = pickle.dumps(diccionario)\n",
    "serializacion_json = json.dumps(diccionario)\n",
    "print(f\"Tipo serialización picke: {type(serializacion_pickle)}\")\n",
    "print(f\"Serialización picke: {serializacion_pickle}\")\n",
    "print(f\"Tipo serialización JSON: {type(serializacion_json)}\")\n",
    "print(f\"Serialización JSON: {serializacion_json}\")\n",
    "\n",
    "print(\"\")\n",
    "\n",
    "deserializacion_pickle = pickle.loads(serializacion_pickle)\n",
    "deserializacion_json = json.loads(serializacion_json)\n",
    "print(f\"Tipo deserialización picke: {type(deserializacion_pickle)}\")\n",
    "print(f\"Deserialización picke: {deserializacion_pickle}\")\n",
    "print(f\"Tipo deserialización JSON: {type(deserializacion_json)}\")\n",
    "print(f\"Deserialización JSON: {deserializacion_json}\")"
   ]
  },
  {
   "cell_type": "markdown",
   "metadata": {
    "slideshow": {
     "slide_type": "subslide"
    }
   },
   "source": [
    "### Personalización"
   ]
  },
  {
   "cell_type": "markdown",
   "metadata": {
    "slideshow": {
     "slide_type": "subslide"
    }
   },
   "source": [
    "### Set state(definir estado)\n",
    "Acá vamos decidir como cargar la información, si vamos cambiar algun elemento, o desencriptar por ejemplo."
   ]
  },
  {
   "cell_type": "markdown",
   "metadata": {
    "slideshow": {
     "slide_type": "fragment"
    }
   },
   "source": [
    "#### Pickle\n",
    "```python\n",
    "Basta definir el método __setstate__ en la clase que será responsable de la información.\n",
    "```"
   ]
  },
  {
   "cell_type": "markdown",
   "metadata": {
    "slideshow": {
     "slide_type": "fragment"
    }
   },
   "source": [
    "\n",
    "#### Jsonsito\n",
    "```\n",
    "Em Json hacemos uso del Object_hook, al hacer json.loads() ou json.load() se debe pasar como parametro la función que queremos que sea responsable por esa deserialización personalizada\n",
    "```"
   ]
  },
  {
   "cell_type": "markdown",
   "metadata": {
    "slideshow": {
     "slide_type": "subslide"
    }
   },
   "source": [
    "### Get State\n",
    "De forma análoga, acá vamos a obtener la información para guardarla"
   ]
  },
  {
   "cell_type": "markdown",
   "metadata": {
    "slideshow": {
     "slide_type": "fragment"
    }
   },
   "source": [
    "#### Pickle\n",
    "```python\n",
    "Basta definir el método __getstate__ en la clase para que se encargue de generar la información a guardar.\n",
    "```"
   ]
  },
  {
   "cell_type": "markdown",
   "metadata": {
    "slideshow": {
     "slide_type": "fragment"
    }
   },
   "source": [
    "#### Json\n",
    "```python\n",
    "Nuevamente Json es un poquito distinto, pero de forma análoga, vamos definir un método para poder personalizar esa serialización, en ese caso el método default, pero tambien hay que heredar de json.JSONEncoder en la clase que queremos que sea responsable por esa serialización.\n",
    "```"
   ]
  },
  {
   "cell_type": "markdown",
   "metadata": {
    "slideshow": {
     "slide_type": "slide"
    }
   },
   "source": [
    "# Ejemplo\n",
    "### Criptografar con pickle"
   ]
  },
  {
   "cell_type": "code",
   "execution_count": 24,
   "metadata": {},
   "outputs": [
    {
     "name": "stdout",
     "output_type": "stream",
     "text": [
      "{\"secreto\": \"hola soy un string\", \"lista\": []}\n"
     ]
    },
    {
     "ename": "TypeError",
     "evalue": "__init__() takes 1 positional argument but 2 were given",
     "output_type": "error",
     "traceback": [
      "\u001b[0;31m---------------------------------------------------------------------------\u001b[0m",
      "\u001b[0;31mTypeError\u001b[0m                                 Traceback (most recent call last)",
      "\u001b[0;32m/var/folders/tx/4_kl47v922v3dy40ycgkr5540000gn/T/ipykernel_99860/169426158.py\u001b[0m in \u001b[0;36m<module>\u001b[0;34m\u001b[0m\n\u001b[1;32m     49\u001b[0m \u001b[0mserializado\u001b[0m \u001b[0;34m=\u001b[0m \u001b[0mjson\u001b[0m\u001b[0;34m.\u001b[0m\u001b[0mdumps\u001b[0m\u001b[0;34m(\u001b[0m\u001b[0mobj\u001b[0m\u001b[0;34m,\u001b[0m \u001b[0mcls\u001b[0m\u001b[0;34m=\u001b[0m\u001b[0mSecretEncoder\u001b[0m\u001b[0;34m)\u001b[0m\u001b[0;34m\u001b[0m\u001b[0;34m\u001b[0m\u001b[0m\n\u001b[1;32m     50\u001b[0m \u001b[0mprint\u001b[0m\u001b[0;34m(\u001b[0m\u001b[0mserializado\u001b[0m\u001b[0;34m)\u001b[0m\u001b[0;34m\u001b[0m\u001b[0;34m\u001b[0m\u001b[0m\n\u001b[0;32m---> 51\u001b[0;31m \u001b[0mprint\u001b[0m\u001b[0;34m(\u001b[0m\u001b[0mjson\u001b[0m\u001b[0;34m.\u001b[0m\u001b[0mloads\u001b[0m\u001b[0;34m(\u001b[0m\u001b[0mserializado\u001b[0m\u001b[0;34m,\u001b[0m \u001b[0mobject_hook\u001b[0m\u001b[0;34m=\u001b[0m\u001b[0mSecretDecoder\u001b[0m\u001b[0;34m)\u001b[0m\u001b[0;34m)\u001b[0m\u001b[0;34m\u001b[0m\u001b[0;34m\u001b[0m\u001b[0m\n\u001b[0m",
      "\u001b[0;32m/opt/homebrew/Cellar/python@3.9/3.9.7/Frameworks/Python.framework/Versions/3.9/lib/python3.9/json/__init__.py\u001b[0m in \u001b[0;36mloads\u001b[0;34m(s, cls, object_hook, parse_float, parse_int, parse_constant, object_pairs_hook, **kw)\u001b[0m\n\u001b[1;32m    357\u001b[0m     \u001b[0;32mif\u001b[0m \u001b[0mparse_constant\u001b[0m \u001b[0;32mis\u001b[0m \u001b[0;32mnot\u001b[0m \u001b[0;32mNone\u001b[0m\u001b[0;34m:\u001b[0m\u001b[0;34m\u001b[0m\u001b[0;34m\u001b[0m\u001b[0m\n\u001b[1;32m    358\u001b[0m         \u001b[0mkw\u001b[0m\u001b[0;34m[\u001b[0m\u001b[0;34m'parse_constant'\u001b[0m\u001b[0;34m]\u001b[0m \u001b[0;34m=\u001b[0m \u001b[0mparse_constant\u001b[0m\u001b[0;34m\u001b[0m\u001b[0;34m\u001b[0m\u001b[0m\n\u001b[0;32m--> 359\u001b[0;31m     \u001b[0;32mreturn\u001b[0m \u001b[0mcls\u001b[0m\u001b[0;34m(\u001b[0m\u001b[0;34m**\u001b[0m\u001b[0mkw\u001b[0m\u001b[0;34m)\u001b[0m\u001b[0;34m.\u001b[0m\u001b[0mdecode\u001b[0m\u001b[0;34m(\u001b[0m\u001b[0ms\u001b[0m\u001b[0;34m)\u001b[0m\u001b[0;34m\u001b[0m\u001b[0;34m\u001b[0m\u001b[0m\n\u001b[0m",
      "\u001b[0;32m/opt/homebrew/Cellar/python@3.9/3.9.7/Frameworks/Python.framework/Versions/3.9/lib/python3.9/json/decoder.py\u001b[0m in \u001b[0;36mdecode\u001b[0;34m(self, s, _w)\u001b[0m\n\u001b[1;32m    335\u001b[0m \u001b[0;34m\u001b[0m\u001b[0m\n\u001b[1;32m    336\u001b[0m         \"\"\"\n\u001b[0;32m--> 337\u001b[0;31m         \u001b[0mobj\u001b[0m\u001b[0;34m,\u001b[0m \u001b[0mend\u001b[0m \u001b[0;34m=\u001b[0m \u001b[0mself\u001b[0m\u001b[0;34m.\u001b[0m\u001b[0mraw_decode\u001b[0m\u001b[0;34m(\u001b[0m\u001b[0ms\u001b[0m\u001b[0;34m,\u001b[0m \u001b[0midx\u001b[0m\u001b[0;34m=\u001b[0m\u001b[0m_w\u001b[0m\u001b[0;34m(\u001b[0m\u001b[0ms\u001b[0m\u001b[0;34m,\u001b[0m \u001b[0;36m0\u001b[0m\u001b[0;34m)\u001b[0m\u001b[0;34m.\u001b[0m\u001b[0mend\u001b[0m\u001b[0;34m(\u001b[0m\u001b[0;34m)\u001b[0m\u001b[0;34m)\u001b[0m\u001b[0;34m\u001b[0m\u001b[0;34m\u001b[0m\u001b[0m\n\u001b[0m\u001b[1;32m    338\u001b[0m         \u001b[0mend\u001b[0m \u001b[0;34m=\u001b[0m \u001b[0m_w\u001b[0m\u001b[0;34m(\u001b[0m\u001b[0ms\u001b[0m\u001b[0;34m,\u001b[0m \u001b[0mend\u001b[0m\u001b[0;34m)\u001b[0m\u001b[0;34m.\u001b[0m\u001b[0mend\u001b[0m\u001b[0;34m(\u001b[0m\u001b[0;34m)\u001b[0m\u001b[0;34m\u001b[0m\u001b[0;34m\u001b[0m\u001b[0m\n\u001b[1;32m    339\u001b[0m         \u001b[0;32mif\u001b[0m \u001b[0mend\u001b[0m \u001b[0;34m!=\u001b[0m \u001b[0mlen\u001b[0m\u001b[0;34m(\u001b[0m\u001b[0ms\u001b[0m\u001b[0;34m)\u001b[0m\u001b[0;34m:\u001b[0m\u001b[0;34m\u001b[0m\u001b[0;34m\u001b[0m\u001b[0m\n",
      "\u001b[0;32m/opt/homebrew/Cellar/python@3.9/3.9.7/Frameworks/Python.framework/Versions/3.9/lib/python3.9/json/decoder.py\u001b[0m in \u001b[0;36mraw_decode\u001b[0;34m(self, s, idx)\u001b[0m\n\u001b[1;32m    351\u001b[0m         \"\"\"\n\u001b[1;32m    352\u001b[0m         \u001b[0;32mtry\u001b[0m\u001b[0;34m:\u001b[0m\u001b[0;34m\u001b[0m\u001b[0;34m\u001b[0m\u001b[0m\n\u001b[0;32m--> 353\u001b[0;31m             \u001b[0mobj\u001b[0m\u001b[0;34m,\u001b[0m \u001b[0mend\u001b[0m \u001b[0;34m=\u001b[0m \u001b[0mself\u001b[0m\u001b[0;34m.\u001b[0m\u001b[0mscan_once\u001b[0m\u001b[0;34m(\u001b[0m\u001b[0ms\u001b[0m\u001b[0;34m,\u001b[0m \u001b[0midx\u001b[0m\u001b[0;34m)\u001b[0m\u001b[0;34m\u001b[0m\u001b[0;34m\u001b[0m\u001b[0m\n\u001b[0m\u001b[1;32m    354\u001b[0m         \u001b[0;32mexcept\u001b[0m \u001b[0mStopIteration\u001b[0m \u001b[0;32mas\u001b[0m \u001b[0merr\u001b[0m\u001b[0;34m:\u001b[0m\u001b[0;34m\u001b[0m\u001b[0;34m\u001b[0m\u001b[0m\n\u001b[1;32m    355\u001b[0m             \u001b[0;32mraise\u001b[0m \u001b[0mJSONDecodeError\u001b[0m\u001b[0;34m(\u001b[0m\u001b[0;34m\"Expecting value\"\u001b[0m\u001b[0;34m,\u001b[0m \u001b[0ms\u001b[0m\u001b[0;34m,\u001b[0m \u001b[0merr\u001b[0m\u001b[0;34m.\u001b[0m\u001b[0mvalue\u001b[0m\u001b[0;34m)\u001b[0m \u001b[0;32mfrom\u001b[0m \u001b[0;32mNone\u001b[0m\u001b[0;34m\u001b[0m\u001b[0;34m\u001b[0m\u001b[0m\n",
      "\u001b[0;31mTypeError\u001b[0m: __init__() takes 1 positional argument but 2 were given"
     ]
    }
   ],
   "source": [
    "import pickle\n",
    "import json\n",
    "from functools import reduce\n",
    "\n",
    "class SecretEncoder(json.JSONEncoder):\n",
    "    def default(self, obj):\n",
    "        nueva_lista = [[o.attrs] for o in obj.lista]\n",
    "        return {\n",
    "            \"secreto\": obj.secreto,\n",
    "            \"lista\": nueva_lista\n",
    "        }\n",
    "\n",
    "class SecretDecoder(json.JSONDecoder):\n",
    "    def default(self, obj_json):\n",
    "        nuevo = Secret(obj_json[\"secreto\"])\n",
    "        nuevo.lista = [] \n",
    "        return nuevo\n",
    "\n",
    "class Secret():\n",
    "    def __init__(self, secreto):\n",
    "        self.secreto = secreto\n",
    "        self.lista = []\n",
    "        \n",
    "    def __getstate__(self):\n",
    "        #Acá se suele retorna el __dict__ de la clase, más que solo un atributo, recuerden que eso es un Ejemplo\n",
    "        \n",
    "        print('Me están guardando')\n",
    "        print(f'mi secreto no Criptografado: {self.secreto}')\n",
    "        nuevo_secreto = self.secreto[::-1]\n",
    "        print(f'mi secreto criptografado: {nuevo_secreto}')\n",
    "        return nuevo_secreto\n",
    "    \n",
    "    def __setstate__(self, nuevo_secreto):\n",
    "        \n",
    "        print(nuevo_secreto)\n",
    "        print('Me están cargando')\n",
    "        print(f'mi secreto criptografado: {nuevo_secreto}')\n",
    "        secreto_no_secreto = nuevo_secreto[::-1]\n",
    "        print(f'mi secreto no criptografado: {secreto_no_secreto}')\n",
    "        self.secreto = secreto_no_secreto\n",
    "              \n",
    "obj = Secret('hola soy un string')\n",
    "#nuevo_obj = pickle.dumps(obj)\n",
    "#print(nuevo_obj)\n",
    "\n",
    "#obj2 = pickle.loads(nuevo_secreto)\n",
    "#print(obj2)\n",
    "\n",
    "serializado = json.dumps(obj, cls=SecretEncoder)\n",
    "print(serializado)\n",
    "print(json.loads(serializado, object_hook=SecretDecoder))"
   ]
  },
  {
   "cell_type": "code",
   "execution_count": null,
   "metadata": {},
   "outputs": [],
   "source": []
  }
 ],
 "metadata": {
  "celltoolbar": "Slideshow",
  "interpreter": {
   "hash": "aee8b7b246df8f9039afb4144a1f6fd8d2ca17a180786b69acc140d282b71a49"
  },
  "kernelspec": {
   "display_name": "Python 3 (ipykernel)",
   "language": "python",
   "name": "python3"
  },
  "language_info": {
   "codemirror_mode": {
    "name": "ipython",
    "version": 3
   },
   "file_extension": ".py",
   "mimetype": "text/x-python",
   "name": "python",
   "nbconvert_exporter": "python",
   "pygments_lexer": "ipython3",
   "version": "3.9.7"
  }
 },
 "nbformat": 4,
 "nbformat_minor": 2
}

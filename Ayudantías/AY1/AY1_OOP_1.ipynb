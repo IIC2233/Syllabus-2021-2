{
 "cells": [
  {
   "cell_type": "markdown",
   "id": "f9d74691",
   "metadata": {
    "slideshow": {
     "slide_type": "slide"
    }
   },
   "source": [
    "## Repaso OOP"
   ]
  },
  {
   "cell_type": "code",
   "execution_count": 1,
   "id": "d0adbfac",
   "metadata": {
    "slideshow": {
     "slide_type": "fragment"
    }
   },
   "outputs": [],
   "source": [
    "class Animal:\n",
    "    def __init__(self, nombre, tamano, especie):\n",
    "        self.nombre = nombre\n",
    "        self.tamano = tamano\n",
    "        self.especie = especie\n",
    "\n",
    "\n",
    "    def comer(self, kg_comida):\n",
    "        self.tamano += kg_comida\n",
    "        if especie == \"perro\":\n",
    "            print(\"guau guau\")\n",
    "        elif especie == \"gato\":\n",
    "            print(\"miau miau\")\n",
    "        elif especie == \"humano\":\n",
    "            print(\"que rico\")\n",
    "        elif especie == \"koala\":\n",
    "            print(\"ZzZzZz\")"
   ]
  },
  {
   "cell_type": "markdown",
   "id": "f4cbf849",
   "metadata": {
    "slideshow": {
     "slide_type": "slide"
    }
   },
   "source": [
    "# Herencia"
   ]
  },
  {
   "cell_type": "code",
   "execution_count": 2,
   "id": "bcd828c9",
   "metadata": {
    "slideshow": {
     "slide_type": "subslide"
    }
   },
   "outputs": [],
   "source": [
    "class Animal:\n",
    "    def __init__(self, nombre, tamano):\n",
    "        self.nombre = nombre\n",
    "        self.tamano = tamano\n",
    "\n",
    "    def comer(self, kg_comida):\n",
    "        self.tamano += kg_comida"
   ]
  },
  {
   "cell_type": "code",
   "execution_count": 3,
   "id": "59cffe22",
   "metadata": {
    "slideshow": {
     "slide_type": "fragment"
    }
   },
   "outputs": [],
   "source": [
    "class Perro(Animal):\n",
    "    def __init__(self, nombre, tamano):\n",
    "        super().__init__(nombre, tamano)\n",
    "\n",
    "    def comer(self, kg_comida):\n",
    "        super().comer(kg_comida)\n",
    "        print(\"guau guau\")\n",
    "\n",
    "    def correr(self):\n",
    "        self.tamano -= 1\n"
   ]
  },
  {
   "cell_type": "code",
   "execution_count": 4,
   "id": "2ddbbacb",
   "metadata": {
    "slideshow": {
     "slide_type": "subslide"
    }
   },
   "outputs": [],
   "source": [
    "\n",
    "class Gato(Animal):\n",
    "    def __init__(self, nombre, tamano):\n",
    "        super().__init__(nombre, tamano)\n",
    "\n",
    "    def comer(self, kg_comida):\n",
    "        super().comer(kg_comida)\n",
    "        print(\"miau miau\")\n",
    "\n",
    "    def ronronear(self):\n",
    "        print(\"rrrrrrrrr\")\n"
   ]
  },
  {
   "cell_type": "code",
   "execution_count": 5,
   "id": "4c1d0b42",
   "metadata": {
    "slideshow": {
     "slide_type": "subslide"
    }
   },
   "outputs": [],
   "source": [
    "class Humano(Animal):\n",
    "    def __init__(self, nombre, tamano):\n",
    "        super().__init__(nombre, tamano)\n",
    "\n",
    "    def comer(self, kg_comida):\n",
    "        super().comer(kg_comida)\n",
    "        print(\"que rico y nutritivo\")\n",
    "\n",
    "    def ver_game_of_thrones(self):\n",
    "        print(\"the winter is coming\")"
   ]
  },
  {
   "cell_type": "code",
   "execution_count": 6,
   "id": "1cc9eccf",
   "metadata": {
    "slideshow": {
     "slide_type": "fragment"
    }
   },
   "outputs": [],
   "source": [
    "class Koala(Animal):\n",
    "    def __init__(self, nombre, tamano):\n",
    "        super().__init__(nombre, tamano)\n",
    "\n",
    "    def comer(self, kg_comida):\n",
    "        super().comer(kg_comida)\n",
    "        print(\"ZzZzZzZz\")\n",
    "\n",
    "    def dormir(self):\n",
    "        print(\"ZzZzZzZzZzZzZzZz\")"
   ]
  },
  {
   "cell_type": "markdown",
   "id": "e5fb2016",
   "metadata": {
    "slideshow": {
     "slide_type": "slide"
    }
   },
   "source": [
    "## Polimorfismo, Overriding y Overloading"
   ]
  },
  {
   "cell_type": "code",
   "execution_count": 7,
   "id": "bf945147",
   "metadata": {
    "slideshow": {
     "slide_type": "subslide"
    }
   },
   "outputs": [],
   "source": [
    "class AlumnoIIC2233(Humano):\n",
    "    def __init__(self, nombre, tamano, nota, usuario_github):\n",
    "        Humano.__init__(nombre, tamano)\n",
    "        self.nota = nota\n",
    "        self.usuario_github = usuario_github\n",
    "\n",
    "    def ver_game_of_thrones(self):\n",
    "        self.nota -= 1\n",
    "        print(\"No tengo tiempo *igual ve el capitulo*\")\n",
    "\n",
    "    def programar(self):\n",
    "        self.nota += 1000000000000"
   ]
  },
  {
   "cell_type": "markdown",
   "id": "a797af5b",
   "metadata": {
    "slideshow": {
     "slide_type": "fragment"
    }
   },
   "source": [
    "Python no soporta _function overloading_. No se puede definir la función más de una vez con distintos tipos y números de argumentos y esperar que ambas definiciones sean consideradas por el programa. Sin embargo, se puede \"simular\" usando algunos parámetros con valores por defecto (`kwargs`) o número de argumentos variables."
   ]
  },
  {
   "cell_type": "markdown",
   "id": "fc7a44b6",
   "metadata": {
    "slideshow": {
     "slide_type": "subslide"
    }
   },
   "source": [
    "## Properties\n"
   ]
  },
  {
   "cell_type": "markdown",
   "id": "5dd524a4",
   "metadata": {
    "slideshow": {
     "slide_type": "fragment"
    }
   },
   "source": [
    "En el ejemplo anterior aprendimos sobre la herencia, pero hay un problema con el ejemplo..."
   ]
  },
  {
   "cell_type": "markdown",
   "id": "f6c2fcb8",
   "metadata": {
    "slideshow": {
     "slide_type": "fragment"
    }
   },
   "source": [
    "El atributo `nota` puede tomar valores que no se corresponden con la realidad, ya que un alumno no puede tener nota negativa o nota 1000000."
   ]
  },
  {
   "cell_type": "markdown",
   "id": "f369fc26",
   "metadata": {
    "slideshow": {
     "slide_type": "fragment"
    }
   },
   "source": [
    "Una forma de solucionarlo es la siguiente:"
   ]
  },
  {
   "cell_type": "code",
   "execution_count": 8,
   "id": "4d96b777",
   "metadata": {
    "slideshow": {
     "slide_type": "subslide"
    }
   },
   "outputs": [],
   "source": [
    "class AlumnoIIC2233(Humano):\n",
    "    def __init__(self, nombre, tamano, nota, usuario_github):\n",
    "        Humano.__init__(nombre, tamano)\n",
    "        self.nota = nota\n",
    "        self.usuario_github = usuario_github\n",
    "\n",
    "    def ver_game_of_thrones(self):\n",
    "        self.nota -= 1\n",
    "        if self.nota > 7:\n",
    "            self.nota = 7\n",
    "        if self.nota < 1:\n",
    "            self.nota = 1\n",
    "        print(\"No tengo tiempo *igual ve el capitulo*\")\n",
    "\n",
    "    def programar(self):\n",
    "        self.nota += 1000000000000\n",
    "        if self.nota > 7:\n",
    "            self.nota = 7\n",
    "        if self.nota < 1:\n",
    "            self.nota = 1\n"
   ]
  },
  {
   "cell_type": "markdown",
   "id": "9699d8b2",
   "metadata": {
    "slideshow": {
     "slide_type": "subslide"
    }
   },
   "source": [
    "Pero de esta forma nuestro codigo es poco legible y no estamos cumpliendo con el principio de encapsulamiento. Para solucionar esto podemos usar _properties_:"
   ]
  },
  {
   "cell_type": "code",
   "execution_count": 9,
   "id": "505e1023",
   "metadata": {
    "slideshow": {
     "slide_type": "subslide"
    }
   },
   "outputs": [],
   "source": [
    "class AlumnoIIC2233(Humano):\n",
    "    def __init__(self, nombre, tamano, nota, usuario_github):\n",
    "        Humano.__init__(nombre, tamano)\n",
    "        self.__nota = nota\n",
    "        self.usuario_github = usuario_github\n",
    "\n",
    "    @property\n",
    "    def nota(self):\n",
    "        return self.__nota\n",
    "\n",
    "    @nota.setter\n",
    "    def nota(self, valor):\n",
    "        if 1 <= self.__nota <= 7: \n",
    "            self.__nota == valor\n",
    "        else:\n",
    "            self.__nota = 7 if valor >7 else 1\n",
    "\n",
    "    def ver_game_of_thrones(self):\n",
    "        self.nota -= 1\n",
    "        print(\"No tengo tiempo *igual ve el capitulo*\")\n",
    "\n",
    "    def programar(self):\n",
    "        self.nota += 1000000000000"
   ]
  },
  {
   "cell_type": "markdown",
   "id": "ceaee527",
   "metadata": {
    "slideshow": {
     "slide_type": "slide"
    }
   },
   "source": [
    "Ahora la parte que todos esperabán, Top 5 animales Epicos en el DCC"
   ]
  },
  {
   "cell_type": "markdown",
   "id": "42e981db",
   "metadata": {
    "slideshow": {
     "slide_type": "subslide"
    }
   },
   "source": [
    "Número 5"
   ]
  },
  {
   "cell_type": "markdown",
   "id": "d4f133da",
   "metadata": {
    "slideshow": {
     "slide_type": "fragment"
    }
   },
   "source": [
    "JuaCOCODRILO\n",
    "![img/tagle.png](img/tagle.png)"
   ]
  },
  {
   "cell_type": "markdown",
   "id": "598bfebc",
   "metadata": {
    "slideshow": {
     "slide_type": "subslide"
    }
   },
   "source": [
    "Número 4"
   ]
  },
  {
   "cell_type": "markdown",
   "id": "5e5b16c5",
   "metadata": {
    "slideshow": {
     "slide_type": "fragment"
    }
   },
   "source": [
    "Antonio Oso\n",
    "![img/ossa.png](img/ossa.png)"
   ]
  },
  {
   "cell_type": "markdown",
   "id": "a38ab114",
   "metadata": {
    "slideshow": {
     "slide_type": "subslide"
    }
   },
   "source": [
    "Número 3"
   ]
  },
  {
   "cell_type": "markdown",
   "id": "62e063cd",
   "metadata": {
    "slideshow": {
     "slide_type": "fragment"
    }
   },
   "source": [
    "Cristian Rex\n",
    "![img/cruz.png](img/cruz.png)"
   ]
  },
  {
   "cell_type": "markdown",
   "id": "f4d6e04b",
   "metadata": {
    "slideshow": {
     "slide_type": "subslide"
    }
   },
   "source": [
    "Número 2"
   ]
  },
  {
   "cell_type": "markdown",
   "id": "60415de0",
   "metadata": {
    "slideshow": {
     "slide_type": "fragment"
    }
   },
   "source": [
    "DCCoyote\n",
    "![img/dccolao.png](img/dccolao.png)\n"
   ]
  },
  {
   "cell_type": "markdown",
   "id": "05e2643d",
   "metadata": {
    "slideshow": {
     "slide_type": "subslide"
    }
   },
   "source": [
    "Número 1"
   ]
  },
  {
   "cell_type": "markdown",
   "id": "f5c5c09a",
   "metadata": {
    "slideshow": {
     "slide_type": "fragment"
    }
   },
   "source": [
    "Suricoté\n",
    "![img/cote.png](img/cote.png)"
   ]
  },
  {
   "cell_type": "markdown",
   "id": "a9b27484",
   "metadata": {
    "slideshow": {
     "slide_type": "slide"
    }
   },
   "source": [
    "# Sección de dudas"
   ]
  },
  {
   "cell_type": "markdown",
   "id": "11070796",
   "metadata": {
    "slideshow": {
     "slide_type": "subslide"
    }
   },
   "source": [
    "### Antes de continuar a la actividad, pregunten sus dudas =)"
   ]
  },
  {
   "cell_type": "markdown",
   "id": "96902df8",
   "metadata": {
    "slideshow": {
     "slide_type": "slide"
    },
    "tags": []
   },
   "source": [
    "# Actividad Ayudantía 1\n",
    "\n",
    "OOP1: Herencia y Polimorfismo"
   ]
  },
  {
   "cell_type": "markdown",
   "id": "5ffa63ed",
   "metadata": {
    "slideshow": {
     "slide_type": "subslide"
    }
   },
   "source": [
    "## DCCuidador de Zoológico\n",
    "El departamento de computación acaba de inaugurar su propio zoológico y necesita organizar la logística asociada a la enorme cantidad de animales que alojarán.\n",
    "\n",
    "Es importante que estos animales vivan en un hábitat adecuado (un oso no puede estar en un acuario), así que deberás modelar las clases `Zoo`, `Habitat`, `Animal` y algunas subclases que te permitan ordenar el zoológico."
   ]
  },
  {
   "cell_type": "markdown",
   "id": "8bdb7074",
   "metadata": {
    "slideshow": {
     "slide_type": "subslide"
    }
   },
   "source": [
    "## Salud de los `Animal`es\n",
    "\n",
    "Además deberás preocuparte de la `salud` de tus `Animal`es. Si el nivel de `salud` de un `Animal` baja de 3, estará enefermo y tendrás que enviar al `Veterinario`."
   ]
  },
  {
   "cell_type": "markdown",
   "id": "6eb5a14c",
   "metadata": {
    "slideshow": {
     "slide_type": "fragment"
    }
   },
   "source": [
    "Si un `Animal` tiene `salud` 0, deberá ser retirado del zoológico."
   ]
  },
  {
   "cell_type": "markdown",
   "id": "d6239c6a",
   "metadata": {
    "slideshow": {
     "slide_type": "subslide"
    }
   },
   "source": [
    "### Clase `Veterinario`\n",
    "\n",
    "El método `revisar_animales` recibe un `Habitat` y revisa que el atributo `salud` esté dentro de los límites aceptados. Si `0 < salud < 3`, deberá imprimir `\"Animal {nombre animal} enfermo!\"` y agregar el nombre del animal a una lista que retornará al final. Si `salud == 0`, se retirará al `Animal` del `Habitat` mediante el método `retirar_animal` de la clase `Habitat`.\n",
    "\n",
    "El método `atender_animal` recibe un `Habitat` y un string con el nombre del `Animal` enfermo y si se encuentra aumenta su `salud` en 2 puntos."
   ]
  },
  {
   "cell_type": "code",
   "execution_count": 10,
   "id": "4135522b",
   "metadata": {
    "slideshow": {
     "slide_type": "subslide"
    }
   },
   "outputs": [],
   "source": [
    "class Veterinario:\n",
    "    def __init__(self, nombre):\n",
    "        pass\n",
    "    \n",
    "    def revisar_animales(self, habitat):\n",
    "        pass\n",
    "    \n",
    "    def atender_animal(self, habitat, nombre: str):\n",
    "        pass"
   ]
  },
  {
   "cell_type": "markdown",
   "id": "7492a36d",
   "metadata": {
    "slideshow": {
     "slide_type": "subslide"
    },
    "tags": []
   },
   "source": [
    "### Clase `Zoo`\n",
    "Un zoológico debe tener un `nombre`, una cantidad máxima de hábitats `max_habitats` y un atributo `habitats` con una lista donde guardar los `Habitat`.\n",
    "\n",
    "El método `agregar_habitat` debe recibir un objeto de clase `Habitat`, revisar si el zoológico tiene capacidad disponible y solo si es así agregarlo a su lista de `habitats`"
   ]
  },
  {
   "cell_type": "markdown",
   "id": "a9516144",
   "metadata": {
    "slideshow": {
     "slide_type": "subslide"
    }
   },
   "source": [
    "### El `Veterinario` del `Zoo`\n",
    "El `Zoo` debe tener un atributo `vet_zoo` con una instancia de `Veterinario` y un método `revisar_animales` que llame al método del mismo nombre de la clase `Veterinario` para cada `Habitat` del `Zoo`. Además, cuando un `Animal` deba ser atendido se llamará al método `atender_animal` del `Veterinario` luego de revisarlos a todos."
   ]
  },
  {
   "cell_type": "code",
   "execution_count": 11,
   "id": "ca554a9e",
   "metadata": {
    "slideshow": {
     "slide_type": "subslide"
    }
   },
   "outputs": [],
   "source": [
    "class Zoo:\n",
    "    def __init__(self, nombre: str, max_habitats: int, veterinario):\n",
    "        # Completa el constructor\n",
    "        pass\n",
    "    \n",
    "    def agregar_habitat(self, habitat):\n",
    "        pass\n",
    "    \n",
    "    def revisar_animales(self):\n",
    "        pass"
   ]
  },
  {
   "cell_type": "markdown",
   "id": "85ae84c8",
   "metadata": {
    "slideshow": {
     "slide_type": "subslide"
    }
   },
   "source": [
    "### Clase `Habitat`\n",
    "Un hábitat debe tener una `capacidad` y debe poder agregar objetos de clase `Animal` a su atributo `animales` mediante el método `agregar_animal`. Si el `Animal` fue añadido correctamente, se imprimirá el mensaje `\"El animal llamado {nombre del animal} fue añadido correctamente!\"`. \n",
    "\n",
    "También debes poder `retirar_animal` para sacar a los animales gravemente enfermos."
   ]
  },
  {
   "cell_type": "markdown",
   "id": "bdb1f80b",
   "metadata": {
    "slideshow": {
     "slide_type": "subslide"
    }
   },
   "source": [
    "**Q:** Esta clase se parece mucho a `Zoo`, pero entonces ¿por qué no usamos _herencia_? "
   ]
  },
  {
   "cell_type": "markdown",
   "id": "53dfd63b",
   "metadata": {
    "slideshow": {
     "slide_type": "fragment"
    }
   },
   "source": [
    "**A:** Porque si llevamos el concepto \"zoológico\" a algo más específico tendríamos cosas como \"Safari\" o \"Granja interactiva\", pero si especificamos \"hábitat\" tenemos cosas como \"pecera\"  o \"jaula\", así que no sería buena idea que `Habitat` herede de `Zoo`, porque las posibles subclases son demasiado distintas."
   ]
  },
  {
   "cell_type": "code",
   "execution_count": 12,
   "id": "6eca2021",
   "metadata": {
    "slideshow": {
     "slide_type": "subslide"
    }
   },
   "outputs": [],
   "source": [
    "class Habitat:\n",
    "    def __init__(self, capacidad:int):\n",
    "        pass\n",
    "    \n",
    "    def agregar_animal(self, animal):\n",
    "        pass\n",
    "    \n",
    "    def retirar_animal(self, animal):\n",
    "        pass"
   ]
  },
  {
   "cell_type": "markdown",
   "id": "c66d24a8",
   "metadata": {
    "slideshow": {
     "slide_type": "subslide"
    }
   },
   "source": [
    "### Clase `Animal`\n",
    "Un animal debe tener un `nombre` y un nivel de `salud` que será implementado como una `property`, ya que no puede alcanzar niveles negativos. Su `salud` comienza siempre en 3.\n",
    "\n",
    "* Pon especial atención a cómo defines esta clase, ya que será la plantilla de muchas subclases y por lo tanto debe ser lo más limpia y maleable posible."
   ]
  },
  {
   "cell_type": "code",
   "execution_count": 13,
   "id": "6eb21cdf",
   "metadata": {
    "slideshow": {
     "slide_type": "subslide"
    }
   },
   "outputs": [],
   "source": [
    "class Animal:\n",
    "    def __init__(self, nombre:str):\n",
    "        #completa el constructor\n",
    "        pass\n",
    "    \n",
    "    @property\n",
    "    def salud(self):\n",
    "        return self.__salud\n",
    "    \n",
    "    @salud.setter\n",
    "    def salud(self, value):\n",
    "        #completa el setter de salud\n",
    "        pass"
   ]
  },
  {
   "cell_type": "markdown",
   "id": "0b163468",
   "metadata": {
    "slideshow": {
     "slide_type": "subslide"
    }
   },
   "source": [
    "## Implementación del zoológico\n",
    "Ahora que tenemos nuestras clases base implementadas, veamos cómo interactúan entre sí. \n",
    "\n",
    "Crea una instancia de tu clase `Zoo`, dos instancias de `Habitat` y al menos tres `Animales`. Agrega los animales a los hábitats y los hábitats al zoológico, aprovecha de hacer los cambios y ajustes necesarios para poder comenzar a crear las subclases."
   ]
  },
  {
   "cell_type": "code",
   "execution_count": 14,
   "id": "3d5ccc01",
   "metadata": {
    "slideshow": {
     "slide_type": "subslide"
    }
   },
   "outputs": [],
   "source": [
    "# Escribe aquí tu primera implementación :)"
   ]
  },
  {
   "cell_type": "markdown",
   "id": "e5d4d4ca",
   "metadata": {
    "slideshow": {
     "slide_type": "subslide"
    }
   },
   "source": [
    "## Subclases\n",
    "Ahora, podemos comenzar a modelar las subclases! Nuestro zoológico debe poder albergar a muchos animales distintos, así que necesitamos modelar las distintas especies, que serán implementadas como subclases de `Animal`. \n",
    "\n",
    "Para esta parte, deberás crear las subclases `Pez` y `Mono`."
   ]
  },
  {
   "cell_type": "markdown",
   "id": "6b9589ac",
   "metadata": {
    "slideshow": {
     "slide_type": "subslide"
    }
   },
   "source": [
    "### `Mono` 🐵\n",
    "Los `Mono`s son animales muy intensos; si su `salud` baja de `3` comenzarán a chimpear. \n",
    "\n",
    "`Mono` hereda de `Animal` y debe hacer _override_ de la _property_ `salud`, de tal forma que si el `Veterinario` encuentra que `salud < 3` se imprima el mensaje `\"El mono {nombre del mono} está chimpeando!\"` y el atributo `chimpeando` pase a ser `True`. Un `Mono` seguirá `chimpeando` hasta que su método `calmar_chimpeo` retorne `True`.\n",
    "\n",
    "Un `Mono` `chimpeando` no podrá ser atendido por el `Veterinario`."
   ]
  },
  {
   "cell_type": "markdown",
   "id": "c1aca406",
   "metadata": {
    "slideshow": {
     "slide_type": "subslide"
    }
   },
   "source": [
    "Nota:\n",
    "* `calmar_chimpeo` retorna `True` 1 de cada 5 veces, puedes usar la librería `random` para lograr esto.\n",
    "* Esta clase es más compleja que `Animal`, pero no es necesario volver a definir gran parte del constructor y el `Veterinario` puede interactuar inmediatamente con ella."
   ]
  },
  {
   "cell_type": "code",
   "execution_count": 15,
   "id": "e490459e",
   "metadata": {
    "slideshow": {
     "slide_type": "subslide"
    }
   },
   "outputs": [],
   "source": [
    "class Mono(Animal):\n",
    "    def __init__(self, nombre):\n",
    "        #completa el constructor\n",
    "        pass\n",
    "    \n",
    "    def salud(self):\n",
    "        # modifica el getter\n",
    "        return self.salud\n",
    "    \n",
    "    def calmar_chimpeo(self):\n",
    "        # completa el método\n",
    "        pass"
   ]
  },
  {
   "cell_type": "markdown",
   "id": "bd405bc4",
   "metadata": {
    "slideshow": {
     "slide_type": "subslide"
    }
   },
   "source": [
    "### `Pez`\n",
    "Los peces son un poco más aburridos que los `Mono`s, pero tienen el atributo extra `color` que deberás agregar al constructor."
   ]
  },
  {
   "cell_type": "markdown",
   "id": "15d2a0d0",
   "metadata": {
    "slideshow": {
     "slide_type": "fragment"
    }
   },
   "source": [
    "**Q**: ¿Vale la pena implementar una subclase tan simple?"
   ]
  },
  {
   "cell_type": "markdown",
   "id": "2d9d4be7",
   "metadata": {
    "slideshow": {
     "slide_type": "fragment"
    }
   },
   "source": [
    "**A**: No siempre, pero si en el futuro el zoológico se llena de peces y es necesario agregar más métodos y atributos, los cambios se pueden aplicar en esta subclase directamente y así sólo los objetos de tipo `Pez` se verán afectados."
   ]
  },
  {
   "cell_type": "code",
   "execution_count": 16,
   "id": "b7d0776d",
   "metadata": {
    "slideshow": {
     "slide_type": "subslide"
    }
   },
   "outputs": [],
   "source": [
    "class Pez(Animal):\n",
    "    def __init__(self, nombre, color):\n",
    "        #completa el constructor\n",
    "        pass"
   ]
  },
  {
   "cell_type": "markdown",
   "id": "85f04dfc",
   "metadata": {
    "slideshow": {
     "slide_type": "subslide"
    }
   },
   "source": [
    "Ahora que tenemos nuestros `Animal`es mejor implementados, necesitamos `Habitat`s que estén a la altura. \n",
    "\n",
    "Además, evidentemente un `Mono` y un `Pez` no pueden vivir en el mismo lugar, así que los nuevos `Habitat`s solo aceptarán `Animal`es de la especie correcta. \n",
    "\n",
    "Deberás implementar las subclases `Acuario` y `JaulaMono`."
   ]
  },
  {
   "cell_type": "markdown",
   "id": "2f17f814",
   "metadata": {
    "slideshow": {
     "slide_type": "subslide"
    }
   },
   "source": [
    "### `Acuario` ♒ \n",
    "Como la clase `Pez` es muy simple, este `Habitat` se debe encargar únicamente de checkear que los `Animal`es que ingresen mediante el método `agregar_animal` sean de clase `Pez`."
   ]
  },
  {
   "cell_type": "markdown",
   "id": "4d207b79",
   "metadata": {
    "slideshow": {
     "slide_type": "fragment"
    }
   },
   "source": [
    "Tip:\n",
    "* Puedes obtener la clase de un objeto usando la función built-in `type()`, pasándole el objeto como argumento."
   ]
  },
  {
   "cell_type": "code",
   "execution_count": 17,
   "id": "faf19fb4",
   "metadata": {
    "slideshow": {
     "slide_type": "subslide"
    }
   },
   "outputs": [],
   "source": [
    "class Acuario(Habitat):\n",
    "    def __init__(self, capacidad):\n",
    "        # completa el constructor\n",
    "        pass\n",
    "    \n",
    "    def agregar_animal(self, animal):\n",
    "        # reescribe este método\n",
    "        pass"
   ]
  },
  {
   "cell_type": "markdown",
   "id": "2eba8da2",
   "metadata": {
    "slideshow": {
     "slide_type": "subslide"
    }
   },
   "source": [
    "### `JaulaMonos` 🐒🐒🐒\n",
    "Recuerda que los `Mono`s son muy intensos, así que necesitan un `Habitat` adecuado a su estilo de vida."
   ]
  },
  {
   "cell_type": "markdown",
   "id": "c0f2bd23",
   "metadata": {
    "slideshow": {
     "slide_type": "subslide"
    }
   },
   "source": [
    "### Ingreso y _chimpeo_\n",
    "* Solo los `Mono`s pueden ingresesar. \n",
    "* Solo podrán ingresar nuevos `Mono`s si no hay ninguno `chimpeando` adentro. \n",
    "* Cada vez que se revise a los `Mono`s de la `JaulaMonos`, se debe checkear si **al menos un `Mono`** está `chimpeando`.\n",
    "* Si hay algún `Mono` `chimpeando` todos los `Mono`s de la `JaulaMonos` pasarán a estar `chimpeando`.  \n"
   ]
  },
  {
   "cell_type": "markdown",
   "id": "e0abecff",
   "metadata": {
    "slideshow": {
     "slide_type": "subslide"
    }
   },
   "source": [
    "### Calmar _chimpeo_\n",
    "* El método `calmar_chimpeo` debe gatillar en cada uno de los `Mono`s de la `JaulaMonos` el método del mismo nombre\n",
    "* Si se logra calmar a todos imprimir `\"Los monos se ven tranquilos, por ahora...` y retornar `True`\n",
    "* En caso contrario deberá imprimir `No es posible detener semejante chimpeo!!` y retornar `False`."
   ]
  },
  {
   "cell_type": "code",
   "execution_count": 18,
   "id": "13137a1e",
   "metadata": {
    "slideshow": {
     "slide_type": "subslide"
    }
   },
   "outputs": [],
   "source": [
    "class JaulaMonos(Habitat):\n",
    "    def __init__(self, capacidad):\n",
    "        # completa el constructor\n",
    "        pass\n",
    "    \n",
    "    def agregar_animal(self, animal):\n",
    "        # reescribe este método\n",
    "        pass\n",
    "    \n",
    "    def calmar_chimpeo(self):\n",
    "        # completa este método\n",
    "        pass"
   ]
  },
  {
   "cell_type": "markdown",
   "id": "8260bf07",
   "metadata": {
    "slideshow": {
     "slide_type": "subslide"
    }
   },
   "source": [
    "# Implementación Final\n",
    "Por fin hemos completado todas las clases! Ahora es momento de implementar el zoológico y hacer los últimos ajustes.\n",
    "¿Qué cambios harías? y más importante aún ̇¿Dónde harías esos cambios?."
   ]
  },
  {
   "cell_type": "code",
   "execution_count": 20,
   "id": "704b12ac",
   "metadata": {
    "slideshow": {
     "slide_type": "subslide"
    }
   },
   "outputs": [],
   "source": [
    "vet = Veterinario(\"Caua\")\n",
    "zoo = Zoo('topia', 15, vet)\n",
    "\n",
    "acuario_principal = Acuario(5)\n",
    "acuario_azul = Acuario(3)\n",
    "jaula_central = JaulaMonos(10)\n",
    "\n",
    "zoo.agregar_habitat(acuario_azul)\n",
    "zoo.agregar_habitat(acuario_principal)\n",
    "zoo.agregar_habitat(jaula_central)\n",
    "\n",
    "pececillo = Pez('Avello', 'naranjo')\n",
    "segundo_pez = Pez('Tillo', 'azul')\n",
    "gorila = Mono('Kong')\n",
    "\n",
    "acuario_principal.agregar_animal(pececillo)\n",
    "jaula_central.agregar_animal(gorila)\n",
    "jaula_central.agregar_animal(segundo_pez) #esto debería fallar"
   ]
  },
  {
   "cell_type": "code",
   "execution_count": null,
   "id": "0f0febaa",
   "metadata": {},
   "outputs": [],
   "source": []
  }
 ],
 "metadata": {
  "celltoolbar": "Slideshow",
  "kernelspec": {
   "display_name": "Python 3 (ipykernel)",
   "language": "python",
   "name": "python3"
  },
  "language_info": {
   "codemirror_mode": {
    "name": "ipython",
    "version": 3
   },
   "file_extension": ".py",
   "mimetype": "text/x-python",
   "name": "python",
   "nbconvert_exporter": "python",
   "pygments_lexer": "ipython3",
   "version": "3.8.10"
  }
 },
 "nbformat": 4,
 "nbformat_minor": 5
}

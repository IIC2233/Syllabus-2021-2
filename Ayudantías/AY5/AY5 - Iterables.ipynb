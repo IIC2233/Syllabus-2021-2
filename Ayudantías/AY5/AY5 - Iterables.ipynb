{
 "cells": [
  {
   "cell_type": "markdown",
   "id": "continental-virus",
   "metadata": {
    "slideshow": {
     "slide_type": "slide"
    }
   },
   "source": [
    "# Ayudantía 05 - Iterables, iteradores, builts-in, y más...\n",
    "\n",
    "__Autores: Pablo Sanhueza (@pabloist), Magdalena Nario(@magdalenanario), Francisca Cares(@franciscares)__"
   ]
  },
  {
   "cell_type": "markdown",
   "id": "functional-scale",
   "metadata": {
    "slideshow": {
     "slide_type": "slide"
    }
   },
   "source": [
    "## Iterables\n",
    " \n",
    "Los iterables son cualquier **objeto sobre el que se pueda iterar**, implementan el método `__iter__()`. Se puede iterar sobre ellos tantas veces como uno quiera. Algunos que ya conocemos \n",
    "* sets\n",
    "* listas\n",
    "* diccionarios\n",
    "* deques\n",
    "\n",
    "**NOTA**: un iterable no necesariamente tiene que ser indexable."
   ]
  },
  {
   "cell_type": "code",
   "execution_count": 5,
   "id": "numerous-rally",
   "metadata": {
    "slideshow": {
     "slide_type": "subslide"
    }
   },
   "outputs": [
    {
     "name": "stdout",
     "output_type": "stream",
     "text": [
      "2\n",
      "4\n",
      "6\n",
      "8\n",
      "10\n",
      "12\n"
     ]
    }
   ],
   "source": [
    "numeros_pares = {2,4,6,8,10,12}\n",
    "for numero in numeros_pares:\n",
    "    print(numero)"
   ]
  },
  {
   "cell_type": "markdown",
   "id": "editorial-journey",
   "metadata": {
    "slideshow": {
     "slide_type": "slide"
    }
   },
   "source": [
    "**IMPORTANTE:** Un iterable debe tener el método `__iter__` implementado, y debe retornar siempre un iterador. Por su parte, un iterador es un objeto que tiene el método `__next__` implementado, es decir puedo hacer next(iterador) y esto retornará un valor.\n",
    "\n",
    "### Forma básica de un iterable\n",
    "Necesitamos\n",
    "1. Una clase.\n",
    "2. Una clase iterable.\n",
    "3. Una clase iterador.\n"
   ]
  },
  {
   "cell_type": "markdown",
   "id": "thrown-antibody",
   "metadata": {
    "slideshow": {
     "slide_type": "slide"
    }
   },
   "source": [
    "## Iteradores\n",
    "\n",
    "Un **iterador** es un objeto que **itera sobre un iterable**, es el objeto retornado por el método `__iter__()`, además contiene el método `__next__()` que nos retorna el siguiente elemento del iterable."
   ]
  },
  {
   "cell_type": "markdown",
   "id": "organic-question",
   "metadata": {
    "slideshow": {
     "slide_type": "fragment"
    }
   },
   "source": [
    "<div style=\"text-align: center;\">\n",
    "    <img src=\"./imagenes/iterador.png\" width=\"700\" height=\"700\" />\n",
    "</div>"
   ]
  },
  {
   "cell_type": "code",
   "execution_count": 91,
   "id": "intimate-display",
   "metadata": {
    "slideshow": {
     "slide_type": "subslide"
    }
   },
   "outputs": [
    {
     "ename": "TypeError",
     "evalue": "'list' object is not an iterator",
     "output_type": "error",
     "traceback": [
      "\u001b[1;31m---------------------------------------------------------------------------\u001b[0m",
      "\u001b[1;31mTypeError\u001b[0m                                 Traceback (most recent call last)",
      "\u001b[1;32m<ipython-input-91-5bba24088fb1>\u001b[0m in \u001b[0;36m<module>\u001b[1;34m\u001b[0m\n\u001b[0;32m      1\u001b[0m \u001b[0mx\u001b[0m \u001b[1;33m=\u001b[0m \u001b[1;33m[\u001b[0m\u001b[1;36m1\u001b[0m\u001b[1;33m,\u001b[0m \u001b[1;36m2\u001b[0m\u001b[1;33m,\u001b[0m \u001b[1;36m3\u001b[0m\u001b[1;33m]\u001b[0m\u001b[1;33m\u001b[0m\u001b[1;33m\u001b[0m\u001b[0m\n\u001b[1;32m----> 2\u001b[1;33m \u001b[0mprint\u001b[0m\u001b[1;33m(\u001b[0m\u001b[0mnext\u001b[0m\u001b[1;33m(\u001b[0m\u001b[0mx\u001b[0m\u001b[1;33m)\u001b[0m\u001b[1;33m)\u001b[0m\u001b[1;33m\u001b[0m\u001b[1;33m\u001b[0m\u001b[0m\n\u001b[0m",
      "\u001b[1;31mTypeError\u001b[0m: 'list' object is not an iterator"
     ]
    }
   ],
   "source": [
    "x = [1, 2, 3]\n",
    "print(next(x)) "
   ]
  },
  {
   "cell_type": "markdown",
   "id": "objective-andrews",
   "metadata": {
    "slideshow": {
     "slide_type": "subslide"
    }
   },
   "source": [
    "Podemos ver que las lista x no es un iterador, sino ya tendría integrado el método next, por lo tanto lo convertiremos en un iterador utilizando `iter(x)`, lo cual es lo mismo que realizar `x.__iter__()`"
   ]
  },
  {
   "cell_type": "code",
   "execution_count": 93,
   "id": "instrumental-superintendent",
   "metadata": {
    "slideshow": {
     "slide_type": "subslide"
    }
   },
   "outputs": [
    {
     "name": "stdout",
     "output_type": "stream",
     "text": [
      "<class 'list_iterator'>\n"
     ]
    }
   ],
   "source": [
    "iter1 = iter(x)\n",
    "print(type(iter1))"
   ]
  },
  {
   "cell_type": "code",
   "execution_count": 94,
   "id": "pointed-constitutional",
   "metadata": {
    "slideshow": {
     "slide_type": "subslide"
    }
   },
   "outputs": [
    {
     "name": "stdout",
     "output_type": "stream",
     "text": [
      "1\n",
      "2\n",
      "3\n"
     ]
    },
    {
     "ename": "StopIteration",
     "evalue": "",
     "output_type": "error",
     "traceback": [
      "\u001b[1;31m---------------------------------------------------------------------------\u001b[0m",
      "\u001b[1;31mStopIteration\u001b[0m                             Traceback (most recent call last)",
      "\u001b[1;32m<ipython-input-94-87521f690bde>\u001b[0m in \u001b[0;36m<module>\u001b[1;34m\u001b[0m\n\u001b[0;32m      2\u001b[0m \u001b[0mprint\u001b[0m\u001b[1;33m(\u001b[0m\u001b[0mnext\u001b[0m\u001b[1;33m(\u001b[0m\u001b[0miter1\u001b[0m\u001b[1;33m)\u001b[0m\u001b[1;33m)\u001b[0m\u001b[1;33m\u001b[0m\u001b[1;33m\u001b[0m\u001b[0m\n\u001b[0;32m      3\u001b[0m \u001b[0mprint\u001b[0m\u001b[1;33m(\u001b[0m\u001b[0mnext\u001b[0m\u001b[1;33m(\u001b[0m\u001b[0miter1\u001b[0m\u001b[1;33m)\u001b[0m\u001b[1;33m)\u001b[0m\u001b[1;33m\u001b[0m\u001b[1;33m\u001b[0m\u001b[0m\n\u001b[1;32m----> 4\u001b[1;33m \u001b[0mprint\u001b[0m\u001b[1;33m(\u001b[0m\u001b[0mnext\u001b[0m\u001b[1;33m(\u001b[0m\u001b[0miter1\u001b[0m\u001b[1;33m)\u001b[0m\u001b[1;33m)\u001b[0m\u001b[1;33m\u001b[0m\u001b[1;33m\u001b[0m\u001b[0m\n\u001b[0m",
      "\u001b[1;31mStopIteration\u001b[0m: "
     ]
    }
   ],
   "source": [
    "print(next(iter1))\n",
    "print(next(iter1))\n",
    "print(next(iter1))\n",
    "print(next(iter1))"
   ]
  },
  {
   "cell_type": "markdown",
   "id": "leading-comment",
   "metadata": {
    "slideshow": {
     "slide_type": "subslide"
    }
   },
   "source": [
    "Cuando no quedan objetos por recorrer el iterador debe levantar una excepción de tipo StopIteration."
   ]
  },
  {
   "cell_type": "markdown",
   "id": "german-definition",
   "metadata": {
    "slideshow": {
     "slide_type": "slide"
    }
   },
   "source": [
    "Para crear un iterador, este debe contener los métodos `__iter__` y `__next__`"
   ]
  },
  {
   "cell_type": "code",
   "execution_count": 125,
   "id": "irish-duration",
   "metadata": {
    "slideshow": {
     "slide_type": "subslide"
    }
   },
   "outputs": [],
   "source": [
    "class Cuadrado:\n",
    "    def __init__(self, numero):\n",
    "        self.numero = numero\n",
    "\n",
    "    def __iter__(self):\n",
    "        return self\n",
    "\n",
    "    def __next__(self):\n",
    "        valor = self.numero ** 2\n",
    "        self.numero = valor\n",
    "        return valor"
   ]
  },
  {
   "cell_type": "code",
   "execution_count": 126,
   "id": "mechanical-landscape",
   "metadata": {
    "slideshow": {
     "slide_type": "subslide"
    }
   },
   "outputs": [
    {
     "name": "stdout",
     "output_type": "stream",
     "text": [
      "4\n",
      "16\n",
      "256\n",
      "65536\n",
      "4294967296\n"
     ]
    }
   ],
   "source": [
    "cuadrado = Cuadrado(2)\n",
    "for i in range(5):\n",
    "    print(next(cuadrado))"
   ]
  },
  {
   "cell_type": "markdown",
   "id": "endangered-parade",
   "metadata": {
    "slideshow": {
     "slide_type": "slide"
    }
   },
   "source": [
    "Al mismo tiempo podemos crear iterables personalizados con su propia clase iteradora"
   ]
  },
  {
   "cell_type": "code",
   "execution_count": 14,
   "id": "blind-paradise",
   "metadata": {
    "slideshow": {
     "slide_type": "subslide"
    }
   },
   "outputs": [],
   "source": [
    "class Impuestos:\n",
    "    def __init__(self):\n",
    "        self.cuentas = [1000, 2000, 4500, 1200]\n",
    "        self.ponderador = 1.19\n",
    "        \n",
    "    def __iter__(self):  \n",
    "        return ImpuestoIterador(self)"
   ]
  },
  {
   "cell_type": "code",
   "execution_count": 15,
   "id": "underlying-albuquerque",
   "metadata": {
    "slideshow": {
     "slide_type": "subslide"
    }
   },
   "outputs": [],
   "source": [
    "class ImpuestoIterador:\n",
    "    def __init__(self, iterable):\n",
    "        self.iterable = iterable\n",
    "\n",
    "    def __iter__(self):\n",
    "        return self\n",
    "\n",
    "    def __next__(self):\n",
    "        if len(self.iterable.cuentas) == 0:\n",
    "            raise StopIteration(\"Llegamos al final\")\n",
    "        else:\n",
    "            siguiente = self.iterable.cuentas.pop(0) * self.iterable.ponderador\n",
    "            return siguiente\n",
    "    "
   ]
  },
  {
   "cell_type": "markdown",
   "id": "democratic-accident",
   "metadata": {
    "slideshow": {
     "slide_type": "subslide"
    }
   },
   "source": [
    "Los *for loops* llaman al método `__iter__()` de la estructura iterable, y para obtener el siguiente valor en la iteración utilizan el método `__next__()` del iterador."
   ]
  },
  {
   "cell_type": "code",
   "execution_count": 18,
   "id": "behavioral-strain",
   "metadata": {
    "slideshow": {
     "slide_type": "subslide"
    }
   },
   "outputs": [
    {
     "name": "stdout",
     "output_type": "stream",
     "text": [
      "1190.0\n",
      "2380.0\n",
      "5355.0\n",
      "1428.0\n"
     ]
    }
   ],
   "source": [
    "impuestos = Impuestos()\n",
    "for i in impuestos:\n",
    "    print(i)\n",
    "    "
   ]
  },
  {
   "cell_type": "markdown",
   "id": "allied-graphic",
   "metadata": {
    "slideshow": {
     "slide_type": "slide"
    }
   },
   "source": [
    "## Generadores\n",
    "Los generadores son un caso especial de los iteradores. Los generadores nos permiten iterar sobre secuencias de datos sin la necesidad de almacenarlos en alguna estructura de datos, evitando el uso innecesario de memoria. \n",
    "\n",
    "Esto es muy útil cuando queremos realizar cálculos sobre secuencias de números que sólo nos sirven para ese cálculo en particular. La sintaxis para crear generadores es muy parecida a la comprensión de listas, sólo que en vez de paréntesis cuadrados `[` `]` usamos paréntesis normales `(` `)`:"
   ]
  },
  {
   "cell_type": "code",
   "execution_count": 128,
   "id": "crucial-routine",
   "metadata": {
    "slideshow": {
     "slide_type": "subslide"
    }
   },
   "outputs": [
    {
     "name": "stdout",
     "output_type": "stream",
     "text": [
      "Tamaño Generador en bytes:120\n",
      "Tamaño lista en bytes:912\n"
     ]
    }
   ],
   "source": [
    "from sys import getsizeof\n",
    "g = (b for b in range(100))\n",
    "print(\"Tamaño Generador en bytes:\" + str(getsizeof(g)))\n",
    "l = [b for b in range(100)]\n",
    "print(\"Tamaño lista en bytes:\" + str(getsizeof(l)))"
   ]
  },
  {
   "cell_type": "markdown",
   "id": "beautiful-boring",
   "metadata": {
    "slideshow": {
     "slide_type": "subslide"
    }
   },
   "source": [
    "Como los generadores son un caso especial de los iteradores, estos implementan ```__iter__``` permitiendo iterar sobre la secuencia y ```__next__``` para ver el siguiente elemento.\n",
    "Es importante recordar que una vez que terminamos de iterar sobre un generador, el generador desaparece."
   ]
  },
  {
   "cell_type": "code",
   "execution_count": 131,
   "id": "isolated-princess",
   "metadata": {
    "slideshow": {
     "slide_type": "subslide"
    }
   },
   "outputs": [
    {
     "name": "stdout",
     "output_type": "stream",
     "text": [
      "0\n",
      "1\n",
      "2\n",
      "3\n",
      "4\n",
      "5\n",
      "6\n",
      "7\n",
      "8\n"
     ]
    }
   ],
   "source": [
    "g = (b for b in range(10))\n",
    "contador = 0\n",
    "for b in g:\n",
    "    print(b)\n",
    "    contador += 1\n",
    "    if contador == 9:\n",
    "        break"
   ]
  },
  {
   "cell_type": "code",
   "execution_count": 61,
   "id": "magnetic-drinking",
   "metadata": {
    "slideshow": {
     "slide_type": "subslide"
    }
   },
   "outputs": [
    {
     "name": "stdout",
     "output_type": "stream",
     "text": [
      "9\n"
     ]
    },
    {
     "ename": "StopIteration",
     "evalue": "",
     "output_type": "error",
     "traceback": [
      "\u001b[1;31m---------------------------------------------------------------------------\u001b[0m",
      "\u001b[1;31mStopIteration\u001b[0m                             Traceback (most recent call last)",
      "\u001b[1;32m<ipython-input-61-82da51523365>\u001b[0m in \u001b[0;36m<module>\u001b[1;34m\u001b[0m\n\u001b[0;32m      1\u001b[0m \u001b[0mprint\u001b[0m\u001b[1;33m(\u001b[0m\u001b[0mnext\u001b[0m\u001b[1;33m(\u001b[0m\u001b[0mg\u001b[0m\u001b[1;33m)\u001b[0m\u001b[1;33m)\u001b[0m\u001b[1;33m\u001b[0m\u001b[1;33m\u001b[0m\u001b[0m\n\u001b[1;32m----> 2\u001b[1;33m \u001b[0mprint\u001b[0m\u001b[1;33m(\u001b[0m\u001b[0mnext\u001b[0m\u001b[1;33m(\u001b[0m\u001b[0mg\u001b[0m\u001b[1;33m)\u001b[0m\u001b[1;33m)\u001b[0m\u001b[1;33m\u001b[0m\u001b[1;33m\u001b[0m\u001b[0m\n\u001b[0m",
      "\u001b[1;31mStopIteration\u001b[0m: "
     ]
    }
   ],
   "source": [
    "print(next(g)) \n",
    "print(next(g))"
   ]
  },
  {
   "cell_type": "markdown",
   "id": "minus-quality",
   "metadata": {
    "slideshow": {
     "slide_type": "slide"
    }
   },
   "source": [
    "## Funciones Generadoras\n",
    "\n",
    "Las funciones en Python también tienen la posibilidad de funcionar como generadores, utilizando \"yield\". El statement \"yield\" equivale a \"return\". Por un lado se encarga de retornar el valor, pero además se asegura que en la próxima llamada a la función, la ejecución parta desde el punto donde se dejó en la ejecución anterior. \n",
    "\n",
    "Al llamar a una función generadora se crea un objeto generador, sin embargo, esto no comienza a ejecutar la función. Sino que lo hace cuando se itera sobre ella."
   ]
  },
  {
   "cell_type": "markdown",
   "id": "minus-federal",
   "metadata": {
    "slideshow": {
     "slide_type": "subslide"
    }
   },
   "source": [
    "Ejemplo:\n",
    "Consideremos la siguiente serie alternante:\n",
    "$$ \\sum_{n=1}^{m} n(-1)^{n-1}$$\n",
    "\n",
    "De forma mas simple, lo anterior es equivalente a: 1 - 2 + 3 - 4 + 5 - ...\n",
    "Hagamos una función generadora usando lo anterior."
   ]
  },
  {
   "cell_type": "code",
   "execution_count": 2,
   "id": "known-liability",
   "metadata": {
    "slideshow": {
     "slide_type": "subslide"
    }
   },
   "outputs": [
    {
     "name": "stdout",
     "output_type": "stream",
     "text": [
      "<class 'generator'>\n"
     ]
    }
   ],
   "source": [
    "def alternante(m):\n",
    "    n = 1\n",
    "    suma = 0\n",
    "    while n < m:\n",
    "        suma += (n * (-1) ** (n - 1))\n",
    "        n += 1\n",
    "        yield suma\n",
    "\n",
    "generador_alternante = alternante(10)# notar que aquí no se imprime nada, \n",
    "                                     #ya que solo retorna el generador\n",
    "print(type(generador_alternante))# se imprime el tipo de objeto"
   ]
  },
  {
   "cell_type": "code",
   "execution_count": 3,
   "id": "shaped-sauce",
   "metadata": {
    "slideshow": {
     "slide_type": "subslide"
    }
   },
   "outputs": [
    {
     "name": "stdout",
     "output_type": "stream",
     "text": [
      "1\n",
      "-1\n",
      "2\n",
      "-2\n",
      "3\n",
      "-3\n",
      "4\n",
      "-4\n",
      "5\n"
     ]
    }
   ],
   "source": [
    "for i in generador_alternante:\n",
    "    print(i)"
   ]
  },
  {
   "cell_type": "code",
   "execution_count": 4,
   "id": "forced-vietnam",
   "metadata": {
    "slideshow": {
     "slide_type": "subslide"
    }
   },
   "outputs": [
    {
     "name": "stdout",
     "output_type": "stream",
     "text": [
      "1\n",
      "-1\n",
      "2\n"
     ]
    }
   ],
   "source": [
    "generador_alternante2 = alternante(5)\n",
    "print(next(generador_alternante2))\n",
    "print(next(generador_alternante2))\n",
    "print(next(generador_alternante2))"
   ]
  },
  {
   "cell_type": "markdown",
   "id": "lightweight-hughes",
   "metadata": {
    "slideshow": {
     "slide_type": "slide"
    }
   },
   "source": [
    "## Enviar valores a funciones generadoras\n",
    "Es posible interactuar con funciones generadoras y enviarle datos usando el método `send()`.\n",
    "\n",
    "Este método envía datos a la expresión `yield` de la función, los cuales pueden ser usados para asignarlo a otra variable, por ejemplo: "
   ]
  },
  {
   "cell_type": "code",
   "execution_count": 17,
   "id": "stable-stock",
   "metadata": {
    "slideshow": {
     "slide_type": "subslide"
    }
   },
   "outputs": [
    {
     "name": "stdout",
     "output_type": "stream",
     "text": [
      "Aplicando descuentos a 15000 pesos\n",
      "Se le aplicó un 10% de descuento y el precio quedó en 13500.0\n",
      "Se le aplicó un 50% de descuento y el precio quedó en 7500.0\n",
      "Se le aplicó un 15% de descuento y el precio quedó en 12750.0\n"
     ]
    }
   ],
   "source": [
    "def Descuentos(precio): \n",
    "    print(f'Aplicando descuentos a {precio} pesos')\n",
    "    while True:\n",
    "        porcentaje = yield\n",
    "        ponderador = porcentaje/100\n",
    "        valor_final = precio * (1 - ponderador)\n",
    "        print(f'Se le aplicó un {porcentaje}% de descuento y el precio quedó en {valor_final}')\n",
    "        \n",
    "pesos = Descuentos(15000) #creo el objeto, no se ejecuta aún la función\n",
    "next(pesos)#avanzo al primer yield, aquí se imprime \"Aplicando descuentos ....\"\n",
    "\n",
    "pesos.send(10)\n",
    "pesos.send(50)\n",
    "pesos.send(15)"
   ]
  },
  {
   "cell_type": "markdown",
   "id": "clinical-czech",
   "metadata": {
    "slideshow": {
     "slide_type": "slide"
    }
   },
   "source": [
    "## Built-ins \n",
    "### ```__len__```,```__getitem__```, ```enumerate```, ```zip```\n",
    "\n",
    "Los _built-in_ son funciones que ya vienen implementadas en python, las cuales se pueden aplicar sobre distintos tipos de objetos.\n",
    "\n",
    "Un primer ejemplo es ```__getitem__```, el cual permite acceder a elementos de algun objeto mediante el método de indexación.\n",
    "Hay estructuras, como el caso de las listas, que ya tienen este método integrado lo cual nos permite acceder a los distintos elementos de las estas."
   ]
  },
  {
   "cell_type": "code",
   "execution_count": 73,
   "id": "communist-paintball",
   "metadata": {
    "slideshow": {
     "slide_type": "subslide"
    }
   },
   "outputs": [
    {
     "name": "stdout",
     "output_type": "stream",
     "text": [
      "El tercer elemento de la lista es rojo\n"
     ]
    }
   ],
   "source": [
    "lista = [1, \"maria\", \"rojo\", True]\n",
    "print(f'El tercer elemento de la lista es {lista[2]}')"
   ]
  },
  {
   "cell_type": "markdown",
   "id": "coordinated-death",
   "metadata": {
    "slideshow": {
     "slide_type": "subslide"
    }
   },
   "source": [
    "Veamos que sucede al intentar indexar una clase"
   ]
  },
  {
   "cell_type": "code",
   "execution_count": 19,
   "id": "auburn-decision",
   "metadata": {
    "slideshow": {
     "slide_type": "subslide"
    }
   },
   "outputs": [
    {
     "ename": "TypeError",
     "evalue": "'Cronometro' object is not subscriptable",
     "output_type": "error",
     "traceback": [
      "\u001b[1;31m---------------------------------------------------------------------------\u001b[0m",
      "\u001b[1;31mTypeError\u001b[0m                                 Traceback (most recent call last)",
      "\u001b[1;32m<ipython-input-19-12358170e85d>\u001b[0m in \u001b[0;36m<module>\u001b[1;34m\u001b[0m\n\u001b[0;32m      4\u001b[0m \u001b[1;33m\u001b[0m\u001b[0m\n\u001b[0;32m      5\u001b[0m \u001b[0mMiCronometro\u001b[0m \u001b[1;33m=\u001b[0m \u001b[0mCronometro\u001b[0m\u001b[1;33m(\u001b[0m\u001b[1;36m20\u001b[0m\u001b[1;33m)\u001b[0m\u001b[1;33m\u001b[0m\u001b[1;33m\u001b[0m\u001b[0m\n\u001b[1;32m----> 6\u001b[1;33m \u001b[0mMiCronometro\u001b[0m\u001b[1;33m[\u001b[0m\u001b[1;36m0\u001b[0m\u001b[1;33m]\u001b[0m\u001b[1;33m\u001b[0m\u001b[1;33m\u001b[0m\u001b[0m\n\u001b[0m",
      "\u001b[1;31mTypeError\u001b[0m: 'Cronometro' object is not subscriptable"
     ]
    }
   ],
   "source": [
    "class Cronometro:\n",
    "    def __init__(self, inicio):\n",
    "        self.inicio = inicio\n",
    "        \n",
    "MiCronometro = Cronometro(20)\n",
    "MiCronometro[0]"
   ]
  },
  {
   "cell_type": "markdown",
   "id": "touched-hopkins",
   "metadata": {
    "slideshow": {
     "slide_type": "subslide"
    }
   },
   "source": [
    "Esto sucede, ya que las clases no tienen el método ```__getitem__``` ya integrado, sin embargo este se puede definir dentro de la estructura de las clases de la siguiente forma"
   ]
  },
  {
   "cell_type": "code",
   "execution_count": 139,
   "id": "rotary-north",
   "metadata": {
    "slideshow": {
     "slide_type": "subslide"
    }
   },
   "outputs": [
    {
     "data": {
      "text/plain": [
       "'El cronómetro inició en el minuto 20 y ahora va en el minuto 50'"
      ]
     },
     "execution_count": 139,
     "metadata": {},
     "output_type": "execute_result"
    }
   ],
   "source": [
    "class Cronometro:\n",
    "    def __init__(self, inicio):\n",
    "        self.inicio = inicio\n",
    "    \n",
    "    def __getitem__(self, index):\n",
    "        return f'El cronómetro inició en el minuto {self.inicio} y ahora va en el minuto {self.inicio+index}'\n",
    "        \n",
    "MiCronometro = Cronometro(20)\n",
    "MiCronometro[30]"
   ]
  },
  {
   "cell_type": "markdown",
   "id": "literary-necklace",
   "metadata": {
    "slideshow": {
     "slide_type": "slide"
    }
   },
   "source": [
    "## ```__len__```\n",
    "La función `len()` aplicada a un objeto en particular hace un llamado a `objeto.__len__()`. La función `__len__` retorna el largo de un objeto y viene implementada en varias clases de estructuras de datos _built-in_"
   ]
  },
  {
   "cell_type": "code",
   "execution_count": 59,
   "id": "boolean-american",
   "metadata": {
    "slideshow": {
     "slide_type": "subslide"
    }
   },
   "outputs": [
    {
     "name": "stdout",
     "output_type": "stream",
     "text": [
      "5\n"
     ]
    }
   ],
   "source": [
    "lista = [1, 2, 3, 4, 5]\n",
    "print(len(lista))"
   ]
  },
  {
   "cell_type": "markdown",
   "id": "checked-scratch",
   "metadata": {
    "slideshow": {
     "slide_type": "subslide"
    }
   },
   "source": [
    "Al mismo tiempo se puede utilizar en estructuras en las que no está integrado, para obtener el largo dependiendo de las condiciones que nosotros establezcamos.\n",
    "\n",
    "Por ejemplo a continuación, está la clase ```Contagios```, la cual recibe un diccionario donde las llaves son los nombres de los alumnos de un curso y los valores corresponden a un bool dependiendo de si está contagiado con covid-19 o no."
   ]
  },
  {
   "cell_type": "code",
   "execution_count": 83,
   "id": "liable-commercial",
   "metadata": {
    "slideshow": {
     "slide_type": "subslide"
    }
   },
   "outputs": [
    {
     "name": "stdout",
     "output_type": "stream",
     "text": [
      "3\n"
     ]
    }
   ],
   "source": [
    "class Contagios:\n",
    "    def __init__(self, diccionario_curso):\n",
    "        self.diccionario_curso = diccionario_curso\n",
    "    def __len__(self):\n",
    "        contagiados = 0\n",
    "        for i in self.diccionario_curso.values():\n",
    "            if i:\n",
    "                contagiados += 1\n",
    "        return contagiados\n",
    "\n",
    "contagios = Contagios({\"María\": True, \"Jose\": False, \"Camila\": False, \"Pedro\": True, \"Rocío\": True})\n",
    "print(len(contagios))"
   ]
  },
  {
   "cell_type": "markdown",
   "id": "excited-yield",
   "metadata": {
    "slideshow": {
     "slide_type": "slide"
    }
   },
   "source": [
    "## ```enumerate```\n",
    "```enumerate``` retorna una tupla, en la que el primer elemento es el indice que va enumerando, y el segundo es el item original que está siendo numerado. \n",
    "\n",
    "El primer parametro que se le entrega a ```enumerate``` debe ser un iterable, mientras que el segundo es el valor con el que se empieza a enumerar, que por defecto es 0.\n",
    "\n",
    "Un claro ejemplo es cuado queremos asociar numeros a los meses del año, yendo desde el mes 1 correspondiente a enero hasta el mes 12 correspondiente a diciembre"
   ]
  },
  {
   "cell_type": "code",
   "execution_count": 21,
   "id": "gorgeous-insight",
   "metadata": {
    "slideshow": {
     "slide_type": "subslide"
    }
   },
   "outputs": [
    {
     "name": "stdout",
     "output_type": "stream",
     "text": [
      "El mes numero 1 es Enero\n",
      "El mes numero 2 es Febrero\n",
      "El mes numero 3 es Marzo\n",
      "El mes numero 4 es Abril\n",
      "El mes numero 5 es Mayo\n",
      "El mes numero 6 es Junio\n",
      "El mes numero 7 es Julio\n",
      "El mes numero 8 es Agosto\n",
      "El mes numero 9 es Septiembre\n",
      "El mes numero 10 es Octubre\n",
      "El mes numero 11 es Noviembre\n",
      "El mes numero 12 es Diciembre\n"
     ]
    }
   ],
   "source": [
    "inicio = 1\n",
    "meses = [\"Enero\", \"Febrero\", \"Marzo\", \"Abril\", \"Mayo\", \"Junio\", \"Julio\", \"Agosto\", \"Septiembre\", \"Octubre\", \"Noviembre\", \"Diciembre\"]\n",
    "for indice, mes in enumerate(meses, inicio):\n",
    "    print(f\"El mes numero {indice} es {mes}\")"
   ]
  },
  {
   "cell_type": "markdown",
   "id": "sustainable-longer",
   "metadata": {
    "slideshow": {
     "slide_type": "subslide"
    }
   },
   "source": [
    "Esta información puede quedar guardada a través de diccionarios de la siguiente forma"
   ]
  },
  {
   "cell_type": "code",
   "execution_count": 22,
   "id": "superb-lottery",
   "metadata": {
    "slideshow": {
     "slide_type": "subslide"
    }
   },
   "outputs": [],
   "source": [
    "inicio = 1\n",
    "diccionario_meses = dict()\n",
    "meses = [\"Enero\", \"Febrero\", \"Marzo\", \"Abril\", \"Mayo\", \"Junio\", \"Julio\", \"Agosto\", \"Septiembre\", \"Octubre\", \"Noviembre\", \"Diciembre\"]\n",
    "for indice, mes in enumerate(meses, inicio):\n",
    "    diccionario_meses[indice] = mes"
   ]
  },
  {
   "cell_type": "markdown",
   "id": "tired-milwaukee",
   "metadata": {
    "slideshow": {
     "slide_type": "subslide"
    }
   },
   "source": [
    "De esta forma podemos acceder rapidamente a los nombres de los meses, de acuerdo a su numeración"
   ]
  },
  {
   "cell_type": "code",
   "execution_count": 23,
   "id": "modular-profit",
   "metadata": {
    "slideshow": {
     "slide_type": "subslide"
    }
   },
   "outputs": [
    {
     "name": "stdout",
     "output_type": "stream",
     "text": [
      "El mes numero 5 corresponde a Mayo\n"
     ]
    }
   ],
   "source": [
    "print(f'El mes numero {5} corresponde a {diccionario_meses[5]}')"
   ]
  },
  {
   "cell_type": "markdown",
   "id": "protected-principle",
   "metadata": {
    "slideshow": {
     "slide_type": "slide"
    }
   },
   "source": [
    "## ```zip```\n",
    "\n",
    "```zip``` toma dos o más iterables y va juntando su contenido en orden, es decir junta los primeros elementos de cada iterable, despues los segundos y así sucesivamente los va retornado en tuplas.\n",
    "Por ejemplo, en el caso de que queramos unir a mascotas con sus dueños, podemos realizar lo siguiente\n"
   ]
  },
  {
   "cell_type": "code",
   "execution_count": 24,
   "id": "better-spice",
   "metadata": {
    "slideshow": {
     "slide_type": "subslide"
    }
   },
   "outputs": [],
   "source": [
    "personas = [\"María\", \"Sofía\", \"Pablo\", \"Martin\"]\n",
    "mascotas = [\"perro\", \"conejo\", \"gato\", \"pez\"]"
   ]
  },
  {
   "cell_type": "code",
   "execution_count": 142,
   "id": "foreign-kingdom",
   "metadata": {
    "slideshow": {
     "slide_type": "subslide"
    }
   },
   "outputs": [
    {
     "name": "stdout",
     "output_type": "stream",
     "text": [
      "[('María', 'perro'), ('Sofía', 'conejo'), ('Pablo', 'gato'), ('Martin', 'pez')]\n",
      "María es dueño de perro \n",
      "Sofía es dueño de conejo \n",
      "Pablo es dueño de gato \n",
      "Martin es dueño de pez \n"
     ]
    }
   ],
   "source": [
    "print(list(zip(personas, mascotas)))\n",
    "for persona, mascota in zip(personas, mascotas):\n",
    "    print(f'{persona} es dueño de {mascota} ')"
   ]
  },
  {
   "cell_type": "markdown",
   "id": "tracked-syndication",
   "metadata": {
    "slideshow": {
     "slide_type": "subslide"
    }
   },
   "source": [
    "Hay que recordar que zip toma la cantidad de elementos del iterable más corto"
   ]
  },
  {
   "cell_type": "code",
   "execution_count": 127,
   "id": "rolled-index",
   "metadata": {
    "slideshow": {
     "slide_type": "subslide"
    }
   },
   "outputs": [
    {
     "name": "stdout",
     "output_type": "stream",
     "text": [
      "María es dueño de perro \n",
      "Sofía es dueño de conejo \n",
      "Pablo es dueño de gato \n",
      "Martin es dueño de pez \n"
     ]
    }
   ],
   "source": [
    "personas = [\"María\", \"Sofía\", \"Pablo\", \"Martin\", \"José\"]\n",
    "mascotas = [\"perro\", \"conejo\", \"gato\", \"pez\"]\n",
    "for persona, mascota in zip(personas, mascotas):\n",
    "    print(f'{persona} es dueño de {mascota} ')"
   ]
  },
  {
   "cell_type": "markdown",
   "id": "saving-intake",
   "metadata": {
    "slideshow": {
     "slide_type": "subslide"
    }
   },
   "source": [
    "Esto se puede realizar con múltiples iterables, por ejemplo en el ejemplo de los meses podemos agregar el iterable asociado a la cantidad dias que hay por mes"
   ]
  },
  {
   "cell_type": "code",
   "execution_count": 31,
   "id": "gross-oregon",
   "metadata": {
    "slideshow": {
     "slide_type": "subslide"
    }
   },
   "outputs": [
    {
     "name": "stdout",
     "output_type": "stream",
     "text": [
      "El mes 1 corresponde a Enero y tiene 31 dias\n",
      "El mes 2 corresponde a Febrero y tiene 28 dias\n",
      "El mes 3 corresponde a Marzo y tiene 31 dias\n",
      "El mes 4 corresponde a Abril y tiene 30 dias\n",
      "El mes 5 corresponde a Mayo y tiene 31 dias\n",
      "El mes 6 corresponde a Junio y tiene 30 dias\n",
      "El mes 7 corresponde a Julio y tiene 31 dias\n",
      "El mes 8 corresponde a Agosto y tiene 31 dias\n",
      "El mes 9 corresponde a Septiembre y tiene 30 dias\n",
      "El mes 10 corresponde a Octubre y tiene 31 dias\n",
      "El mes 11 corresponde a Noviembre y tiene 30 dias\n",
      "El mes 12 corresponde a Diciembre y tiene 31 dias\n"
     ]
    }
   ],
   "source": [
    "dias = [31, 28, 31, 30, 31, 30, 31, 31, 30, 31, 30, 31]\n",
    "for numero, mes, cantidad in zip(range(1,13), meses, dias):\n",
    "    print(f'El mes {numero} corresponde a {mes} y tiene {cantidad} dias')"
   ]
  },
  {
   "cell_type": "markdown",
   "id": "sustainable-ivory",
   "metadata": {
    "slideshow": {
     "slide_type": "slide"
    }
   },
   "source": [
    "## Funciones anónimas: \n",
    "## Función lambda"
   ]
  },
  {
   "cell_type": "markdown",
   "id": "basic-grace",
   "metadata": {
    "slideshow": {
     "slide_type": "fragment"
    }
   },
   "source": [
    "Antes de definirlas, recordemos que python tiene funciones de primera clase, es decir funciones que son tratadas como variables. Las que hemos usado siempre, como por ejemplo:"
   ]
  },
  {
   "cell_type": "code",
   "execution_count": 6,
   "id": "combined-orlando",
   "metadata": {
    "slideshow": {
     "slide_type": "subslide"
    }
   },
   "outputs": [
    {
     "name": "stdout",
     "output_type": "stream",
     "text": [
      "salté 8 veces, y llegué 10 metros de altura\n"
     ]
    }
   ],
   "source": [
    "def saltar(cantidad, altura):\n",
    "    return f\"salté {cantidad} veces, y llegué {altura} metros de altura\"\n",
    "\n",
    "print(saltar(8,10))"
   ]
  },
  {
   "cell_type": "code",
   "execution_count": 7,
   "id": "republican-playing",
   "metadata": {
    "slideshow": {
     "slide_type": "subslide"
    }
   },
   "outputs": [
    {
     "name": "stdout",
     "output_type": "stream",
     "text": [
      "El día 23 de Junio, salté 9 veces, y llegué 5 metros de altura\n"
     ]
    }
   ],
   "source": [
    "def actividad(actividad, fecha):\n",
    "    return f\"El día {fecha}, {actividad}\"\n",
    "\n",
    "print(actividad(saltar(9,5), '23 de Junio'))"
   ]
  },
  {
   "cell_type": "markdown",
   "id": "insured-russell",
   "metadata": {
    "slideshow": {
     "slide_type": "slide"
    }
   },
   "source": [
    "Funciones lambda son de ***primera clase*** o ***anónimas***. Tienen la siguiente estructura ```<lambda> <parámetros> : <retorno>`"
   ]
  },
  {
   "cell_type": "code",
   "execution_count": 8,
   "id": "municipal-hands",
   "metadata": {
    "slideshow": {
     "slide_type": "fragment"
    }
   },
   "outputs": [
    {
     "name": "stdout",
     "output_type": "stream",
     "text": [
      "6\n"
     ]
    }
   ],
   "source": [
    "multiplicar_anonimo = lambda x, y: x*y\n",
    "\n",
    "print(multiplicar_anonimo(2,3))"
   ]
  },
  {
   "cell_type": "code",
   "execution_count": 9,
   "id": "personalized-bailey",
   "metadata": {
    "slideshow": {
     "slide_type": "subslide"
    }
   },
   "outputs": [
    {
     "name": "stdout",
     "output_type": "stream",
     "text": [
      "6\n"
     ]
    }
   ],
   "source": [
    "def multiplicar(x,y):\n",
    "    return x*y\n",
    "\n",
    "print(multiplicar(2,3))"
   ]
  },
  {
   "cell_type": "code",
   "execution_count": 10,
   "id": "textile-danger",
   "metadata": {
    "slideshow": {
     "slide_type": "fragment"
    }
   },
   "outputs": [
    {
     "name": "stdout",
     "output_type": "stream",
     "text": [
      "<class 'function'>\n",
      "<function <lambda> at 0x000001B923349EE8>\n",
      "<class 'function'>\n",
      "<function multiplicar at 0x000001B923349C18>\n"
     ]
    }
   ],
   "source": [
    "print(type(multiplicar_anonimo))\n",
    "print(multiplicar_anonimo)\n",
    "print(type(multiplicar))\n",
    "print(multiplicar)"
   ]
  },
  {
   "cell_type": "markdown",
   "id": "coordinate-specialist",
   "metadata": {
    "slideshow": {
     "slide_type": "slide"
    }
   },
   "source": [
    "Estas funciones pueden ser utilizas solo donde fueron creadas y de forma anónima."
   ]
  },
  {
   "cell_type": "markdown",
   "id": "agricultural-diving",
   "metadata": {
    "slideshow": {
     "slide_type": "slide"
    }
   },
   "source": [
    "## map\n",
    "Son de la forma\n",
    "\n",
    "`<map>(<funcion>:<iterables), <parametros>` \n",
    "Reciben una **función** y al menos un **iterable**.  "
   ]
  },
  {
   "cell_type": "code",
   "execution_count": 11,
   "id": "diverse-horror",
   "metadata": {
    "slideshow": {
     "slide_type": "subslide"
    }
   },
   "outputs": [],
   "source": [
    "numeros = [1,2,3,4,5,6]\n",
    "exponentes = [1,9,8,7,6,5]\n",
    "\n",
    "potencia = map(lambda x,y: x**y,numeros, exponentes)"
   ]
  },
  {
   "cell_type": "markdown",
   "id": "appropriate-language",
   "metadata": {
    "slideshow": {
     "slide_type": "slide"
    }
   },
   "source": [
    "Intentemos imprimir potencia"
   ]
  },
  {
   "cell_type": "code",
   "execution_count": 12,
   "id": "intimate-finish",
   "metadata": {
    "slideshow": {
     "slide_type": "fragment"
    }
   },
   "outputs": [
    {
     "name": "stdout",
     "output_type": "stream",
     "text": [
      "<map object at 0x000001B92335B2C8>\n"
     ]
    }
   ],
   "source": [
    "print(potencia)"
   ]
  },
  {
   "cell_type": "markdown",
   "id": "refined-rubber",
   "metadata": {
    "slideshow": {
     "slide_type": "slide"
    }
   },
   "source": [
    "Notamos que vemos el type del objeto potencia. Para poder ver los elementos dentro de potencia debemos aplicarle `list` al resultado del mapeo."
   ]
  },
  {
   "cell_type": "code",
   "execution_count": 13,
   "id": "elementary-elite",
   "metadata": {
    "slideshow": {
     "slide_type": "subslide"
    }
   },
   "outputs": [
    {
     "name": "stdout",
     "output_type": "stream",
     "text": [
      "[1, 512, 6561, 16384, 15625, 7776]\n"
     ]
    }
   ],
   "source": [
    "print(list(potencia))"
   ]
  },
  {
   "cell_type": "markdown",
   "id": "comparative-database",
   "metadata": {
    "slideshow": {
     "slide_type": "slide"
    }
   },
   "source": [
    "Para trabajar con **más** de un iterable la función *lambda* deberá recibir el **mismo** número de parámetros que iterables, mientras que map iterará hasta el iterable de **menor** largo."
   ]
  },
  {
   "cell_type": "markdown",
   "id": "acquired-likelihood",
   "metadata": {
    "slideshow": {
     "slide_type": "slide"
    }
   },
   "source": [
    "## filter\n",
    "`filter(función: iterable)`\n",
    "\n",
    "Recibe una **función** que retorne un **boolean** y un **iterable**. Retorna un **generador** con todos los elementos del iterable que retornaron **True**."
   ]
  },
  {
   "cell_type": "code",
   "execution_count": 14,
   "id": "impressive-interaction",
   "metadata": {
    "slideshow": {
     "slide_type": "subslide"
    }
   },
   "outputs": [],
   "source": [
    "class Persona:\n",
    "    def __init__(self, nombre, edad):\n",
    "        self.nombre = nombre\n",
    "        self.edad = edad\n",
    "\n",
    "Maida = Persona('Maida',18)\n",
    "Pablo = Persona('Pablo',23)\n",
    "Fran = Persona('Fran',21)\n",
    "Ian = Persona('Ian',28)\n",
    "Matias = Persona('Matias',15)\n",
    "Juan = Persona('Juan',8)\n",
    "Sofia = Persona('Sofia',5)\n",
    "\n",
    "personas = [Maida, Pablo, Fran, Ian, Matias, Juan, Sofia]"
   ]
  },
  {
   "cell_type": "markdown",
   "id": "animated-hydrogen",
   "metadata": {
    "slideshow": {
     "slide_type": "slide"
    }
   },
   "source": [
    "Apliquemos un filter a la lista de personas, que nos retorne a todas las `Personas` que son menores de edad. Luego, imprimamos el resultado"
   ]
  },
  {
   "cell_type": "code",
   "execution_count": 15,
   "id": "returning-diagram",
   "metadata": {
    "slideshow": {
     "slide_type": "subslide"
    }
   },
   "outputs": [
    {
     "name": "stdout",
     "output_type": "stream",
     "text": [
      "<filter object at 0x000001B9233637C8>\n"
     ]
    }
   ],
   "source": [
    "menores_edad = filter(lambda x: x.edad <18,personas)\n",
    "print(menores_edad)"
   ]
  },
  {
   "cell_type": "markdown",
   "id": "absent-necklace",
   "metadata": {
    "slideshow": {
     "slide_type": "slide"
    }
   },
   "source": [
    "Notemos que ocurre lo mismo que en el caso del mapeo. Por lo que para visualizar los objetos del generado retornado por el `filter` debemos aplicar `list` al generador resultante de aplicar el filter."
   ]
  },
  {
   "cell_type": "code",
   "execution_count": 16,
   "id": "black-manchester",
   "metadata": {
    "slideshow": {
     "slide_type": "fragment"
    }
   },
   "outputs": [],
   "source": [
    "lista_menores = list(menores_edad)"
   ]
  },
  {
   "cell_type": "markdown",
   "id": "efficient-release",
   "metadata": {
    "slideshow": {
     "slide_type": "slide"
    }
   },
   "source": [
    "Ahora, imprimamos el resultado del `filter`"
   ]
  },
  {
   "cell_type": "code",
   "execution_count": 17,
   "id": "encouraging-insured",
   "metadata": {
    "slideshow": {
     "slide_type": "fragment"
    }
   },
   "outputs": [
    {
     "name": "stdout",
     "output_type": "stream",
     "text": [
      "Matias tiene 15 años\n",
      "Juan tiene 8 años\n",
      "Sofia tiene 5 años\n"
     ]
    }
   ],
   "source": [
    "for persona in lista_menores:\n",
    "    print(f'{persona.nombre} tiene {persona.edad} años')"
   ]
  },
  {
   "cell_type": "markdown",
   "id": "pretty-taiwan",
   "metadata": {
    "slideshow": {
     "slide_type": "slide"
    }
   },
   "source": [
    "## Reduce\n",
    "`<reduce>(<funcion>,<iterable>)`\n",
    "\n",
    "Recibe una función que recibe **dos parámetros** y **un iterable**. Retorna la aplicación de la función de forma acumulada sobre el iterable. Y retorna el **resultado acumulado**."
   ]
  },
  {
   "cell_type": "markdown",
   "id": "processed-region",
   "metadata": {
    "slideshow": {
     "slide_type": "fragment"
    }
   },
   "source": [
    "**NOTA**: reduce se debe importar del módulo ***functools***"
   ]
  },
  {
   "cell_type": "code",
   "execution_count": 18,
   "id": "noted-hindu",
   "metadata": {
    "slideshow": {
     "slide_type": "subslide"
    }
   },
   "outputs": [
    {
     "name": "stdout",
     "output_type": "stream",
     "text": [
      "0.00013020833333333333\n"
     ]
    }
   ],
   "source": [
    "from functools import reduce\n",
    "\n",
    "numeros = [9,8,72,5,6,4]\n",
    "\n",
    "division_acumulada = reduce(lambda x,y: x/y,numeros)\n",
    "\n",
    "print(division_acumulada)"
   ]
  },
  {
   "cell_type": "markdown",
   "id": "smart-castle",
   "metadata": {
    "slideshow": {
     "slide_type": "slide"
    }
   },
   "source": [
    "# Ayudantía 05 - Ejercicio DCCumentos, Por favor!"
   ]
  },
  {
   "cell_type": "markdown",
   "id": "thrown-humanity",
   "metadata": {
    "slideshow": {
     "slide_type": "fragment"
    }
   },
   "source": [
    "<div style=\"text-align: center;\">\n",
    "    <img src=\"./imagenes/logo.jpg\" />\n",
    "</div>"
   ]
  },
  {
   "cell_type": "markdown",
   "id": "motivated-mixer",
   "metadata": {
    "slideshow": {
     "slide_type": "slide"
    }
   },
   "source": [
    "Eres un(a) agente de aduanas post pandemia del Progravirus 2.0 👾, lo que significa: MILES DE VIAJEROS!\n",
    "Todo el mundo está viajando ✈ usando los ahorros de toda su vida y su vejez, por lo que tienes N pega. Como agente de aduanas estás siempre alerta 🚨 de personas que pudiesen colocar en peligro la seguridad de tu país, **DCColekia**, éstos son identificables por sus pasaporte falsos que poseen errores o datos ilógicos ❓. Dada la gran cantidad de personas que se encuentran viajando, debes priorizar a investigar 🔎 solo aquellos que cumplan con ciertas características a modo de realizarles una revisión más exhaustiva o incluso una interrogación! 👮‍♂️ Para ello debes utilizar todos tus conocimientos de **Map, Filter, Reduce, lambda e iteradores**."
   ]
  },
  {
   "cell_type": "markdown",
   "id": "southern-republican",
   "metadata": {
    "slideshow": {
     "slide_type": "slide"
    }
   },
   "source": [
    "### Parte 1"
   ]
  },
  {
   "cell_type": "markdown",
   "id": "toxic-sessions",
   "metadata": {
    "slideshow": {
     "slide_type": "fragment"
    }
   },
   "source": [
    "En esta primera parte deberás realizar una investigación exhaustiva de todos los pasajeros que pasan a través de tu ventanilla 🕵️‍♂️, para ello tienes las siguientes características que generan **sospecha** sobre el pasajero:\n",
    "\n",
    "* Color de ojos fuera de los comunes (\"Verde\", \"Café\" y \"Azul\")\n",
    "* Fechas de nacimiento que no coincidan con la edad actual del pasajero\n",
    "* Fechas de nacimiento antes del 1900 o posteriores al año actual\n",
    "* Estaturas superiores 250 cm. e inferiores a 0 cm.\n",
    "* Generos fuera de los estándar (\"Masculino\", \"Femenino\", \"No binario\")"
   ]
  },
  {
   "cell_type": "markdown",
   "id": "secret-active",
   "metadata": {
    "slideshow": {
     "slide_type": "fragment"
    }
   },
   "source": [
    "Dado que los pasaportes de algunos países no tienen los más altos estándares de calidad 😅, debes retornar una lista con los sospechosos que cumplan **al menos 2** de las características anteriores."
   ]
  },
  {
   "cell_type": "markdown",
   "id": "willing-twenty",
   "metadata": {
    "slideshow": {
     "slide_type": "slide"
    }
   },
   "source": [
    "### Parte 2"
   ]
  },
  {
   "cell_type": "markdown",
   "id": "differential-supplement",
   "metadata": {
    "slideshow": {
     "slide_type": "fragment"
    }
   },
   "source": [
    "Pefecto, ya tienes a los sospechos ✔. En esta segunda parte debes interrogar a cada uno de ellos y observar a quién acusan. Ten mucho cuidado ⚠ porque tratarán de engañarte acusándose entre ellos generando un **Deadlock**"
   ]
  },
  {
   "cell_type": "markdown",
   "id": "beginning-dressing",
   "metadata": {
    "slideshow": {
     "slide_type": "fragment"
    }
   },
   "source": [
    "<div style=\"text-align: center;\">\n",
    "    <img src=\"./imagenes/Deadlock.png\" />\n",
    "</div>"
   ]
  },
  {
   "cell_type": "markdown",
   "id": "special-affair",
   "metadata": {
    "slideshow": {
     "slide_type": "fragment"
    }
   },
   "source": [
    "Es por esto que cuando identifiques el **Deadlock** debes indicar a todos los que participen en él. Ellos son 💣.\n",
    "\n",
    "IMPORTANTE: **Debes modelar todo el proceso con iteradores**"
   ]
  },
  {
   "cell_type": "markdown",
   "id": "regulation-study",
   "metadata": {
    "slideshow": {
     "slide_type": "slide"
    }
   },
   "source": [
    "## Archivos"
   ]
  },
  {
   "cell_type": "markdown",
   "id": "veterinary-lawrence",
   "metadata": {
    "slideshow": {
     "slide_type": "subslide"
    }
   },
   "source": [
    "Para desarrollar el ejercicio cuentas con dos archivos, el primero **Personas.csv** comprende la información de los pasajeros para la parte 1 y tiene el siguiente formato:\n",
    "\n",
    "Ej:\n",
    "\n",
    "    Elsa patito; 1997; Santiago, 170, 23, Femenino, Verde\n",
    "    Aquiles brinco, 2012, Shanghai, 176, 12, Masculino, Verde\n",
    "    Xue Hua Piao Piao, 1999, Nueva York, 180, 25, No binario, Azul\n",
    "    .\n",
    "    .\n",
    "    ."
   ]
  },
  {
   "cell_type": "markdown",
   "id": "prompt-negative",
   "metadata": {
    "slideshow": {
     "slide_type": "fragment"
    }
   },
   "source": [
    "El segundo archivo corresponde a **Interrogaciones.csv**, el cual contiene información de un pasajero en particular y a **quién** acusaría en caso de ser interrogado, siguiendo el siguiente formato:\n",
    "\n",
    "Ej:\n",
    "\n",
    "    Elsa patito; Zoila Cerda\n",
    "    Paula Daza, Elsa Patito\n",
    "    Xue Hua Piao Piao, Elvis Tek\n",
    "    .\n",
    "    .\n",
    "    ."
   ]
  }
 ],
 "metadata": {
  "celltoolbar": "Slideshow",
  "kernelspec": {
   "display_name": "Python 3",
   "language": "python",
   "name": "python3"
  },
  "language_info": {
   "codemirror_mode": {
    "name": "ipython",
    "version": 3
   },
   "file_extension": ".py",
   "mimetype": "text/x-python",
   "name": "python",
   "nbconvert_exporter": "python",
   "pygments_lexer": "ipython3",
   "version": "3.7.9"
  }
 },
 "nbformat": 4,
 "nbformat_minor": 5
}

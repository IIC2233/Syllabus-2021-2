{
 "cells": [
  {
   "cell_type": "markdown",
   "id": "a05ad626",
   "metadata": {
    "slideshow": {
     "slide_type": "slide"
    }
   },
   "source": [
    "# Ayudantía 03: Excepciones\n",
    "\n",
    "## Autores: [@kunafuego](https://github.com/kunafuego), [@try-except](https://github.com/Try-Except) & [@pedroriosg](https://github.com/pedroriosg)"
   ]
  },
  {
   "cell_type": "markdown",
   "id": "e952bba5",
   "metadata": {
    "slideshow": {
     "slide_type": "slide"
    }
   },
   "source": [
    "## ¿Qué son las excepciones?\n",
    "\n",
    "\n",
    "Las excepciones son situaciones anómalas o inesperadas que pueden ocurrir en un proceso de cómputo. Estos eventos surgen cuando ocurren condiciones que alteran el flujo normal o esperado de un programa, o alguna acción no pudo ser ejecutada tal como se esperaba.\n",
    "\n",
    "Para controlas las excepciones, Python utiliza un objeto llamado **Exception**. Así, cuando ocurre un error en el programa, Python crea (levanta) una excepción, la que después podemos manejar a través de un bloque **try/except**.\n",
    "\n",
    "### ¿Qué pasa si no se maneja la excepción?\n",
    "\n",
    "La ejecución del programa se detiene y se muestra el error."
   ]
  },
  {
   "cell_type": "code",
   "execution_count": null,
   "id": "1713e0d5",
   "metadata": {
    "slideshow": {
     "slide_type": "fragment"
    }
   },
   "outputs": [],
   "source": [
    "edad = input(\"Ingresa tu edad: \")\n",
    "if int(edad) >= 18:\n",
    "    print(\"Felicitaciones ya eres adulto\")"
   ]
  },
  {
   "cell_type": "markdown",
   "id": "ba7ae1e1",
   "metadata": {
    "slideshow": {
     "slide_type": "slide"
    }
   },
   "source": [
    "## Tipos de errores\n",
    "\n",
    "### `SyntaxError`\n",
    "\n",
    "Son los errores más comunes a la hora de aprender Python. Son los que podemos apreciar repasando el código, por ejemplo al dejar un paréntesis abierto o al escribir mal un comando:"
   ]
  },
  {
   "cell_type": "code",
   "execution_count": null,
   "id": "535f7010",
   "metadata": {
    "slideshow": {
     "slide_type": "fragment"
    }
   },
   "outputs": [],
   "source": [
    "a = 10\n",
    "while a == 10:\n",
    "  print(\"Hola\""
   ]
  },
  {
   "cell_type": "code",
   "execution_count": null,
   "id": "9581948f",
   "metadata": {
    "slideshow": {
     "slide_type": "fragment"
    }
   },
   "outputs": [],
   "source": [
    "iff 25 == 25:\n",
    "  print(\"True\")"
   ]
  },
  {
   "cell_type": "markdown",
   "id": "f53c1bf9",
   "metadata": {
    "slideshow": {
     "slide_type": "subslide"
    }
   },
   "source": [
    "### `NameError`\n",
    "\n",
    "Ocurre cuando se intenta ocupar algo en el programa (variable, función o clase) con algún nombre que no ha sido definido previamente."
   ]
  },
  {
   "cell_type": "code",
   "execution_count": null,
   "id": "ad745063",
   "metadata": {
    "slideshow": {
     "slide_type": "fragment"
    }
   },
   "outputs": [],
   "source": [
    "nota = 6\n",
    "if notaa == 6:\n",
    "  print(True)"
   ]
  },
  {
   "cell_type": "markdown",
   "id": "1fe98400",
   "metadata": {
    "slideshow": {
     "slide_type": "subslide"
    }
   },
   "source": [
    "### `ZeroDivisionError`\n",
    "\n",
    "Tal como lo dice su nombre, esta excepción es levantada cuando una división tiene el valor 0 en su denominador."
   ]
  },
  {
   "cell_type": "code",
   "execution_count": null,
   "id": "84d14d8c",
   "metadata": {
    "slideshow": {
     "slide_type": "fragment"
    }
   },
   "outputs": [],
   "source": [
    "def division(a, b):\n",
    "  return a/b\n",
    "\n",
    "print(division(10, 2))\n",
    "print(division(10, 0))"
   ]
  },
  {
   "cell_type": "markdown",
   "id": "1a0f28a8",
   "metadata": {
    "slideshow": {
     "slide_type": "subslide"
    }
   },
   "source": [
    "### `IndexError`\n",
    "\n",
    "Ocurre cuando se intenta obtener un elemento de una estructura indexable (listas, tuplas, etc.) ocupando un índice que está fuera de los permitidos. Los índices permitidos van desde el `0` hasta el `largo de la estructura - 1`, además de los negativos (que nos retornan los elementos de atrás hacia adelante)."
   ]
  },
  {
   "cell_type": "code",
   "execution_count": null,
   "id": "9b8fbf54",
   "metadata": {
    "slideshow": {
     "slide_type": "fragment"
    }
   },
   "outputs": [],
   "source": [
    "numbers_list = [5, 20, 4, 3]\n",
    "for i in range(5):\n",
    "  print(f\"El elemento de índice {i} de la lista es {numbers_list[i]}\")"
   ]
  },
  {
   "cell_type": "markdown",
   "id": "ccece1eb",
   "metadata": {
    "slideshow": {
     "slide_type": "subslide"
    }
   },
   "source": [
    "### `KeyError`\n",
    "\n",
    "Esta excepción avisa cuando se utiliza una llave que no está definida en un diccionario."
   ]
  },
  {
   "cell_type": "code",
   "execution_count": null,
   "id": "d6afa92e",
   "metadata": {
    "slideshow": {
     "slide_type": "fragment"
    }
   },
   "outputs": [],
   "source": [
    "notas = {\"Domingo\": 5.8, \"Pedro\": 6.5, \"Simón\": 6.2}\n",
    "print(notas[\"Domingo\"])\n",
    "print(notas[\"Pedro\"])\n",
    "print(notas[\"Chupete Suazo (?)\"])"
   ]
  },
  {
   "cell_type": "markdown",
   "id": "9b5ea778",
   "metadata": {
    "slideshow": {
     "slide_type": "subslide"
    }
   },
   "source": [
    "### `AttributeError`\n",
    "\n",
    "Esta excepción alerta sobre el uso incorrecto de métodos o atributos de una clase o tipo de dato."
   ]
  },
  {
   "cell_type": "code",
   "execution_count": null,
   "id": "85e3fc87",
   "metadata": {
    "slideshow": {
     "slide_type": "fragment"
    }
   },
   "outputs": [],
   "source": [
    "class Estudiante:\n",
    "  def __init__(self, nombre, notas):\n",
    "    self.nombre = nombre\n",
    "    self.notas = notas\n",
    "    self.promedio = 0\n",
    "  \n",
    "  def calcular_promedio(self):\n",
    "    self.promedio = sum(self.notas)/len(self.notas)\n",
    "\n",
    "juanito = Estudiante(\"Juanito\", [5, 6, 7, 1])\n",
    "juanito.calcular_promedio()\n",
    "print(juanito.promedio)"
   ]
  },
  {
   "cell_type": "code",
   "execution_count": null,
   "id": "3a671fa8",
   "metadata": {
    "slideshow": {
     "slide_type": "fragment"
    }
   },
   "outputs": [],
   "source": [
    "print(juanito.numero_estudiante)"
   ]
  },
  {
   "cell_type": "code",
   "execution_count": null,
   "id": "7a51a6f4",
   "metadata": {
    "slideshow": {
     "slide_type": "fragment"
    }
   },
   "outputs": [],
   "source": [
    "juanito.inscribir_curso()"
   ]
  },
  {
   "cell_type": "markdown",
   "id": "c73f06dd",
   "metadata": {
    "slideshow": {
     "slide_type": "subslide"
    }
   },
   "source": [
    "### `TypeError`\n",
    "\n",
    "Esta excepción indica que hubo un error en el tipo de los datos. Es decir, cuando se intenta ejecutar una operación o función con un argumento que no es del tipo que debería.\n",
    "\n",
    "Por ejemplo, nosotros sabemos que la división es una operación que solo pueden realizar los datos de tipo `int` y `float`. ¿Qué sucede si lo hacemos con un `str`?"
   ]
  },
  {
   "cell_type": "code",
   "execution_count": null,
   "id": "774475fd",
   "metadata": {
    "slideshow": {
     "slide_type": "fragment"
    }
   },
   "outputs": [],
   "source": [
    "def division(a, b):\n",
    "  return a/b\n",
    "\n",
    "print(TypeError.mro())\n",
    "\n",
    "print(division(5, 2))"
   ]
  },
  {
   "cell_type": "code",
   "execution_count": null,
   "id": "03809500",
   "metadata": {
    "slideshow": {
     "slide_type": "fragment"
    }
   },
   "outputs": [],
   "source": [
    "print(division(\"Hola\", \"Mundo\"))"
   ]
  },
  {
   "cell_type": "markdown",
   "id": "b6ba51b8",
   "metadata": {
    "slideshow": {
     "slide_type": "subslide"
    }
   },
   "source": [
    "### `ValueError`\n",
    "\n",
    "Esta excepción indica que el valor que se ocupó no es compatible con la operación o función que se intentó ejecutar.\n",
    "\n",
    "Así, TypeError es un caso específico de ValueError, en el que el valor no es compatible porque es de un tipo de dato que no sirve para la acción que se quería realizar.\n",
    "\n",
    "¿Cómo puede ser que siendo del tipo de dato correcto, aun no cumpla los requisitos para realizar la acción? A continuación se presenta un ejemplo.\n",
    "\n",
    "Nosotros sabemos que si ocupamos la función raíz cuadrada de la biblioteca `math` (*math.sqrt*) debemos ingresar un dato del tipo `int` o `float`. Pero, ¿qué sucede si ingresamos un número negativo?"
   ]
  },
  {
   "cell_type": "markdown",
   "id": "5d500084",
   "metadata": {
    "slideshow": {
     "slide_type": "notes"
    }
   },
   "source": [
    "`TypeError` no hereda de `ValueError`!"
   ]
  },
  {
   "cell_type": "code",
   "execution_count": null,
   "id": "4e4bb619",
   "metadata": {
    "slideshow": {
     "slide_type": "fragment"
    }
   },
   "outputs": [],
   "source": [
    "import math\n",
    "\n",
    "raiz_de_dos = math.sqrt(2)\n",
    "print(f\"la raíz de 2 es {raiz_de_dos}\")\n",
    "\n",
    "raiz_de_menos_dos = math.sqrt(-2)\n",
    "print(f\"la raíz de -2 es {raiz_de_menos_dos}\")"
   ]
  },
  {
   "cell_type": "markdown",
   "id": "24629aa4",
   "metadata": {
    "slideshow": {
     "slide_type": "fragment"
    }
   },
   "source": [
    "Este es un ejemplo de ValueError, donde el tipo de dato es el indicado, pero aun así el valor no satisface las condiciones de la operación"
   ]
  },
  {
   "cell_type": "markdown",
   "id": "570e52ea",
   "metadata": {
    "slideshow": {
     "slide_type": "slide"
    }
   },
   "source": [
    "## Levantar Excepciones - Scripts Exigentes\n",
    "\n",
    "Podemos aprovechar que `python` es muy exigente en cuanto a los errores y levantar `Exceptions` para detener un código antes de que genere un comportamiento no deseado.\n",
    "\n",
    "Podemos generar una excepción en el momento en que queramos utilizando la sentencia **raise**.\n",
    "\n",
    "- Usualmente utilizamos condiciones que nos permiten saber donde levantar la excepción.\n",
    "- Se pueden usar dentro de funciones, clases, manejo de archivos."
   ]
  },
  {
   "cell_type": "code",
   "execution_count": null,
   "id": "b69bd4d8",
   "metadata": {},
   "outputs": [],
   "source": [
    "email = input(\"Ingrese email: \")\n",
    "if \"@\" not in email or \"uc.cl\" not in email:\n",
    "    raise ValueError(\"Email incorrecto\")"
   ]
  },
  {
   "cell_type": "markdown",
   "id": "d3338671",
   "metadata": {
    "slideshow": {
     "slide_type": "slide"
    }
   },
   "source": [
    "## Manejo de excepciones -  Scripts \"perseverantes\"\n",
    "\n",
    "Cada vez que se levanta una excepción (recuerda que la puede levantar `python` o podemos levantarla nosotros) , es posible **atraparla** y **manejarla**. Esto lo hacemos a través de las setencias **try - except** y permite que nuestro código persevere cuando exista un error\n",
    "\n",
    "### Try - Except\n",
    "\n",
    "Dentro del bloque **try** se define el código a \"intentar\" ejecutar. Si no ocurren problemas, el programa sigue su flujo. Si ocurre un problema, se levanta la excepción y es atrapada en el **except**.\n",
    "\n",
    "**Ojo:** Apenas se levanta la excepción, se va al except.\n",
    "\n",
    "Es posible definir múltiples **except** para un mismo **try**, y es posible complementar el bloque **try - except** con las sentencias **else** y **finally**.\n",
    "\n",
    "- **else**: se ejecuta siempre y cuando no se haya lanzado ninguna excepción.\n",
    "- **finally**: se ejecuta siempre, independiente de si se lanzó o no una excepción."
   ]
  },
  {
   "cell_type": "code",
   "execution_count": null,
   "id": "e7e484f0",
   "metadata": {},
   "outputs": [],
   "source": [
    "def email_exigente():\n",
    "    email = input(\"Ingrese email: \")\n",
    "    if \"@\" not in email or \"uc.cl\" not in email:\n",
    "        raise ValueError(\"Email incorrecto\")\n",
    "\n",
    "try:\n",
    "    email_exigente()\n",
    "except ValueError as error:\n",
    "    print(f\"Error de tipo {error}. Por favor ingresa mail existente.\")\n",
    "else:\n",
    "    print(\"Felicitaciones! Datos bien ingresados.\")\n",
    "finally:\n",
    "    print(\"Resolviendo bloque try - except\")"
   ]
  },
  {
   "cell_type": "markdown",
   "id": "8bfe8b3c",
   "metadata": {
    "slideshow": {
     "slide_type": "subslide"
    }
   },
   "source": [
    "## `Exceptions` personalizadas\n",
    "A veces hacer `raise ValueError` no es muy claro, porque esta `Exception` se levanta en muchos contextos distintos.\n",
    "\n",
    "Podemos crear nuestras propias `Exceptions` para diferenciar los errores propios de `python` de comportamientos no deseados:"
   ]
  },
  {
   "cell_type": "code",
   "execution_count": null,
   "id": "5f619f39",
   "metadata": {
    "slideshow": {
     "slide_type": "fragment"
    }
   },
   "outputs": [],
   "source": [
    "class MiException(Exception):\n",
    "    def __init__(self):\n",
    "        super().__init__()\n",
    "\n",
    "def funcion_mañosa(num):\n",
    "    if num < 5:\n",
    "        raise MiException # un raise statement detiene la ejecución de una función (pero NO retorna)\n",
    "    print(f\"{num} es un número válido!\")\n",
    "\n",
    "num = input(\"Ingrese un número mayor a 5: \")\n",
    "try:\n",
    "    num = int(num)\n",
    "    funcion_mañosa(num)\n",
    "except ValueError:\n",
    "    print(\"Necesito un número entero :c\")\n",
    "except MiException:\n",
    "    print(\"Ocurrió un error...\")"
   ]
  },
  {
   "cell_type": "markdown",
   "id": "07da883e",
   "metadata": {
    "slideshow": {
     "slide_type": "notes"
    }
   },
   "source": [
    "Que `raise` no retorne siginfica que aunque la función se termine de ejecutar, no retorna absolutamente nada, por ejemplo:\n",
    "```python\n",
    "a = funcion()\n",
    "print(a)\n",
    "# NameError: name 'a' is not defined\n",
    "b = 5\n",
    "b = funcion()\n",
    "print(b)\n",
    "# 5\n",
    "```"
   ]
  },
  {
   "cell_type": "markdown",
   "id": "f300a1ea",
   "metadata": {
    "slideshow": {
     "slide_type": "subslide"
    }
   },
   "source": [
    "## `Exceptions` generalizadas\n",
    "Un `except <tipo de Exception>` atrapará todas las `Exceptions` de la `clase` especificada y también de las `clases` que hereden de ella:"
   ]
  },
  {
   "cell_type": "code",
   "execution_count": null,
   "id": "cba114e9",
   "metadata": {
    "slideshow": {
     "slide_type": "fragment"
    }
   },
   "outputs": [],
   "source": [
    "class ErrorDeNombre(Exception):\n",
    "    def __init__(self):\n",
    "        super().__init__()\n",
    "\n",
    "class ErrorDeLargo(ErrorDeNombre):\n",
    "    def __init__(self):\n",
    "        super().__init__()\n",
    "try:\n",
    "    nombre = input(\"Ingresa tu nombre: \")\n",
    "    if len(nombre) < 3:\n",
    "        raise ErrorDeLargo\n",
    "except ErrorDeNombre:\n",
    "    print(\"Nombre no válido!\")"
   ]
  },
  {
   "cell_type": "markdown",
   "id": "2342dca5",
   "metadata": {
    "slideshow": {
     "slide_type": "fragment"
    }
   },
   "source": [
    "Así podemos elegir cuando atrapar a _todas_ las `Exceptions` de tipo `ErrorDeNombre` o solo una en específico."
   ]
  },
  {
   "cell_type": "markdown",
   "id": "ccd0db80",
   "metadata": {
    "slideshow": {
     "slide_type": "notes"
    }
   },
   "source": [
    "Una buena pregunta podría ser ¿Por qué sería útil atrapar excepciones con la superclase? Dar el ejemplo de python-gurobi y de `HTTPError`."
   ]
  },
  {
   "cell_type": "markdown",
   "id": "17079af3",
   "metadata": {
    "slideshow": {
     "slide_type": "slide"
    }
   },
   "source": [
    "## Ejercicios"
   ]
  },
  {
   "cell_type": "markdown",
   "id": "e8d15eaf",
   "metadata": {
    "slideshow": {
     "slide_type": "subslide"
    }
   },
   "source": [
    "### Ejercicio 1: Manejo de inputs T0\n",
    "\n",
    "Después de muchos intentos aun no podemos manejar los inputs de la tarea 0. ¿Cómo hago para que cada vez que un usuario ingrese un número podamos saber si es válido o no?\n",
    "\n",
    "Para comenzar, crearemos una función que maneje todos los inputs ingresados por el usuario, sin importar en qué menú lo hace. Esto lo podemos hacer ingresando como parámetro la cantidad de opciones que tenía dicho menú, además de la opción elegida por el usuario."
   ]
  },
  {
   "cell_type": "code",
   "execution_count": null,
   "id": "d4a1b05b",
   "metadata": {
    "slideshow": {
     "slide_type": "subslide"
    }
   },
   "outputs": [],
   "source": [
    "def manejar_input(opcion_elegida, cantidad_de_opciones):\n",
    "    # El primer error sería que el input no sea un int, en este caso la función int(opcion_elegida) daría error\n",
    "    try:\n",
    "        int_opcion_elegida = int(opcion_elegida)\n",
    "    except ValueError:\n",
    "        raise ValueError(f\"\\nEl valor ingresado no es un int\\n\")\n",
    "    # El segundo error sería que la opción elegida no esté entre el 1 y la cantidad de opciones\n",
    "    else:\n",
    "        if int_opcion_elegida > cantidad_de_opciones or int_opcion_elegida < 1:\n",
    "            raise IndexError(f\"\\nEl valor ingresado no está entre el 1 y el {cantidad_de_opciones}\\n\")\n",
    "    return True"
   ]
  },
  {
   "cell_type": "markdown",
   "id": "aa91ada8",
   "metadata": {
    "slideshow": {
     "slide_type": "subslide"
    }
   },
   "source": [
    "Con nuestra función definida, podemos ir al código y ocupar try/except para que el programa no se caiga si es que el input ingresado no es el debido. Solo se le imprimirá un código en pantalla al usuario y segirá."
   ]
  },
  {
   "cell_type": "code",
   "execution_count": null,
   "id": "53535bbb",
   "metadata": {
    "slideshow": {
     "slide_type": "fragment"
    }
   },
   "outputs": [],
   "source": [
    "while True:\n",
    "    print('(1) Iniciar sesión'\n",
    "          '\\n(2) Regístrate'\n",
    "          '\\n(3) Ingresar como usuario anónimo'\n",
    "          '\\n(4) Salir')\n",
    "    input_usuario_menu1 = input(\"Ingrese su opción elegida: \")\n",
    "    #Ahora que tenemos el input del usuario, podemos pedirle a nuestra función que lo valide\n",
    "    try:\n",
    "        validar_input = manejar_input(input_usuario_menu1, 4)\n",
    "    except (ValueError, IndexError) as err:\n",
    "        print(err)\n",
    "        validar_input = False\n",
    "    if validar_input:\n",
    "        #Una vez que el input es válido manejo con if's hacia qué menú debe ir mi usuario\n",
    "        menu_2 = True\n",
    "    else:\n",
    "        menu_2 = False\n",
    "    while menu_2:\n",
    "        print('\\n(1) Ver publicaciones'\n",
    "              '\\n(2) Chequear estado de cuenta'\n",
    "              '\\n(3) Configuraciones'\n",
    "              '\\n(4) Agregar tarjeta'\n",
    "              '\\n(5) Ver ventas'\n",
    "              '\\n(6) Salir')\n",
    "        input_usuario_menu2 = input(\"Ingrese su opción elegida: \")\n",
    "        try:\n",
    "            validar_input2 = manejar_input(input_usuario_menu2, 6)\n",
    "        except (ValueError, IndexError) as err:\n",
    "            print(err)\n",
    "            validar_input2 = False\n",
    "        if validar_input2:\n",
    "            print(\"\\nFelicidades! Ya sabes manejar un input, puede serte de mucha utilidad para las siguientes actividades del curso ;)\\n\")\n",
    "            break"
   ]
  },
  {
   "cell_type": "markdown",
   "id": "c9bc6bec",
   "metadata": {
    "slideshow": {
     "slide_type": "fragment"
    }
   },
   "source": [
    "Así tal cual podemos manejar muchos menús. También se podría aplicar esto para chequear si es que un nombre de usuario es válido o no (sección registrarse de la T0), y de esa forma cuando el valor no cumple los requisitos mínimos nuestra función levanta un error que se captura cuando se llama a la función."
   ]
  },
  {
   "cell_type": "markdown",
   "id": "6fcfdb84",
   "metadata": {
    "slideshow": {
     "slide_type": "subslide"
    }
   },
   "source": [
    "## Ejercicio 2: Misión Espacial\n",
    "Una misión espacial es algo que debe ser ejecutado a la perfección, no hay espacio para errores de ningún tipo. La NASA sabe de tu enorme habilidad con el manejo de `Excepciones`, así que decide contrarte para que programes su nueva línea de naves espaciales."
   ]
  },
  {
   "cell_type": "markdown",
   "id": "fa3e2796",
   "metadata": {
    "slideshow": {
     "slide_type": "fragment"
    }
   },
   "source": [
    "### Errores Espaciales\n",
    "A lo largo de tu programa encontrarás diversos tipos de errores, así que debes ser capaz de discernir entre errores de `python` y errores relacionados con la misión espacial, así que armemos un tipo de `Excepcion` para poder distinguirlos:"
   ]
  },
  {
   "cell_type": "code",
   "execution_count": null,
   "id": "694e1ce7",
   "metadata": {
    "slideshow": {
     "slide_type": "subslide"
    }
   },
   "outputs": [],
   "source": [
    "class ErrorEspacial(Exception):\n",
    "    '''\n",
    "    Esta clase nos permitirá atrapar todos los errores \n",
    "    relacionados con la misión espacial\n",
    "    '''\n",
    "    pass\n",
    "\n",
    "class ErrorNave(ErrorEspacial):\n",
    "    pass\n",
    "\n",
    "'''\n",
    "* La única gracia de volver a definir el constructor aquí es poder definir un mensaje predeterminado\n",
    "'''\n",
    "\n",
    "class ErrorMotores(ErrorNave):\n",
    "    def __init__(self, mensaje=\"Ocurrió un error en los motores!\"):\n",
    "        super().__init__(mensaje)\n",
    "\n",
    "class ErrorFuselaje(ErrorNave):\n",
    "    def __init__(self, mensaje=\"Ocurrió un error en el fuselaje!\"):\n",
    "        super().__init__(mensaje)\n",
    "        \n",
    "class ErrorPlataforma(ErrorEspacial):\n",
    "    def __init__(self, mensaje=\"Ocurrió un error en la plataforma!\"):\n",
    "        super().__init__(mensaje)"
   ]
  },
  {
   "cell_type": "markdown",
   "id": "e395c93a",
   "metadata": {
    "slideshow": {
     "slide_type": "subslide"
    }
   },
   "source": [
    "#### Motor\n",
    "Un `Motor` tiene un nivel de `resistencia` implementado como una `@property` y un método para `encender`."
   ]
  },
  {
   "cell_type": "code",
   "execution_count": null,
   "id": "8e589a37",
   "metadata": {
    "slideshow": {
     "slide_type": "fragment"
    }
   },
   "outputs": [],
   "source": [
    "class Motor:\n",
    "    def __init__(self, resistencia):\n",
    "        self.__resistencia = None\n",
    "        self.resistencia = resistencia\n",
    "    \n",
    "    @property\n",
    "    def resistencia(self):\n",
    "        return self.__resistencia\n",
    "    \n",
    "    @resistencia.setter\n",
    "    def resistencia(self, value):\n",
    "        if value <= 0:\n",
    "            self.__resistencia = 0\n",
    "            raise ErrorMotores(\"FATAL: Motor averiado!\")\n",
    "        self.__resistencia = value\n",
    "    \n",
    "    def encender(self):\n",
    "        if not self.resistencia:\n",
    "            raise ErrorMotores(\"Este motor no funciona!\")\n",
    "        self.resistencia -= 5"
   ]
  },
  {
   "cell_type": "markdown",
   "id": "4f87508b",
   "metadata": {
    "slideshow": {
     "slide_type": "subslide"
    }
   },
   "source": [
    "#### Fuselaje\n",
    "El `Fuselaje` de la `NaveEspacial` tiene un nivel de `resistencia` implementado como una `@property` y un método que le permita `resistir_despegue`."
   ]
  },
  {
   "cell_type": "code",
   "execution_count": null,
   "id": "59b538cd",
   "metadata": {
    "slideshow": {
     "slide_type": "fragment"
    }
   },
   "outputs": [],
   "source": [
    "from random import randint\n",
    "\n",
    "class Fuselaje:\n",
    "    def __init__(self, resistencia):\n",
    "        self.__resistencia = None\n",
    "        self.resistencia = resistencia\n",
    "    \n",
    "    @property\n",
    "    def resistencia(self):\n",
    "        return self.__resistencia\n",
    "    \n",
    "    @resistencia.setter\n",
    "    def resistencia(self, value):\n",
    "        if value <= 0:\n",
    "            self.__resistencia = 0\n",
    "            raise ErrorFuselaje(\"FATAL: Fuselaje averiado!\")\n",
    "        self.__resistencia = value\n",
    "    \n",
    "    def resistir_despegue(self):\n",
    "        if not self.resistencia:\n",
    "            raise ErrorFuselaje(\"El fuselaje ya no sirve!\")\n",
    "        self.resistencia -= randint(1, 10)"
   ]
  },
  {
   "cell_type": "markdown",
   "id": "e4f9bb95",
   "metadata": {
    "slideshow": {
     "slide_type": "subslide"
    }
   },
   "source": [
    "### Naves Espaciales\n",
    "Ahora debemos modelar las naves que enviaremos al espacio. Una `NaveEspacial` cuanta con:\n",
    "* Un `motor_izq` y un `motor_der`.\n",
    "* Un `fuselaje`.\n",
    "* Un método para `despegar`.\n",
    "* Un método para `esquivar_asteroide`."
   ]
  },
  {
   "cell_type": "code",
   "execution_count": null,
   "id": "f0de3180",
   "metadata": {
    "slideshow": {
     "slide_type": "subslide"
    }
   },
   "outputs": [],
   "source": [
    "class NaveEspacial:\n",
    "    def __init__(self, nombre, motores, fuselaje):\n",
    "        self.nombre = nombre\n",
    "        self.motor_izq, self.motor_der = motores\n",
    "        self.fuselaje = fuselaje\n",
    "        self.volando = False\n",
    "    \n",
    "    def __str__(self):\n",
    "        text = f\"> Nave espacial {self.nombre}:\\n\"\n",
    "        text += f\"> Motor izq: {self.motor_izq.resistencia}, \"\n",
    "        text += f\"Motor der: {self.motor_der.resistencia}\\n\"\n",
    "        text += f\"> Fuselaje: {self.fuselaje.resistencia}\\n\"\n",
    "        \n",
    "        return text\n",
    "    \n",
    "    def despegar(self):\n",
    "        if self.volando:\n",
    "            raise ValueError(f\"{self.nombre} ya está volando!\")\n",
    "        try:\n",
    "            #enciende los motores e intenta despegar\n",
    "            \n",
    "        except ErrorNave as err:\n",
    "            print(err) #borrar esta linea haría que el programa fallara \"silenciosamente\"\n",
    "            self.volando = False\n",
    "            \n",
    "        finally:\n",
    "            return self.volando\n",
    "    \n",
    "    def esquivar_asteroide(self, direccion):\n",
    "        '''\n",
    "        Recibe una dirección hacia la cual efectuar la maniobra evasiva y enciende el motor\n",
    "        correspondiente.\n",
    "        '''\n",
    "        if direccion not in (\"izquierda\", \"derecha\"):\n",
    "            raise #Qué tipo de error hay que levantar?\n",
    "            \n",
    "        if not self.volando:\n",
    "            raise #Qué tipo de error hay que levantar?\n",
    "            \n",
    "        try:\n",
    "            if direccion == \"izquierda\":\n",
    "                self.motor_izq.encender()\n",
    "            else:\n",
    "                self.motor_der.encender()\n",
    "            print(f\"{self.nombre}: Asteroide esquivado!\")\n",
    "            \n",
    "        except ErrorMotores:\n",
    "            print(f\"{self.nombre}: El motor de la {direccion} no funciona! No se ha podido esquivar el asteroide\")\n",
    "            self.fuselaje.resistencia -= 3"
   ]
  },
  {
   "cell_type": "markdown",
   "id": "3800d695",
   "metadata": {
    "slideshow": {
     "slide_type": "subslide"
    }
   },
   "source": [
    "### Plataforma de Despegue\n",
    "La `PlataformaDespegue` desde la cual será lanzada cada `NaveEspacial` tiene una lista de `naves` y un registro de la nave que está `en_plataforma`. Además, debe poder `avanzar_lista`, intentar `despegar_nave` y también `retirar_nave`."
   ]
  },
  {
   "cell_type": "code",
   "execution_count": null,
   "id": "b99ef868",
   "metadata": {
    "slideshow": {
     "slide_type": "fragment"
    }
   },
   "outputs": [],
   "source": [
    "class PlataformaDespegue:\n",
    "    def __init__(self, naves: list):\n",
    "        self.naves = naves\n",
    "        self.en_plataforma = None\n",
    "    \n",
    "    def avanzar_lista(self):\n",
    "        if self.en_plataforma:\n",
    "            raise ErrorPlataforma(\"Hay una nave aún en la plataforma!\")\n",
    "        self.en_plataforma = self.naves.pop()\n",
    "    \n",
    "    def despegar_nave(self):\n",
    "        try:\n",
    "            #despega la nave de la plataforma\n",
    "        except ErrorEspacial as err:\n",
    "            print(err)\n",
    "        except #Qué excepción podría ocurrir?:\n",
    "            raise ErrorPlataforma(\"No hay ninguna nave en la plataforma!\")\n",
    "    \n",
    "    def retirar_nave(self):\n",
    "        self.en_plataforma = None"
   ]
  },
  {
   "cell_type": "markdown",
   "id": "8bb5cf45",
   "metadata": {
    "slideshow": {
     "slide_type": "subslide"
    }
   },
   "source": [
    "## Implementación de la misión espacial"
   ]
  },
  {
   "cell_type": "code",
   "execution_count": null,
   "id": "dd192ada",
   "metadata": {
    "slideshow": {
     "slide_type": "fragment"
    }
   },
   "outputs": [],
   "source": [
    "try:\n",
    "    # crea dos naves con sus motores y fuselaje, una plataforma de\n",
    "    # despegue que las contenga y prueba tu implementaciónn\n",
    "    \n",
    "    print(\"Misión exitosa!\")\n",
    "    \n",
    "except ErrorEspacial as err:\n",
    "    print(err)\n",
    "    print(\"Ha ocurrido un error en la misión! Esto es inaceptable...\")"
   ]
  },
  {
   "cell_type": "markdown",
   "id": "a12db4e7",
   "metadata": {
    "slideshow": {
     "slide_type": "fragment"
    }
   },
   "source": [
    "¿Qué cambios harías?"
   ]
  }
 ],
 "metadata": {
  "celltoolbar": "Slideshow",
  "kernelspec": {
   "display_name": "Python 3 (ipykernel)",
   "language": "python",
   "name": "python3"
  },
  "language_info": {
   "codemirror_mode": {
    "name": "ipython",
    "version": 3
   },
   "file_extension": ".py",
   "mimetype": "text/x-python",
   "name": "python",
   "nbconvert_exporter": "python",
   "pygments_lexer": "ipython3",
   "version": "3.9.7"
  }
 },
 "nbformat": 4,
 "nbformat_minor": 5
}

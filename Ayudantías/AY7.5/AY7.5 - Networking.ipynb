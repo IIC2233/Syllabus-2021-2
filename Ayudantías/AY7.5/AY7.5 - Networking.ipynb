{
 "cells": [
  {
   "cell_type": "markdown",
   "id": "578b0b0b",
   "metadata": {
    "slideshow": {
     "slide_type": "slide"
    }
   },
   "source": [
    "# **Ayudantía 7: Networking**\n",
    "\n",
    "\n",
    "Autora: Camila González P. ([@camilagonzalezp](https://github.com/camilagonzalezp))"
   ]
  },
  {
   "cell_type": "markdown",
   "id": "48ce0f6e",
   "metadata": {
    "slideshow": {
     "slide_type": "slide"
    }
   },
   "source": [
    "## Sockets"
   ]
  },
  {
   "cell_type": "markdown",
   "id": "3cb4b645",
   "metadata": {
    "slideshow": {
     "slide_type": "fragment"
    }
   },
   "source": [
    "### ¿Qué es?\n",
    "\n",
    "Es un objeto del sistema operativo que permite a un programa transmitir y recibir datos desde y hacia otro programa."
   ]
  },
  {
   "cell_type": "markdown",
   "id": "de79a9bf",
   "metadata": {
    "slideshow": {
     "slide_type": "fragment"
    }
   },
   "source": [
    "### ¿Cómo se usa?"
   ]
  },
  {
   "cell_type": "markdown",
   "id": "362a8531",
   "metadata": {
    "slideshow": {
     "slide_type": "slide"
    }
   },
   "source": [
    "#### Cliente TCP"
   ]
  },
  {
   "cell_type": "markdown",
   "id": "4580f5c9",
   "metadata": {
    "slideshow": {
     "slide_type": "fragment"
    }
   },
   "source": [
    "Para crear un socket, se debe crear una instancia de la clase `socket(family, type)`.\n",
    "* `family`: tipo de dirección IP a usar.\n",
    "    * Para direcciones IPv4: `AF_INET`.\n",
    "    * Para direcciones IPv6: `AF_INET6`.\n",
    "* `type`: protocolo de transporte a usar.\n",
    "    * Para protocolo TCP: `SOCK_STREAM`.\n",
    "    * Para protocolo UDP: `SOCK_DGRAM`."
   ]
  },
  {
   "cell_type": "markdown",
   "id": "a0beaf5b",
   "metadata": {
    "slideshow": {
     "slide_type": "subslide"
    }
   },
   "source": [
    "Para conectarse a un servidor TCP se usa el método `connect((host, port))` del socket. \n",
    "* `host`: dirección IP del host destinatario.\n",
    "* `port`: puerto del host destinatario.\n",
    "\n",
    "Para enviar un mensaje, se usa el método `sendall(bytes)` de socket.\n",
    "\n",
    "Para recibir un mensaje, se usa el método `recv(buffer)->bytes` de socket.\n",
    "* `buffer`: cantidad máxima de bytes a recibir.\n",
    "\n",
    "Para cerrar la conexión se usa el método `close()` de socket."
   ]
  },
  {
   "cell_type": "code",
   "execution_count": null,
   "id": "667410cb",
   "metadata": {
    "slideshow": {
     "slide_type": "subslide"
    }
   },
   "outputs": [],
   "source": [
    "import socket\n",
    "\n",
    "socket_cliente = socket.socket(socket.AF_INET, socket.SOCK_STREAM)\n",
    "\n",
    "HOST = socket_cliente.gethostname() \n",
    "# permite obtener la dirección IP del host donde se está ejecutando el programa.\n",
    "# HOST = \"localhost\"\n",
    "PORT = 5000\n",
    "\n",
    "try:\n",
    "    socket_cliente.connect((HOST, PORT))\n",
    "    mensaje_a_enviar = 'Mensaje enviado desde cliente a servidor'\n",
    "    socket_cliente.sendall(mensaje_a_enviar.encode('utf-8'))\n",
    "    bytes_recibidos = socket_cliente.recv(4096)\n",
    "    print(f\"Mensaje recibido: {bytes_recibidos.decode('utf-8')}\")\n",
    "except ConnectionError as error:\n",
    "    print('La conexión ha fallado :o')\n",
    "    print(f'Error: {error}')\n",
    "finally:  \n",
    "    socket_cliente.close()"
   ]
  },
  {
   "cell_type": "markdown",
   "id": "f4d89208",
   "metadata": {
    "slideshow": {
     "slide_type": "slide"
    }
   },
   "source": [
    "#### Servidor TCP"
   ]
  },
  {
   "cell_type": "markdown",
   "id": "3df5287b",
   "metadata": {
    "slideshow": {
     "slide_type": "fragment"
    }
   },
   "source": [
    "Se crea un socket de la misma forma que en el cliente, con `socket(family, type)`.\n",
    "\n",
    "Para enlazar el socket a un puerto se usa el método `bind((host, port))`.\n",
    "* `host`:  host en el que se está corriendo el servidor.\n",
    "* `port`: puerto donde se va a escuchar las conexiones.\n",
    "\n",
    "Para escuchar conexiones se usa el método `listen()`."
   ]
  },
  {
   "cell_type": "markdown",
   "id": "5eb9f443",
   "metadata": {
    "slideshow": {
     "slide_type": "subslide"
    }
   },
   "source": [
    "Para aceptar conexiones se usa el método `accept()->socket_cliente, address`.\n",
    "* `socket_cliente`: socket que permite al servidor comunicarse con el cliente que se acepta.\n",
    "* `address`: tupla con la dirección IP y el puerto del cliente.\n",
    "\n",
    "Para cerrar el servidor se usa el método `close()` de socket."
   ]
  },
  {
   "cell_type": "code",
   "execution_count": null,
   "id": "1e2a2753",
   "metadata": {
    "slideshow": {
     "slide_type": "subslide"
    }
   },
   "outputs": [],
   "source": [
    "import socket\n",
    "\n",
    "socket_servidor = socket.socket(socket.AF_INET, socket.SOCK_STREAM)\n",
    "\n",
    "HOST = socket_servidor.gethostname()\n",
    "PORT = 5000\n",
    "\n",
    "socket_servidor.bind((HOST, PORT))\n",
    "socket_servidor.listen()\n",
    "\n",
    "while True:\n",
    "    try:\n",
    "        socket_cliente, adress = socket_servidor.accept()\n",
    "        print(f'Conexión aceptada desde: {adress}')\n",
    "        bytes_recibidos = socket_cliente.recv(4096)\n",
    "        print(f\"Mensaje recibido: {bytes_recibidos.decode('utf-8')}\")\n",
    "        mensaje_a_enviar = 'Mensaje enviado desde servidor a cliente'\n",
    "        socket_cliente.sendall(mensaje_a_enviar.encode('utf-8'))\n",
    "    except ConnectionError as error:\n",
    "        print('La conexión ha fallado :o')\n",
    "        print(f'Error: {error}')\n",
    "    finally:\n",
    "        socket_servidor.close()"
   ]
  },
  {
   "cell_type": "markdown",
   "id": "4bcc757e",
   "metadata": {
    "slideshow": {
     "slide_type": "slide"
    }
   },
   "source": [
    "## Envío de información: protocolos"
   ]
  },
  {
   "cell_type": "markdown",
   "id": "44d0b61e",
   "metadata": {
    "slideshow": {
     "slide_type": "fragment"
    }
   },
   "source": [
    "### ¿Qué es?\n",
    "\n",
    "Es un esquema de comunicación para la transferencia de información."
   ]
  },
  {
   "cell_type": "markdown",
   "id": "30da8eaa",
   "metadata": {
    "slideshow": {
     "slide_type": "fragment"
    }
   },
   "source": [
    "### ¿Para qué sirve?\n",
    "\n",
    "* Envío de grandes cantidades de datos.\n",
    "* Estandarización del envío de información.\n",
    "* Orden en la transferencia de datos.\n",
    "* Garantiza el correcto traspaso de información."
   ]
  },
  {
   "cell_type": "markdown",
   "id": "44a76363",
   "metadata": {
    "slideshow": {
     "slide_type": "subslide"
    }
   },
   "source": [
    "### ¿Qué información puede contener un protocolo?\n",
    "\n",
    "* Tamaño de los datos enviados.\n",
    "* Tamaño de los chunks.\n",
    "* Orden de los bytes.\n",
    "* Alfabeto de codificación."
   ]
  },
  {
   "cell_type": "markdown",
   "id": "b54b2efe",
   "metadata": {
    "slideshow": {
     "slide_type": "subslide"
    }
   },
   "source": [
    "### Ejemplo!"
   ]
  },
  {
   "cell_type": "code",
   "execution_count": 1,
   "id": "1d968ef1",
   "metadata": {
    "slideshow": {
     "slide_type": "fragment"
    }
   },
   "outputs": [
    {
     "name": "stdout",
     "output_type": "stream",
     "text": [
      "Mensaje final: b'\\x0e\\x00\\x00\\x00{\"nombre\": \"Margot\", \"edad\": 15, \"raza\": \"Schnauzer\"}\\x00\\x00\\x00'\n"
     ]
    }
   ],
   "source": [
    "import json\n",
    "\n",
    "TAMANO_CHUNK = 4\n",
    "\n",
    "mensaje = {\n",
    "    'nombre': 'Margot',\n",
    "    'edad': 15,\n",
    "    'raza': 'Schnauzer'\n",
    "}\n",
    "\n",
    "bytes_mensaje = json.dumps(mensaje).encode('utf-8')\n",
    "\n",
    "while len(bytes_mensaje) % TAMANO_CHUNK != 0:\n",
    "    bytes_mensaje += b'\\x00'\n",
    "\n",
    "numero_chunks = len(bytes_mensaje) // TAMANO_CHUNK\n",
    "bytes_numero_chunks = numero_chunks.to_bytes(4, 'little')\n",
    "\n",
    "mensaje_final = bytes_numero_chunks + bytes_mensaje\n",
    "print(f'Mensaje final: {mensaje_final}')"
   ]
  },
  {
   "cell_type": "code",
   "execution_count": 2,
   "id": "697e64a5",
   "metadata": {
    "slideshow": {
     "slide_type": "subslide"
    }
   },
   "outputs": [
    {
     "name": "stdout",
     "output_type": "stream",
     "text": [
      "Bytes recibidos: b'{\"nombre\": \"Margot\", \"edad\": 15, \"raza\": \"Schnauzer\"}\\x00\\x00\\x00'\n",
      "Mensaje recibido: {'nombre': 'Margot', 'edad': 15, 'raza': 'Schnauzer'}\n"
     ]
    }
   ],
   "source": [
    "numero_chunks = int.from_bytes(mensaje_final[:4], 'little')\n",
    "\n",
    "chunks_recibidos = 0\n",
    "bytes_recibidos = b''\n",
    "actual = 4\n",
    "\n",
    "while chunks_recibidos < numero_chunks:\n",
    "    chunk = mensaje_final[actual:actual+TAMANO_CHUNK]\n",
    "    bytes_recibidos += chunk\n",
    "    actual += TAMANO_CHUNK\n",
    "    chunks_recibidos += 1\n",
    "print(f'Bytes recibidos: {bytes_recibidos}')\n",
    "\n",
    "bytes_recibidos_limpios = bytes_recibidos.strip(b\"\\x00\")\n",
    "mensaje_recibido = json.loads(bytes_recibidos_limpios)\n",
    "print(f'Mensaje recibido: {mensaje_recibido}')"
   ]
  },
  {
   "cell_type": "markdown",
   "id": "897fabe1",
   "metadata": {
    "slideshow": {
     "slide_type": "slide"
    }
   },
   "source": [
    "## Manejo de múltiples clientes en forma concurrente 😱"
   ]
  },
  {
   "cell_type": "markdown",
   "id": "33469465",
   "metadata": {
    "slideshow": {
     "slide_type": "fragment"
    }
   },
   "source": [
    "* El manejo de varios usuarios simultáneamente se logra mediante el uso de **threads**.\n",
    "* Un thread encargado de aceptar nuevos clientes y un thread encargado de cada cliente."
   ]
  },
  {
   "cell_type": "markdown",
   "id": "d0b4990c",
   "metadata": {
    "slideshow": {
     "slide_type": "subslide"
    }
   },
   "source": [
    "### Ejemplo final 🎉"
   ]
  },
  {
   "cell_type": "markdown",
   "id": "ded51dd2",
   "metadata": {
    "slideshow": {
     "slide_type": "fragment"
    }
   },
   "source": [
    "#### Servidor"
   ]
  },
  {
   "cell_type": "code",
   "execution_count": null,
   "id": "afed09c2",
   "metadata": {
    "slideshow": {
     "slide_type": "fragment"
    }
   },
   "outputs": [],
   "source": [
    "class Servidor:\n",
    "\n",
    "    def __init__(self, host, port):\n",
    "        self.host = host\n",
    "        self.port = port\n",
    "        self.socket_servidor = socket.socket(socket.AF_INET, socket.SOCK_STREAM)\n",
    "        self.socket_servidor.bind((self.host, self.port))\n",
    "        self.socket_servidor.listen()\n",
    "        print(f'Servidor escuchando en {self.host}:{self.port}')\n",
    "\n",
    "        thread = threading.Thread(target=self.aceptar_clientes)\n",
    "        thread.start()"
   ]
  },
  {
   "cell_type": "code",
   "execution_count": null,
   "id": "0c558e22",
   "metadata": {
    "slideshow": {
     "slide_type": "fragment"
    }
   },
   "outputs": [],
   "source": [
    "    def aceptar_clientes(self):\n",
    "        while True:\n",
    "            socket_cliente, address = self.socket_servidor.accept()\n",
    "            print(f'Cliente con dirección {address} se ha conectado al servidor')\n",
    "            thread_cliente = threading.Thread(target=self.escuchar_cliente, args=(socket_cliente,), daemon=True)\n",
    "            thread_cliente.start()"
   ]
  },
  {
   "cell_type": "code",
   "execution_count": null,
   "id": "e0984f47",
   "metadata": {
    "slideshow": {
     "slide_type": "subslide"
    }
   },
   "outputs": [],
   "source": [
    "    def escuchar_cliente(self, socket_cliente):\n",
    "        try:\n",
    "            while True:\n",
    "                mensaje = self.recibir(socket_cliente)\n",
    "                respuesta = self.manejar_mensaje_recibido(mensaje)\n",
    "                print(f'Enviando respuesta: {respuesta}')\n",
    "                self.enviar(respuesta, socket_cliente)\n",
    "        except ConnectionResetError:\n",
    "            print('Error de conexión con el cliente')"
   ]
  },
  {
   "cell_type": "code",
   "execution_count": null,
   "id": "39379398",
   "metadata": {
    "slideshow": {
     "slide_type": "fragment"
    }
   },
   "outputs": [],
   "source": [
    "    def recibir(self, socket_cliente):\n",
    "        largo_bytes_mensaje = socket_cliente.recv(4)\n",
    "        largo_mensaje = int.from_bytes(largo_bytes_mensaje, byteorder='big')\n",
    "        bytes_mensaje = bytearray()\n",
    "        while len(bytes_mensaje) < largo_mensaje:\n",
    "            bytes_mensaje += socket_cliente.recv(60)\n",
    "        bytes_mensaje_limpios = bytes_mensaje.strip(b'\\x00')\n",
    "        mensaje = self.decodificar_mensaje(bytes_mensaje_limpios)\n",
    "        return mensaje"
   ]
  },
  {
   "cell_type": "code",
   "execution_count": null,
   "id": "24d2b9b2",
   "metadata": {
    "slideshow": {
     "slide_type": "fragment"
    }
   },
   "outputs": [],
   "source": [
    "    def enviar(self, mensaje, socket_cliente):\n",
    "        bytes_mensaje = self.codificar_mensaje(mensaje)\n",
    "        while len(bytes_mensaje) % 60 != 0:\n",
    "            bytes_mensaje += b'\\x00'\n",
    "        largo_bytes_mensaje = len(bytes_mensaje).to_bytes(4, byteorder='big')\n",
    "        socket_cliente.sendall(largo_bytes_mensaje + bytes_mensaje)"
   ]
  },
  {
   "cell_type": "code",
   "execution_count": null,
   "id": "6bae0e1e",
   "metadata": {
    "slideshow": {
     "slide_type": "subslide"
    }
   },
   "outputs": [],
   "source": [
    "    def codificar_mensaje(self, mensaje):\n",
    "        try:\n",
    "            mensaje_json = json.dumps(mensaje)\n",
    "            bytes_mensaje = mensaje_json.encode('utf-8')\n",
    "            return bytes_mensaje\n",
    "        except json.JSONDecodeError:\n",
    "            print('No se pudo codificar el mensaje')\n",
    "            return b''"
   ]
  },
  {
   "cell_type": "code",
   "execution_count": null,
   "id": "9a6c969c",
   "metadata": {
    "slideshow": {
     "slide_type": "fragment"
    }
   },
   "outputs": [],
   "source": [
    "    def decodificar_mensaje(self, bytes_mensaje):\n",
    "        try:\n",
    "            mensaje = json.loads(bytes_mensaje)\n",
    "            return mensaje\n",
    "        except json.JSONDecodeError:\n",
    "            print('No se pudo decodificar el mensaje')\n",
    "            return ''"
   ]
  },
  {
   "cell_type": "code",
   "execution_count": null,
   "id": "d6876379",
   "metadata": {
    "slideshow": {
     "slide_type": "fragment"
    }
   },
   "outputs": [],
   "source": [
    "    def manejar_mensaje_recibido(self, mensaje):\n",
    "        return f'Respuesta asociada al mensaje {mensaje}'"
   ]
  },
  {
   "cell_type": "markdown",
   "id": "a8aeb11a",
   "metadata": {
    "slideshow": {
     "slide_type": "subslide"
    }
   },
   "source": [
    "#### Cliente"
   ]
  },
  {
   "cell_type": "code",
   "execution_count": null,
   "id": "d9c0ae92",
   "metadata": {
    "slideshow": {
     "slide_type": "fragment"
    }
   },
   "outputs": [],
   "source": [
    "class Cliente:\n",
    "\n",
    "    def __init__(self, host, port):\n",
    "        self.host = host\n",
    "        self.port = port\n",
    "        self.socket_cliente = socket.socket(socket.AF_INET, socket.SOCK_STREAM)\n",
    "        try:\n",
    "            self.socket_cliente.connect((self.host, self.port))\n",
    "            thread = threading.Thread(target=self.escuchar_servidor, daemon=True)\n",
    "            thread.start()\n",
    "            self.recibir_input()\n",
    "        except ConnectionRefusedError:\n",
    "            self.socket_cliente.close()"
   ]
  },
  {
   "cell_type": "code",
   "execution_count": null,
   "id": "a4916102",
   "metadata": {
    "slideshow": {
     "slide_type": "fragment"
    }
   },
   "outputs": [],
   "source": [
    "    def recibir_input(self):\n",
    "        while True:\n",
    "            mensaje = input()\n",
    "            print(f'Enviando mensaje: {mensaje}')\n",
    "            self.enviar(mensaje)"
   ]
  },
  {
   "cell_type": "code",
   "execution_count": null,
   "id": "a6e8da65",
   "metadata": {
    "slideshow": {
     "slide_type": "subslide"
    }
   },
   "outputs": [],
   "source": [
    "    def escuchar_servidor(self):\n",
    "        try:\n",
    "            while True:\n",
    "                mensaje = self.recibir()\n",
    "                print(f'Mensaje recibido: {mensaje}')\n",
    "                self.manejar_mensaje_recibido(mensaje)\n",
    "        except ConnectionResetError:\n",
    "            print(\"Error de conexión con el servidor\")\n",
    "        finally:\n",
    "            self.socket_cliente.close()"
   ]
  },
  {
   "cell_type": "code",
   "execution_count": null,
   "id": "d7859ff9",
   "metadata": {
    "slideshow": {
     "slide_type": "fragment"
    }
   },
   "outputs": [],
   "source": [
    "    def recibir(self):\n",
    "        largo_bytes_mensaje = self.socket_cliente.recv(4)\n",
    "        largo_mensaje = int.from_bytes(largo_bytes_mensaje, byteorder='big')\n",
    "        bytes_mensaje = bytearray()\n",
    "        while len(bytes_mensaje) < largo_mensaje:\n",
    "            bytes_mensaje += self.socket_cliente.recv(60)\n",
    "        bytes_mensaje_limpios = bytes_mensaje.strip(b'\\x00')\n",
    "        mensaje = self.decodificar_mensaje(bytes_mensaje_limpios)\n",
    "        return mensaje"
   ]
  },
  {
   "cell_type": "code",
   "execution_count": null,
   "id": "e671ec64",
   "metadata": {
    "slideshow": {
     "slide_type": "fragment"
    }
   },
   "outputs": [],
   "source": [
    "    def enviar(self, mensaje):\n",
    "        bytes_mensaje = self.codificar_mensaje(mensaje)\n",
    "        while len(bytes_mensaje) % 60 != 0:\n",
    "            bytes_mensaje += b'\\x00'\n",
    "        largo_bytes_mensaje = len(bytes_mensaje).to_bytes(4, byteorder='big')\n",
    "        self.socket_cliente.sendall(largo_bytes_mensaje + bytes_mensaje)"
   ]
  },
  {
   "cell_type": "code",
   "execution_count": null,
   "id": "869dace3",
   "metadata": {
    "slideshow": {
     "slide_type": "subslide"
    }
   },
   "outputs": [],
   "source": [
    "    def codificar_mensaje(self, mensaje):\n",
    "        try:\n",
    "            mensaje_json = json.dumps(mensaje)\n",
    "            bytes_mensaje = mensaje_json.encode('utf-8')\n",
    "            return bytes_mensaje\n",
    "        except json.JSONDecodeError:\n",
    "            print('No se pudo codificar el mensaje')\n",
    "            return b''"
   ]
  },
  {
   "cell_type": "code",
   "execution_count": null,
   "id": "a5563a01",
   "metadata": {
    "slideshow": {
     "slide_type": "fragment"
    }
   },
   "outputs": [],
   "source": [
    "    def decodificar_mensaje(self, bytes_mensaje):\n",
    "        try:\n",
    "            mensaje = json.loads(bytes_mensaje)\n",
    "            return mensaje\n",
    "        except json.JSONDecodeError:\n",
    "            print('No se pudo decodificar el mensaje')\n",
    "            return ''"
   ]
  },
  {
   "cell_type": "code",
   "execution_count": null,
   "id": "005d6938",
   "metadata": {
    "slideshow": {
     "slide_type": "fragment"
    }
   },
   "outputs": [],
   "source": [
    "    def manejar_mensaje_recibido(self, mensaje):\n",
    "        print(f'Acción asociada al mensaje: {mensaje}') "
   ]
  }
 ],
 "metadata": {
  "celltoolbar": "Slideshow",
  "interpreter": {
   "hash": "aee8b7b246df8f9039afb4144a1f6fd8d2ca17a180786b69acc140d282b71a49"
  },
  "kernelspec": {
   "display_name": "Python 3 (ipykernel)",
   "language": "python",
   "name": "python3"
  },
  "language_info": {
   "codemirror_mode": {
    "name": "ipython",
    "version": 3
   },
   "file_extension": ".py",
   "mimetype": "text/x-python",
   "name": "python",
   "nbconvert_exporter": "python",
   "pygments_lexer": "ipython3",
   "version": "3.8.10"
  }
 },
 "nbformat": 4,
 "nbformat_minor": 5
}
